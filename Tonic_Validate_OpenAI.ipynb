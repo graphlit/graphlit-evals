{
  "nbformat": 4,
  "nbformat_minor": 0,
  "metadata": {
    "colab": {
      "provenance": [],
      "authorship_tag": "ABX9TyO/zT47v5sbicyCE/QipHnF",
      "include_colab_link": true
    },
    "kernelspec": {
      "name": "python3",
      "display_name": "Python 3"
    },
    "language_info": {
      "name": "python"
    }
  },
  "cells": [
    {
      "cell_type": "markdown",
      "metadata": {
        "id": "view-in-github",
        "colab_type": "text"
      },
      "source": [
        "<a href=\"https://colab.research.google.com/github/graphlit/graphlit-evals/blob/main/Tonic_Validate_OpenAI.ipynb\" target=\"_parent\"><img src=\"https://colab.research.google.com/assets/colab-badge.svg\" alt=\"Open In Colab\"/></a>"
      ]
    },
    {
      "cell_type": "code",
      "source": [
        "!pip install --upgrade tonic_validate"
      ],
      "metadata": {
        "id": "KLtOBMHf503H",
        "colab": {
          "base_uri": "https://localhost:8080/"
        },
        "outputId": "e5fc5162-7da9-4463-d3a7-a577aa73284d"
      },
      "execution_count": 1,
      "outputs": [
        {
          "output_type": "stream",
          "name": "stdout",
          "text": [
            "Requirement already satisfied: tonic_validate in /usr/local/lib/python3.10/dist-packages (4.0.6)\n",
            "Requirement already satisfied: appdirs<2.0.0,>=1.4.4 in /usr/local/lib/python3.10/dist-packages (from tonic_validate) (1.4.4)\n",
            "Requirement already satisfied: openai>=1.0.0 in /usr/local/lib/python3.10/dist-packages (from tonic_validate) (1.23.6)\n",
            "Requirement already satisfied: pydantic<3.0.0,>=2.6.4 in /usr/local/lib/python3.10/dist-packages (from tonic_validate) (2.7.0)\n",
            "Requirement already satisfied: python-dotenv<2.0.0,>=1.0.1 in /usr/local/lib/python3.10/dist-packages (from tonic_validate) (1.0.1)\n",
            "Requirement already satisfied: tiktoken<0.7.0,>=0.5.2 in /usr/local/lib/python3.10/dist-packages (from tonic_validate) (0.6.0)\n",
            "Requirement already satisfied: tqdm<5.0.0,>=4.66.2 in /usr/local/lib/python3.10/dist-packages (from tonic_validate) (4.66.2)\n",
            "Requirement already satisfied: typing-extensions<5.0.0,>=4.10.0 in /usr/local/lib/python3.10/dist-packages (from tonic_validate) (4.11.0)\n",
            "Requirement already satisfied: anyio<5,>=3.5.0 in /usr/local/lib/python3.10/dist-packages (from openai>=1.0.0->tonic_validate) (3.7.1)\n",
            "Requirement already satisfied: distro<2,>=1.7.0 in /usr/lib/python3/dist-packages (from openai>=1.0.0->tonic_validate) (1.7.0)\n",
            "Requirement already satisfied: httpx<1,>=0.23.0 in /usr/local/lib/python3.10/dist-packages (from openai>=1.0.0->tonic_validate) (0.27.0)\n",
            "Requirement already satisfied: sniffio in /usr/local/lib/python3.10/dist-packages (from openai>=1.0.0->tonic_validate) (1.3.1)\n",
            "Requirement already satisfied: annotated-types>=0.4.0 in /usr/local/lib/python3.10/dist-packages (from pydantic<3.0.0,>=2.6.4->tonic_validate) (0.6.0)\n",
            "Requirement already satisfied: pydantic-core==2.18.1 in /usr/local/lib/python3.10/dist-packages (from pydantic<3.0.0,>=2.6.4->tonic_validate) (2.18.1)\n",
            "Requirement already satisfied: regex>=2022.1.18 in /usr/local/lib/python3.10/dist-packages (from tiktoken<0.7.0,>=0.5.2->tonic_validate) (2023.12.25)\n",
            "Requirement already satisfied: requests>=2.26.0 in /usr/local/lib/python3.10/dist-packages (from tiktoken<0.7.0,>=0.5.2->tonic_validate) (2.31.0)\n",
            "Requirement already satisfied: idna>=2.8 in /usr/local/lib/python3.10/dist-packages (from anyio<5,>=3.5.0->openai>=1.0.0->tonic_validate) (3.7)\n",
            "Requirement already satisfied: exceptiongroup in /usr/local/lib/python3.10/dist-packages (from anyio<5,>=3.5.0->openai>=1.0.0->tonic_validate) (1.2.1)\n",
            "Requirement already satisfied: certifi in /usr/local/lib/python3.10/dist-packages (from httpx<1,>=0.23.0->openai>=1.0.0->tonic_validate) (2024.2.2)\n",
            "Requirement already satisfied: httpcore==1.* in /usr/local/lib/python3.10/dist-packages (from httpx<1,>=0.23.0->openai>=1.0.0->tonic_validate) (1.0.5)\n",
            "Requirement already satisfied: h11<0.15,>=0.13 in /usr/local/lib/python3.10/dist-packages (from httpcore==1.*->httpx<1,>=0.23.0->openai>=1.0.0->tonic_validate) (0.14.0)\n",
            "Requirement already satisfied: charset-normalizer<4,>=2 in /usr/local/lib/python3.10/dist-packages (from requests>=2.26.0->tiktoken<0.7.0,>=0.5.2->tonic_validate) (3.3.2)\n",
            "Requirement already satisfied: urllib3<3,>=1.21.1 in /usr/local/lib/python3.10/dist-packages (from requests>=2.26.0->tiktoken<0.7.0,>=0.5.2->tonic_validate) (2.0.7)\n"
          ]
        }
      ]
    },
    {
      "cell_type": "code",
      "source": [
        "!pip install --upgrade openai"
      ],
      "metadata": {
        "id": "V_RDaUwCLKm8",
        "colab": {
          "base_uri": "https://localhost:8080/"
        },
        "outputId": "5e32fdb3-6bba-4d6a-d42c-fd8dae00abc5"
      },
      "execution_count": 2,
      "outputs": [
        {
          "output_type": "stream",
          "name": "stdout",
          "text": [
            "Requirement already satisfied: openai in /usr/local/lib/python3.10/dist-packages (1.23.6)\n",
            "Requirement already satisfied: anyio<5,>=3.5.0 in /usr/local/lib/python3.10/dist-packages (from openai) (3.7.1)\n",
            "Requirement already satisfied: distro<2,>=1.7.0 in /usr/lib/python3/dist-packages (from openai) (1.7.0)\n",
            "Requirement already satisfied: httpx<1,>=0.23.0 in /usr/local/lib/python3.10/dist-packages (from openai) (0.27.0)\n",
            "Requirement already satisfied: pydantic<3,>=1.9.0 in /usr/local/lib/python3.10/dist-packages (from openai) (2.7.0)\n",
            "Requirement already satisfied: sniffio in /usr/local/lib/python3.10/dist-packages (from openai) (1.3.1)\n",
            "Requirement already satisfied: tqdm>4 in /usr/local/lib/python3.10/dist-packages (from openai) (4.66.2)\n",
            "Requirement already satisfied: typing-extensions<5,>=4.7 in /usr/local/lib/python3.10/dist-packages (from openai) (4.11.0)\n",
            "Requirement already satisfied: idna>=2.8 in /usr/local/lib/python3.10/dist-packages (from anyio<5,>=3.5.0->openai) (3.7)\n",
            "Requirement already satisfied: exceptiongroup in /usr/local/lib/python3.10/dist-packages (from anyio<5,>=3.5.0->openai) (1.2.1)\n",
            "Requirement already satisfied: certifi in /usr/local/lib/python3.10/dist-packages (from httpx<1,>=0.23.0->openai) (2024.2.2)\n",
            "Requirement already satisfied: httpcore==1.* in /usr/local/lib/python3.10/dist-packages (from httpx<1,>=0.23.0->openai) (1.0.5)\n",
            "Requirement already satisfied: h11<0.15,>=0.13 in /usr/local/lib/python3.10/dist-packages (from httpcore==1.*->httpx<1,>=0.23.0->openai) (0.14.0)\n",
            "Requirement already satisfied: annotated-types>=0.4.0 in /usr/local/lib/python3.10/dist-packages (from pydantic<3,>=1.9.0->openai) (0.6.0)\n",
            "Requirement already satisfied: pydantic-core==2.18.1 in /usr/local/lib/python3.10/dist-packages (from pydantic<3,>=1.9.0->openai) (2.18.1)\n"
          ]
        }
      ]
    },
    {
      "cell_type": "code",
      "source": [
        "import os\n",
        "from typing import Optional\n",
        "from tonic_validate import ValidateScorer, Benchmark, BenchmarkItem, LLMResponse, BenchmarkItem, Run\n",
        "from tonic_validate.metrics import AnswerSimilarityMetric\n",
        "from concurrent.futures import ThreadPoolExecutor\n",
        "from tqdm import tqdm\n",
        "import os\n",
        "import time\n",
        "from datetime import datetime\n",
        "import json\n",
        "import pandas as pd\n",
        "import matplotlib.pyplot as plt\n",
        "from google.colab import userdata"
      ],
      "metadata": {
        "id": "nadxflGVLSvC"
      },
      "execution_count": 3,
      "outputs": []
    },
    {
      "cell_type": "code",
      "source": [
        "from google.colab import drive\n",
        "\n",
        "drive.mount('/content/drive', force_remount=True)\n",
        "\n",
        "# configure shared, writable folder containing sample data\n",
        "tonic_validate_directory = \"/content/drive/MyDrive/Colab Notebooks/Tonic Validate\""
      ],
      "metadata": {
        "id": "zT4ZgOGB6Vtz",
        "colab": {
          "base_uri": "https://localhost:8080/"
        },
        "outputId": "11d01fe1-1787-4fad-9528-db8924e69b1a"
      },
      "execution_count": 4,
      "outputs": [
        {
          "output_type": "stream",
          "name": "stdout",
          "text": [
            "Mounted at /content/drive\n"
          ]
        }
      ]
    },
    {
      "cell_type": "markdown",
      "source": [
        "Initialize OpenAI"
      ],
      "metadata": {
        "id": "61HAwzKwL8Yk"
      }
    },
    {
      "cell_type": "code",
      "source": [
        "from openai import OpenAI\n",
        "\n",
        "os.environ['OPENAI_API_KEY'] = userdata.get('OPENAI_API_KEY')\n",
        "\n",
        "client = OpenAI()"
      ],
      "metadata": {
        "id": "v3_Fd27yLX9h"
      },
      "execution_count": 5,
      "outputs": []
    },
    {
      "cell_type": "markdown",
      "source": [
        "Load benchmark questions & answers"
      ],
      "metadata": {
        "id": "zImyrtBNMPNy"
      }
    },
    {
      "cell_type": "code",
      "source": [
        "with open(f\"{tonic_validate_directory}/Sample Data/qa_pairs.json\", \"r\") as f:\n",
        "    qa_pairs = json.load(f)\n",
        "\n",
        "# for testing\n",
        "qa_pairs = qa_pairs\n",
        "\n",
        "benchmark = Benchmark(\n",
        "    questions=[x[\"question\"] for x in qa_pairs],\n",
        "    answers=[x[\"answer\"] for x in qa_pairs]\n",
        ")\n",
        "\n",
        "def run_to_dataframe(run: Run) -> pd.DataFrame:\n",
        "    return pd.DataFrame(\n",
        "        {\n",
        "            \"reference_question\": [x.reference_question for x in run.run_data],\n",
        "            \"reference_answer\": [x.reference_answer for x in run.run_data],\n",
        "            \"llm_answer\": [x.llm_answer for x in run.run_data],\n",
        "            \"llm_context\": [json.dumps(x.llm_context) for x in run.run_data],\n",
        "            \"answer_similarity\": [x.scores[\"answer_similarity\"] for x in run.run_data]\n",
        "        }\n",
        "    )"
      ],
      "metadata": {
        "id": "AcMz7iV741mP"
      },
      "execution_count": 6,
      "outputs": []
    },
    {
      "cell_type": "markdown",
      "source": [
        "Define OpenAI helper functions"
      ],
      "metadata": {
        "id": "Gy6HLRD0NPmj"
      }
    },
    {
      "cell_type": "code",
      "source": [
        "def upload_essays():\n",
        "    file_ids = []\n",
        "\n",
        "    directory = f\"{tonic_validate_directory}/Sample Data/paul_graham_essays\"\n",
        "\n",
        "    start_time = time.time()\n",
        "\n",
        "    vector_store = client.beta.vector_stores.create(\n",
        "      name=\"OpenAI Rag Test\"\n",
        "    )\n",
        "\n",
        "    file_paths = [os.path.join(directory, filename) for filename in os.listdir(directory) if os.path.isfile(os.path.join(directory, filename))]\n",
        "    file_streams = [open(path, \"rb\") for path in file_paths]\n",
        "\n",
        "    file_batch = client.beta.vector_stores.file_batches.upload_and_poll(\n",
        "      vector_store_id=vector_store.id, files=file_streams\n",
        "    )\n",
        "\n",
        "    duration = time.time() - start_time\n",
        "\n",
        "    current_time = datetime.now()\n",
        "    formatted_time = current_time.strftime(\"%H:%M:%S\")\n",
        "\n",
        "    print(f\"Uploading essays took {duration:.2f} seconds. Finished at {formatted_time} UTC.\")\n",
        "\n",
        "    return vector_store.id\n",
        "\n",
        "def create_assistant(vector_store_id):\n",
        "    return client.beta.assistants.create(\n",
        "        name=f\"OpenAI Rag Test Files\",\n",
        "        instructions=(\n",
        "            \"You are a chatbot that answers questions about Paul Graham's essays. \"\n",
        "            \"Use your knowledge base to best respond to questions. \"\n",
        "            \"NO MATTER WHAT, DO NOT PULL INFORMATION FROM EXTERNAL KNOWLEDGE. ONLY USE YOUR OWN KNOWLEDGE BASE.\"\n",
        "        ),\n",
        "        model=\"gpt-4-turbo\",\n",
        "        tools=[{\"type\": \"file_search\"}],\n",
        "        tool_resources={\n",
        "          \"file_search\": {\n",
        "            \"vector_store_ids\": [vector_store_id]\n",
        "          }\n",
        "        }\n",
        "    )\n",
        "\n",
        "# WARNING\n",
        "# this deletes all vector stores associated with your openai api key.\n",
        "def cleanup_vector_stores():\n",
        "    for v in client.beta.vector_stores.list():\n",
        "        client.beta.vector_stores.delete(v.id)\n",
        "\n",
        "        print(f'Deleted vector store [{v.id}].')\n",
        "        time.sleep(1)\n",
        "\n",
        "def cleanup_files():\n",
        "    for f in client.files.list():\n",
        "        client.files.delete(f.id)\n",
        "\n",
        "        print(f'Deleted file [{f.id}].')\n",
        "        time.sleep(1)"
      ],
      "metadata": {
        "id": "365VJHH9NO6h"
      },
      "execution_count": 7,
      "outputs": []
    },
    {
      "cell_type": "markdown",
      "source": [
        "Define OpenAI RAG function"
      ],
      "metadata": {
        "id": "PDvIqR1wNV4F"
      }
    },
    {
      "cell_type": "code",
      "source": [
        "def get_openai_rag_response(benchmarkItem: BenchmarkItem, assistant):\n",
        "    prompt = benchmarkItem.question\n",
        "    thread = client.beta.threads.create(\n",
        "        messages=[\n",
        "            {\n",
        "                \"role\": \"user\",\n",
        "                \"content\": prompt\n",
        "            }\n",
        "        ]\n",
        "    )\n",
        "    run = client.beta.threads.runs.create(\n",
        "        thread_id=thread.id,\n",
        "        assistant_id=assistant.id,\n",
        "    )\n",
        "    max_retries = 10\n",
        "    base = 0.1\n",
        "    num_retries = 0\n",
        "    try:\n",
        "        while max_retries > 0:\n",
        "            if max_retries == 0:\n",
        "                client.beta.threads.delete(thread.id)\n",
        "                raise Exception(\"Max tries exceeded\")\n",
        "            messages = client.beta.threads.messages.list(\n",
        "                thread_id=thread.id,\n",
        "            )\n",
        "            if len(messages.data)>0 and len(messages.data[0].content)>0:\n",
        "                content = messages.data[0].content[0]\n",
        "                response_message = content.text.value\n",
        "                if response_message != prompt and response_message.strip():\n",
        "#                    annotations = messages.data[0].content[0].text.annotations\n",
        "#                    quotes = [x.file_citation.quote for x in annotations if x.file_citation]\n",
        "                    client.beta.threads.delete(thread.id)\n",
        "                    return response_message\n",
        "            time.sleep(base * (2 ** num_retries))\n",
        "            num_retries += 1\n",
        "            max_retries -= 1\n",
        "    except Exception as e:\n",
        "        print(e)\n",
        "        client.beta.threads.delete(thread.id)\n",
        "        raise e"
      ],
      "metadata": {
        "id": "COf9VDbzNM87"
      },
      "execution_count": 8,
      "outputs": []
    },
    {
      "cell_type": "markdown",
      "source": [
        "Initialize OpenAI test"
      ],
      "metadata": {
        "id": "knKpHe5nNl42"
      }
    },
    {
      "cell_type": "code",
      "source": [
        "cleanup_vector_stores()\n",
        "cleanup_files()\n",
        "\n",
        "assistant = None\n",
        "\n",
        "vector_store_id = upload_essays()\n",
        "\n",
        "if vector_store_id is not None:\n",
        "    print(f'Essays ingested into vector store [{vector_store_id}].')\n",
        "\n",
        "    assistant = create_assistant(vector_store_id)"
      ],
      "metadata": {
        "id": "S5vv7_gMNktm",
        "colab": {
          "base_uri": "https://localhost:8080/"
        },
        "outputId": "0ac5fecc-74a0-4c43-b3ef-d0130750b75c"
      },
      "execution_count": 9,
      "outputs": [
        {
          "output_type": "stream",
          "name": "stdout",
          "text": [
            "Deleted file [file-K5n65uMWeUmJtbmbNR10ELLv].\n",
            "Deleted file [file-4lzW13eAZqmaBv9i8QejpqRN].\n",
            "Deleted file [file-1vOWhUjfkDgLem70lhyXS3Q0].\n",
            "Deleted file [file-zAa09lqcS5y5TxP5ZjQQkXKw].\n",
            "Deleted file [file-x1YSAiRFo1OOJx0EiQuiQ4yr].\n",
            "Deleted file [file-v96URAwEWAGPnX8dh83ylfCB].\n",
            "Deleted file [file-rWcUEn1J3IKNg8y5vRy8Ynlu].\n",
            "Deleted file [file-ovI4ysUeE7BkeiQEWd2Y4IWw].\n",
            "Deleted file [file-iqpwpSYFK23LFtR8dFgxr8On].\n",
            "Deleted file [file-e1iPsosQ0xRDjfRsPWDNmw9d].\n",
            "Deleted file [file-ctl6pzrk1bVYTrGVJzCfvRsP].\n",
            "Deleted file [file-VoJAFrfRwzvtA3Ne8owUMaAK].\n",
            "Deleted file [file-BdwKLm9RLAdEe6bh4s2zp3Dp].\n",
            "Deleted file [file-155UWGioFkCKe3TRvnuNXo86].\n",
            "Deleted file [file-veUxHhtHzKfYKt8aDl0gO5LY].\n",
            "Deleted file [file-tBoxQE0X73g3DTctUlxGgn3v].\n",
            "Deleted file [file-r5quANzUyAEsK9W93sdJTG2H].\n",
            "Deleted file [file-mcqBNMC1bavp1NnYOmTjYDFV].\n",
            "Deleted file [file-jXO54ZNUx6NPayGeimRhtd3B].\n",
            "Deleted file [file-fVG5LhzCZHDHxNZuw5XS0QKF].\n",
            "Deleted file [file-Sb7CYXx1fqBzVBYEeuwk5Jnr].\n",
            "Deleted file [file-Pw0u9n9Tlo0JtZBY8f7ksOF1].\n",
            "Deleted file [file-L7FUscuFHpZqOzuB7yIg9YBY].\n",
            "Deleted file [file-HThYDP4yiCbqQnz5lh13pPCg].\n",
            "Deleted file [file-Cs4tPph2gPE94foWxgAyk9q1].\n",
            "Deleted file [file-7utSVNIpFxSIKLbQHti45Lpm].\n",
            "Deleted file [file-ylQeDMv092eodHZwCIS9OYak].\n",
            "Deleted file [file-rUmqYzu1w0E5Tm3sgXSGEP5r].\n",
            "Deleted file [file-hT4No3is3evDKt5o8yWgN99K].\n",
            "Deleted file [file-hRiiywmPCNmLEFs2SJAco643].\n",
            "Deleted file [file-gG0gdK717Sr0VIApR6K14zhK].\n",
            "Deleted file [file-gF568qTr4x7gTjXLTU0yiWVK].\n",
            "Deleted file [file-f5cis6Gu08kBW6MsMVt5CERP].\n",
            "Deleted file [file-f0M5SWZFhXbFBInY8uSXYQM3].\n",
            "Deleted file [file-THGVyDtUERrSfvAT0LO6VKBp].\n",
            "Deleted file [file-Qs3BFpvZhejIoFXlajjAJYss].\n",
            "Deleted file [file-Q8ixfI1NKtwgPJvNMonyx7K7].\n",
            "Deleted file [file-MHFzKo7jCT3iZQGeeciWc1zK].\n",
            "Deleted file [file-6ejmTb1wkaDo4iry2MYmGV52].\n",
            "Deleted file [file-5DBoPBVYmpln7EjR5zXM3IMR].\n",
            "Deleted file [file-p2mZx7Lt3WDpz3vkymtIexTn].\n",
            "Deleted file [file-oyWmK4hMUozgu1DBA4T3IiAq].\n",
            "Deleted file [file-nsjNBJQTWN8UrqZl9DVCHyOZ].\n",
            "Deleted file [file-mFKdVNN2KeOjpDYXjo1xb4fN].\n",
            "Deleted file [file-lSdftStBHYrCbIuIgXtJcAZ9].\n",
            "Deleted file [file-kzZZIfPmbMFLdpTDycfZskMh].\n",
            "Deleted file [file-gEs3dqSrDmQowTuSw32JTmg1].\n",
            "Deleted file [file-eaE2GMotqtimAYbKGw4JrR10].\n",
            "Deleted file [file-Y7VHu7x39YcgiUWbM7GbC1d4].\n",
            "Deleted file [file-MMWi7XY9HOWJSOlWJbaSUnJB].\n",
            "Deleted file [file-H1VNmxN31MXQTPTNB8yU5Kz6].\n",
            "Deleted file [file-76DPmOVrfIyCojpoC5abXD73].\n",
            "Deleted file [file-ypXywZyFQuZailcMWYhNbfAX].\n",
            "Deleted file [file-rfkY8k6ZwAoxcGT9dNKuCb0Y].\n",
            "Deleted file [file-mpu1T15FucVRBuLSwsIp49HI].\n",
            "Deleted file [file-kQPYjM0ZRCK6EN2QoBcet8f4].\n",
            "Deleted file [file-k4MVuY2RDRkd7FkyJKztlKQw].\n",
            "Deleted file [file-hguEiExWoEB8ngG3ZIouwsDo].\n",
            "Deleted file [file-TpSTp0gqZHKF6AQ6eb8a30pc].\n",
            "Deleted file [file-SbMNzMqIIwZQAZajFtW1GN5E].\n",
            "Deleted file [file-DV04M6yTjSTAUOIywXQuX5td].\n",
            "Deleted file [file-5Eh8UsxhctCdv8vvisWMgAgf].\n",
            "Deleted file [file-2hg7SqoPf57ZHtj5hS1idJMC].\n",
            "Deleted file [file-zG2Mngr2xCqgOrOTyICTdQap].\n",
            "Deleted file [file-wRbzUG5TJvUJM9BNKdU5bR2w].\n",
            "Deleted file [file-vPvClnlxc1ygoCeFwBQml0Kh].\n",
            "Deleted file [file-vCyzmdEhh4vYsnqirisMisFa].\n",
            "Deleted file [file-lUgD1DIBb4wzIYvqfX7O3Hqn].\n",
            "Deleted file [file-h42w7przxHep6dN4C922VGZm].\n",
            "Deleted file [file-fYKXPQKmRFPkg8Hh9LwyUDxm].\n",
            "Deleted file [file-WNdU8SbfphhGfW89wxs8UnKm].\n",
            "Deleted file [file-VlROWODvpSidSOExLmBZUQlv].\n",
            "Deleted file [file-QELPWlfZsvOwSFk1YtGEkvrL].\n",
            "Deleted file [file-FLYPRsMzZ3pQl6qXYnIbCyao].\n",
            "Deleted file [file-BO39TNkznOLEV2zfv5VjcFPy].\n",
            "Deleted file [file-AtpYBbvrL1VpxPIDbAlqJMQ8].\n",
            "Deleted file [file-9WuH5wmPbiXbWHWwyZMMidll].\n",
            "Deleted file [file-xdsiI8mVv1ZOPznGOH3gyJ5K].\n",
            "Deleted file [file-rXCRFwZr6Y4Sa5ui0G1t28AH].\n",
            "Deleted file [file-rBvT1AWtYpfxxsoWGljmPfVm].\n",
            "Deleted file [file-jk8kgnAflnAWHEOFxtE80ZdO].\n",
            "Deleted file [file-dm6D1yJX1rPekFYnn1eEOTlh].\n",
            "Deleted file [file-OhsyYfW3ukK435ordGUywtPs].\n",
            "Deleted file [file-KvqFCzGEintXagDalY1sQrNF].\n",
            "Deleted file [file-JoZhklYcqybKsoUjQSv2S0FS].\n",
            "Deleted file [file-FkzmrtaOOp5hBlyOF10nhK6x].\n",
            "Deleted file [file-DvQxW2dicPpfCXSLP8XVIMov].\n",
            "Deleted file [file-8wptCyzsOAQ1dJtzaPl0FH13].\n",
            "Deleted file [file-0ksmajJciwAeXnCwxCqWdM22].\n",
            "Deleted file [file-xp5v5H9IXws7iKDHk9EZsYsv].\n",
            "Deleted file [file-wsGRYmjzQ57s4IfcQYkyBDre].\n",
            "Deleted file [file-uNyaYYRmmmnxfiEpQlb8lx7g].\n",
            "Deleted file [file-r7Pc6VaPpJXHv4CgWDT1oyZP].\n",
            "Deleted file [file-bA2aqztJKfmiEEMzqTM3lWTm].\n",
            "Deleted file [file-Ycem5ZnaaKkG5bogJgFfUHz6].\n",
            "Deleted file [file-TUeANgbyn0IiyhWLfKYoAZY4].\n",
            "Deleted file [file-RQn4ff5jjHcL0LGkMGy5yaB5].\n",
            "Deleted file [file-KhlhFadubnK2wP4EBRAJf3vV].\n",
            "Deleted file [file-GUS2yrMeXWLhUqQBe2hHHlVx].\n",
            "Deleted file [file-70pv0kNeLqCU29Pskv7PEOZy].\n",
            "Deleted file [file-5IY0tPS9Qs5j7KyCixLHg51X].\n",
            "Deleted file [file-tWDZbmlAQq41nipeTVG6i57x].\n",
            "Deleted file [file-tMupwVg8hIrY0cV6pzWVrA20].\n",
            "Deleted file [file-t4NgYlBvqOYBwmbdAIYSEK7x].\n",
            "Deleted file [file-r0erLAB1qcLgMpNqf7cwIrJX].\n",
            "Deleted file [file-qrkUeU3DZ1Lv07xBQ522NK7C].\n",
            "Deleted file [file-EpG1B37jpYi3rt33BWOgj6bv].\n",
            "Deleted file [file-CGt2ZMyhjSmblIQMb3gkgdfO].\n",
            "Deleted file [file-5gDi3307aPwfFZ1UNzC27yH7].\n",
            "Deleted file [file-3trc6TQbMcAMBhi0l9ebSwRe].\n",
            "Deleted file [file-3eSFY3rqc3olnfAkI4WRsQQ4].\n",
            "Deleted file [file-0ZWvLqJcClSukR0qRhmpluMO].\n",
            "Deleted file [file-tECucDpeyXDJ9h57Dx7x6qtp].\n",
            "Deleted file [file-qZZyPiYqbTiq9fzmG9hNuONz].\n",
            "Deleted file [file-gbvIqGbjS7S4V3TRtOj7n1dA].\n",
            "Deleted file [file-eSivm38so7uLWh9NKQZhGSws].\n",
            "Deleted file [file-dZW4p3mIVlQ0RmumYUDuTJ18].\n",
            "Deleted file [file-arWSxTR5VbMKMxqUkpKjzbIh].\n",
            "Deleted file [file-ZvKXYO5vOIsqk6zX4DrKmf7U].\n",
            "Deleted file [file-ZVGrJf03wKoRYz9KmiMGCMBc].\n",
            "Deleted file [file-SeNwnLlCRnVOh83rfLWDk9WN].\n",
            "Deleted file [file-QFZ5HDkifs9PcrP1aXc213Nb].\n",
            "Deleted file [file-OtdOmCmCygV9QU8vuZPnsTsV].\n",
            "Deleted file [file-7YNhQawSNPW5h6MlLPrS9uc4].\n",
            "Deleted file [file-56Um9eMCBjj15Y6nUUjom8Ej].\n",
            "Deleted file [file-4M0tgDDXjBkdguva077CzfjI].\n",
            "Deleted file [file-vtlfhVmUqoQz0KuTM3giZdDF].\n",
            "Deleted file [file-cK6lABd1FJxIpYdPGeIlt7k7].\n",
            "Deleted file [file-UFVneB4xvlP0AGWxy1KhXvqQ].\n",
            "Deleted file [file-OfvsJ77KKfXKIpPjEZwsSpAW].\n",
            "Deleted file [file-HEjWyZLwyAdLkTbhqX93YnPN].\n",
            "Deleted file [file-GdTyHgfidmLdTpadKQurDEfK].\n",
            "Deleted file [file-G9yNXBaqE1jp9tjG4qY0QJzM].\n",
            "Deleted file [file-DF8MTSGYm7vF5ktSodOUSEbB].\n",
            "Deleted file [file-AYrOK6KoAf8STt6mGsz1VMWH].\n",
            "Deleted file [file-8l2jEW1i2cdVZCxe5WfU7eOJ].\n",
            "Deleted file [file-3hqf0k8w451o4PP0n3Ab1UKL].\n",
            "Deleted file [file-xyYzPRi54ztyNKLgvx2l29s1].\n",
            "Deleted file [file-viBcRzXRi6iTTDPxFM3stw29].\n",
            "Deleted file [file-uFZ7PIjGiq03nqDUadPRvBeI].\n",
            "Deleted file [file-mctLvadGxaQZCzLMm5DjdWXI].\n",
            "Deleted file [file-al5ovGH5gmtxe0kce7KilmpF].\n",
            "Deleted file [file-aa8eu4vHgzUQTaFQ4RotDljg].\n",
            "Deleted file [file-aI8MQh8tWF5pRhshv7y9QdHz].\n",
            "Deleted file [file-VbIRuZZB7Glti6mSXcb0MkUT].\n",
            "Deleted file [file-R7cIyGom41QEkwQLHV18Xx07].\n",
            "Deleted file [file-LzBb8nz4UAuQTsJElRikagvJ].\n",
            "Deleted file [file-LN7yTmYx0o0JAloACyEggMvo].\n",
            "Deleted file [file-JK4oKmd7lBsF38qpPWVtAPNj].\n",
            "Deleted file [file-IyZU95CcwMZJ6pkLCIzjV21p].\n",
            "Deleted file [file-yQRH6tCgx7YovDFdOGt328OV].\n",
            "Deleted file [file-xFxmubqEiv1rpAtgBA95zy3S].\n",
            "Deleted file [file-s7VzccVRIfFQMrQzjbDxoU9r].\n",
            "Deleted file [file-mhtYk7mCk94g6OpEL35SRRcK].\n",
            "Deleted file [file-kUnKfESgsZm2ssmhONzKlRPb].\n",
            "Deleted file [file-eq0PFTK2nuknUR7djbC4q2rU].\n",
            "Deleted file [file-bJ0HRLxPsGJPhK8vtEnmPAoN].\n",
            "Deleted file [file-OkXuUp9vz47SEfn7Sssc7Fxe].\n",
            "Deleted file [file-GBlsTfg6N6HSqq4g8RAFBof8].\n",
            "Deleted file [file-6TcIrlfbL41m0ZOz7KrqnmvW].\n",
            "Deleted file [file-1Hui7CdsJgNGMxlaK6fusdMD].\n",
            "Deleted file [file-xLC4g8sB32K2ei6yQKypLCQm].\n",
            "Deleted file [file-tbkKtCVJKqtEWfDbKUbbXSmy].\n",
            "Deleted file [file-pBDUIclQtRjwWbaXqVH5lyyP].\n",
            "Deleted file [file-nmxwClsiZF0rofDjivqJapQo].\n",
            "Deleted file [file-lnu8QNc8Z69ALIl1MByXGInq].\n",
            "Deleted file [file-ipl69RIJfmoc80EOl96J7KyI].\n",
            "Deleted file [file-eEJNZWmdII29vZblneWYZ8J5].\n",
            "Deleted file [file-WKtfkQOEtnJ4z58cDEE0J6VD].\n",
            "Deleted file [file-AYLs9cW8geU1kvr7eVzZe4k0].\n",
            "Deleted file [file-7dXCE6u7HVBGSDYKMTsIPyNb].\n",
            "Deleted file [file-6v03UsEdyh4xWLLShAkgC16i].\n",
            "Deleted file [file-0VIGKct7oCiiyokdhAAvmLzL].\n",
            "Deleted file [file-tRqVIEbAoT2tcV4oTuKo2Wam].\n",
            "Deleted file [file-rpv1oT57ydC8PyAOSr8qaBlN].\n",
            "Deleted file [file-kZAl6Y3rJApvehts7WsZGif0].\n",
            "Deleted file [file-a0It7cHnZvYsMEiiEJ2zajzj].\n",
            "Deleted file [file-XIbUInh7rUTgrPXXcPG0fNp9].\n",
            "Deleted file [file-NfAjjeUMjTppU523PkheNtMp].\n",
            "Deleted file [file-N1SUL7CdQ6cYSjSbBjw72itb].\n",
            "Deleted file [file-MAtZg3XCdAOeaMkO2NAT2NXK].\n",
            "Deleted file [file-KSwPfXjzBVvj7IebBxIdonik].\n",
            "Deleted file [file-C2QvtMllfkm9g4pacF8HpSki].\n",
            "Deleted file [file-AfdjI8WMjrOCNW2LL5P3KOgr].\n",
            "Deleted file [file-ve70C2HTf8tf0MSCitbT6nqw].\n",
            "Deleted file [file-oLkBxJ27IP6gf3nyhhBPMkIi].\n",
            "Deleted file [file-mt9hGYn4aP7pjkSrINdFPRWS].\n",
            "Deleted file [file-djZ1Q0bCSXDlOa67uUTVo05z].\n",
            "Deleted file [file-KpZGcCtCxEVUQvOGyclzYdG6].\n",
            "Deleted file [file-ECxRui1dQrjaPb4n0PBjumoI].\n",
            "Deleted file [file-DWd1bdC1Tk6liwWFIINAYXNH].\n",
            "Deleted file [file-8SdbUPcHQPc4sM5mDIN7zqKM].\n",
            "Deleted file [file-69DxYnygHEAA9crfMJVC4Nej].\n",
            "Deleted file [file-50YTBb1l66hT96XiaGO3Fe81].\n",
            "Deleted file [file-tS6LO42FBBxd3urYwskYbsSf].\n",
            "Deleted file [file-t7GglJqSSy0cuhDpmXshit3K].\n",
            "Deleted file [file-sAfLdvkk7A8qiBYrDpt0Xxhl].\n",
            "Deleted file [file-cBW5IGHOQm7Lb0iNxX2swkaX].\n",
            "Deleted file [file-PkLqJE0POxfZ7bBTwJUxPAxh].\n",
            "Deleted file [file-IDWIfF0Wv7FUggpQy2Kcj9Tm].\n",
            "Deleted file [file-GPNVfxjMWxASIWrlDHUv1QVU].\n",
            "Deleted file [file-DW685Mdig8Lqj5MbwB3EeEvr].\n",
            "Deleted file [file-Bpplsby17AqmUnAGNOwbwOmN].\n",
            "Deleted file [file-8P6PutbeTaw3TwRCA7kId9ro].\n",
            "Deleted file [file-7d1GYrmdNPwsGpN6EzKKTu6d].\n",
            "Deleted file [file-5ksjntK4hnyfWsHQKsMenneo].\n",
            "Deleted file [file-rtkyBPHHCEGtpiuPbZhpY0tS].\n",
            "Deleted file [file-UK5IdAS7Nuj94f1UnhdSr1Y1].\n",
            "Deleted file [file-S07OUH53IX4z6rZH8MBxztqK].\n",
            "Deleted file [file-O9XzgCSvykSCF25mGgiXteef].\n",
            "Deleted file [file-N2FhE1OkqMlvpec2NgxhSzxV].\n",
            "Deleted file [file-8ic8Tgs0ovpwfR2RQ6UTV7y1].\n",
            "Uploading essays took 39.26 seconds. Finished at 05:29:01 UTC.\n",
            "Essays ingested into vector store [vs_uwF9B7asYswIgIZlm4onVcNs].\n"
          ]
        }
      ]
    },
    {
      "cell_type": "markdown",
      "source": [
        "Validate OpenAI response"
      ],
      "metadata": {
        "id": "MyV1yTfON6Ro"
      }
    },
    {
      "cell_type": "code",
      "source": [
        "benchmark_item = BenchmarkItem(\n",
        "    question=\"What key components are necessary to create a technology hub according to Paul Graham?\",\n",
        "    answer=\"\"\n",
        ")\n",
        "\n",
        "print(get_openai_rag_response(benchmark_item, assistant))"
      ],
      "metadata": {
        "id": "JOQxlxI9N8ER",
        "colab": {
          "base_uri": "https://localhost:8080/"
        },
        "outputId": "56bed4ed-d189-489b-bd16-2a21a48333b9"
      },
      "execution_count": 10,
      "outputs": [
        {
          "output_type": "stream",
          "name": "stdout",
          "text": [
            "According to Paul Graham, several key components are necessary to create a technology hub:\n",
            "\n",
            "1. **Rich People**: A technology hub requires rich people who can invest in startups. Wealthy individuals are crucial as they provide the financial resources new firms need to develop their technologies and scale their operations.\n",
            "\n",
            "2. **Nerds**: A robust presence of intelligent and skilled individuals – the 'nerds' – is also vital. These individuals provide the expertise and innovation required in a thriving tech hub.\n",
            "\n",
            "3. **Time**: The development of a technology hub doesn't occur overnight. It requires a significant amount of time for the necessary ecosystem to evolve, incorporating education, business development, and networking opportunities to foster a supportive environment for tech companies.\n",
            "\n",
            "4. **Friendliness to Startups**: The regulatory and cultural environment should be favorable for startups. This includes everything from offering tax benefits to having a local government that supports business innovation and development.\n",
            "\n",
            "5. **Personality**: A technology hub should have a personality that attracts the type of people who innovate and start tech companies. This includes being open to new ideas and having an environment that is not only tolerant but also supportive of the challenges faced by startups.\n",
            "\n",
            "These components interplay to create an environment conducive to the growth and sustenance of a thriving tech hub.\n"
          ]
        }
      ]
    },
    {
      "cell_type": "markdown",
      "source": [
        "Perform OpenAI test and score run"
      ],
      "metadata": {
        "id": "V4MXjbFYOPTB"
      }
    },
    {
      "cell_type": "code",
      "source": [
        "raw_openai_responses = []\n",
        "for x in tqdm(benchmark.items):\n",
        "    raw_openai_responses.append(get_openai_rag_response(x, assistant))"
      ],
      "metadata": {
        "id": "CYxCNhFyOE81",
        "colab": {
          "base_uri": "https://localhost:8080/"
        },
        "outputId": "d8b2a295-6525-44e4-99b3-e73bb19961ec"
      },
      "execution_count": 11,
      "outputs": [
        {
          "output_type": "stream",
          "name": "stderr",
          "text": [
            "100%|██████████| 55/55 [14:18<00:00, 15.61s/it]\n"
          ]
        }
      ]
    },
    {
      "cell_type": "code",
      "source": [
        "openai_responses = [\n",
        "    LLMResponse(\n",
        "        llm_answer=r, llm_context_list=[], benchmark_item=bi\n",
        "    ) for r, bi in zip(raw_openai_responses, benchmark.items)\n",
        "]"
      ],
      "metadata": {
        "id": "Ge-VbqahOsPL"
      },
      "execution_count": 12,
      "outputs": []
    },
    {
      "cell_type": "code",
      "source": [
        "scorer = ValidateScorer(model_evaluator=\"gpt-4-turbo\", metrics=[AnswerSimilarityMetric()])\n",
        "openai_run = scorer.score_run(openai_responses, parallelism=5)"
      ],
      "metadata": {
        "id": "DOLEjdrUOuB9",
        "colab": {
          "base_uri": "https://localhost:8080/"
        },
        "outputId": "e2afb9cc-c145-41c2-f748-87b07dd0d8ca"
      },
      "execution_count": 13,
      "outputs": [
        {
          "output_type": "stream",
          "name": "stderr",
          "text": [
            "Scoring responses:   0%|          | 0/55 [00:00<?, ?it/s]INFO:httpx:HTTP Request: POST https://api.openai.com/v1/chat/completions \"HTTP/1.1 200 OK\"\n",
            "Scoring responses:   2%|▏         | 1/55 [00:00<00:30,  1.75it/s]INFO:httpx:HTTP Request: POST https://api.openai.com/v1/chat/completions \"HTTP/1.1 200 OK\"\n",
            "Scoring responses:   4%|▎         | 2/55 [00:00<00:15,  3.32it/s]INFO:httpx:HTTP Request: POST https://api.openai.com/v1/chat/completions \"HTTP/1.1 200 OK\"\n",
            "INFO:httpx:HTTP Request: POST https://api.openai.com/v1/chat/completions \"HTTP/1.1 200 OK\"\n",
            "Scoring responses:   7%|▋         | 4/55 [00:01<00:11,  4.34it/s]INFO:httpx:HTTP Request: POST https://api.openai.com/v1/chat/completions \"HTTP/1.1 200 OK\"\n",
            "INFO:httpx:HTTP Request: POST https://api.openai.com/v1/chat/completions \"HTTP/1.1 200 OK\"\n",
            "Scoring responses:  11%|█         | 6/55 [00:01<00:07,  6.57it/s]INFO:httpx:HTTP Request: POST https://api.openai.com/v1/chat/completions \"HTTP/1.1 200 OK\"\n",
            "INFO:httpx:HTTP Request: POST https://api.openai.com/v1/chat/completions \"HTTP/1.1 200 OK\"\n",
            "Scoring responses:  15%|█▍        | 8/55 [00:01<00:05,  8.28it/s]INFO:httpx:HTTP Request: POST https://api.openai.com/v1/chat/completions \"HTTP/1.1 200 OK\"\n",
            "INFO:httpx:HTTP Request: POST https://api.openai.com/v1/chat/completions \"HTTP/1.1 200 OK\"\n",
            "Scoring responses:  18%|█▊        | 10/55 [00:01<00:06,  6.74it/s]INFO:httpx:HTTP Request: POST https://api.openai.com/v1/chat/completions \"HTTP/1.1 200 OK\"\n",
            "Scoring responses:  20%|██        | 11/55 [00:01<00:06,  6.89it/s]INFO:httpx:HTTP Request: POST https://api.openai.com/v1/chat/completions \"HTTP/1.1 200 OK\"\n",
            "Scoring responses:  22%|██▏       | 12/55 [00:02<00:08,  5.12it/s]INFO:httpx:HTTP Request: POST https://api.openai.com/v1/chat/completions \"HTTP/1.1 200 OK\"\n",
            "Scoring responses:  24%|██▎       | 13/55 [00:02<00:07,  5.48it/s]INFO:httpx:HTTP Request: POST https://api.openai.com/v1/chat/completions \"HTTP/1.1 200 OK\"\n",
            "INFO:httpx:HTTP Request: POST https://api.openai.com/v1/chat/completions \"HTTP/1.1 200 OK\"\n",
            "INFO:httpx:HTTP Request: POST https://api.openai.com/v1/chat/completions \"HTTP/1.1 200 OK\"\n",
            "Scoring responses:  29%|██▉       | 16/55 [00:02<00:06,  6.42it/s]INFO:httpx:HTTP Request: POST https://api.openai.com/v1/chat/completions \"HTTP/1.1 200 OK\"\n",
            "Scoring responses:  31%|███       | 17/55 [00:02<00:05,  6.82it/s]INFO:httpx:HTTP Request: POST https://api.openai.com/v1/chat/completions \"HTTP/1.1 200 OK\"\n",
            "INFO:httpx:HTTP Request: POST https://api.openai.com/v1/chat/completions \"HTTP/1.1 200 OK\"\n",
            "INFO:httpx:HTTP Request: POST https://api.openai.com/v1/chat/completions \"HTTP/1.1 200 OK\"\n",
            "Scoring responses:  36%|███▋      | 20/55 [00:03<00:04,  7.91it/s]INFO:httpx:HTTP Request: POST https://api.openai.com/v1/chat/completions \"HTTP/1.1 200 OK\"\n",
            "Scoring responses:  38%|███▊      | 21/55 [00:03<00:04,  8.03it/s]INFO:httpx:HTTP Request: POST https://api.openai.com/v1/chat/completions \"HTTP/1.1 200 OK\"\n",
            "Scoring responses:  40%|████      | 22/55 [00:03<00:05,  6.47it/s]INFO:httpx:HTTP Request: POST https://api.openai.com/v1/chat/completions \"HTTP/1.1 200 OK\"\n",
            "Scoring responses:  42%|████▏     | 23/55 [00:03<00:04,  6.59it/s]INFO:httpx:HTTP Request: POST https://api.openai.com/v1/chat/completions \"HTTP/1.1 200 OK\"\n",
            "INFO:httpx:HTTP Request: POST https://api.openai.com/v1/chat/completions \"HTTP/1.1 200 OK\"\n",
            "INFO:httpx:HTTP Request: POST https://api.openai.com/v1/chat/completions \"HTTP/1.1 200 OK\"\n",
            "Scoring responses:  45%|████▌     | 25/55 [00:03<00:03,  7.62it/s]INFO:httpx:HTTP Request: POST https://api.openai.com/v1/chat/completions \"HTTP/1.1 200 OK\"\n",
            "INFO:httpx:HTTP Request: POST https://api.openai.com/v1/chat/completions \"HTTP/1.1 200 OK\"\n",
            "Scoring responses:  49%|████▉     | 27/55 [00:04<00:04,  6.04it/s]INFO:httpx:HTTP Request: POST https://api.openai.com/v1/chat/completions \"HTTP/1.1 200 OK\"\n",
            "INFO:httpx:HTTP Request: POST https://api.openai.com/v1/chat/completions \"HTTP/1.1 200 OK\"\n",
            "Scoring responses:  55%|█████▍    | 30/55 [00:04<00:03,  7.01it/s]INFO:httpx:HTTP Request: POST https://api.openai.com/v1/chat/completions \"HTTP/1.1 200 OK\"\n",
            "Scoring responses:  56%|█████▋    | 31/55 [00:04<00:04,  5.96it/s]INFO:httpx:HTTP Request: POST https://api.openai.com/v1/chat/completions \"HTTP/1.1 200 OK\"\n",
            "Scoring responses:  58%|█████▊    | 32/55 [00:05<00:03,  5.94it/s]INFO:httpx:HTTP Request: POST https://api.openai.com/v1/chat/completions \"HTTP/1.1 200 OK\"\n",
            "INFO:httpx:HTTP Request: POST https://api.openai.com/v1/chat/completions \"HTTP/1.1 200 OK\"\n",
            "Scoring responses:  62%|██████▏   | 34/55 [00:05<00:03,  6.11it/s]INFO:httpx:HTTP Request: POST https://api.openai.com/v1/chat/completions \"HTTP/1.1 200 OK\"\n",
            "Scoring responses:  64%|██████▎   | 35/55 [00:05<00:03,  6.43it/s]INFO:httpx:HTTP Request: POST https://api.openai.com/v1/chat/completions \"HTTP/1.1 200 OK\"\n",
            "Scoring responses:  65%|██████▌   | 36/55 [00:05<00:03,  4.77it/s]INFO:httpx:HTTP Request: POST https://api.openai.com/v1/chat/completions \"HTTP/1.1 200 OK\"\n",
            "Scoring responses:  67%|██████▋   | 37/55 [00:06<00:03,  5.29it/s]INFO:httpx:HTTP Request: POST https://api.openai.com/v1/chat/completions \"HTTP/1.1 200 OK\"\n",
            "INFO:httpx:HTTP Request: POST https://api.openai.com/v1/chat/completions \"HTTP/1.1 200 OK\"\n",
            "Scoring responses:  71%|███████   | 39/55 [00:06<00:02,  5.62it/s]INFO:httpx:HTTP Request: POST https://api.openai.com/v1/chat/completions \"HTTP/1.1 200 OK\"\n",
            "INFO:httpx:HTTP Request: POST https://api.openai.com/v1/chat/completions \"HTTP/1.1 200 OK\"\n",
            "Scoring responses:  75%|███████▍  | 41/55 [00:06<00:02,  5.85it/s]INFO:httpx:HTTP Request: POST https://api.openai.com/v1/chat/completions \"HTTP/1.1 200 OK\"\n",
            "INFO:httpx:HTTP Request: POST https://api.openai.com/v1/chat/completions \"HTTP/1.1 200 OK\"\n",
            "Scoring responses:  78%|███████▊  | 43/55 [00:06<00:01,  7.47it/s]INFO:httpx:HTTP Request: POST https://api.openai.com/v1/chat/completions \"HTTP/1.1 200 OK\"\n",
            "Scoring responses:  80%|████████  | 44/55 [00:07<00:01,  7.12it/s]INFO:httpx:HTTP Request: POST https://api.openai.com/v1/chat/completions \"HTTP/1.1 200 OK\"\n",
            "Scoring responses:  82%|████████▏ | 45/55 [00:07<00:01,  7.23it/s]INFO:httpx:HTTP Request: POST https://api.openai.com/v1/chat/completions \"HTTP/1.1 200 OK\"\n",
            "INFO:httpx:HTTP Request: POST https://api.openai.com/v1/chat/completions \"HTTP/1.1 200 OK\"\n",
            "INFO:httpx:HTTP Request: POST https://api.openai.com/v1/chat/completions \"HTTP/1.1 200 OK\"\n",
            "Scoring responses:  87%|████████▋ | 48/55 [00:07<00:00,  8.82it/s]INFO:httpx:HTTP Request: POST https://api.openai.com/v1/chat/completions \"HTTP/1.1 200 OK\"\n",
            "Scoring responses:  89%|████████▉ | 49/55 [00:07<00:00,  8.83it/s]INFO:httpx:HTTP Request: POST https://api.openai.com/v1/chat/completions \"HTTP/1.1 200 OK\"\n",
            "Scoring responses:  91%|█████████ | 50/55 [00:07<00:00,  8.11it/s]INFO:httpx:HTTP Request: POST https://api.openai.com/v1/chat/completions \"HTTP/1.1 200 OK\"\n",
            "INFO:httpx:HTTP Request: POST https://api.openai.com/v1/chat/completions \"HTTP/1.1 200 OK\"\n",
            "Scoring responses:  95%|█████████▍| 52/55 [00:07<00:00,  9.16it/s]INFO:httpx:HTTP Request: POST https://api.openai.com/v1/chat/completions \"HTTP/1.1 200 OK\"\n",
            "Scoring responses:  96%|█████████▋| 53/55 [00:08<00:00,  8.58it/s]INFO:httpx:HTTP Request: POST https://api.openai.com/v1/chat/completions \"HTTP/1.1 200 OK\"\n",
            "Scoring responses:  98%|█████████▊| 54/55 [00:08<00:00,  6.57it/s]INFO:httpx:HTTP Request: POST https://api.openai.com/v1/chat/completions \"HTTP/1.1 200 OK\"\n",
            "Scoring responses: 100%|██████████| 55/55 [00:08<00:00,  6.50it/s]\n"
          ]
        }
      ]
    },
    {
      "cell_type": "code",
      "source": [
        "openai_run_df = run_to_dataframe(openai_run)\n",
        "openai_run_df.to_csv(f\"{tonic_validate_directory}/openai_run.csv\", index=False)"
      ],
      "metadata": {
        "id": "7b6-QkE5Ovr4"
      },
      "execution_count": 14,
      "outputs": []
    },
    {
      "cell_type": "markdown",
      "source": [
        "Visualize OpenAI test"
      ],
      "metadata": {
        "id": "RBItdeaCOoAx"
      }
    },
    {
      "cell_type": "code",
      "source": [
        "openai_answer_similarity_scores = pd.Series([x.scores[\"answer_similarity\"] for x in openai_run.run_data])\n",
        "category_counts = openai_answer_similarity_scores.value_counts()\n",
        "plt.bar(category_counts.index, category_counts.values)\n",
        "\n",
        "plt.title('Distribution of scores for OpenAI')\n",
        "plt.xlabel('Score')\n",
        "plt.ylabel('Count')\n",
        "\n",
        "plt.bar(category_counts.index, category_counts.values, color='#A679C8')\n",
        "\n",
        "# Remove all scores except whole numbers\n",
        "plt.xticks(range(0, 6, 1))\n",
        "\n",
        "plt.show()"
      ],
      "metadata": {
        "id": "UY3MZC5COq9r",
        "colab": {
          "base_uri": "https://localhost:8080/",
          "height": 472
        },
        "outputId": "52e6611b-04ee-45f4-8bee-6b291dd08925"
      },
      "execution_count": 15,
      "outputs": [
        {
          "output_type": "display_data",
          "data": {
            "text/plain": [
              "<Figure size 640x480 with 1 Axes>"
            ],
            "image/png": "[encoded data removed]"
          },
          "metadata": {}
        }
      ]
    }
  ]
}