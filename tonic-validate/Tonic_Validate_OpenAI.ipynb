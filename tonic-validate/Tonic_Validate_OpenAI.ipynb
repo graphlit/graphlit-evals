{
  "nbformat": 4,
  "nbformat_minor": 0,
  "metadata": {
    "colab": {
      "provenance": [],
      "authorship_tag": "ABX9TyOTSkAA/XC7U4+9Cu9ity5S",
      "include_colab_link": true
    },
    "kernelspec": {
      "name": "python3",
      "display_name": "Python 3"
    },
    "language_info": {
      "name": "python"
    }
  },
  "cells": [
    {
      "cell_type": "markdown",
      "metadata": {
        "id": "view-in-github",
        "colab_type": "text"
      },
      "source": [
        "<a href=\"https://colab.research.google.com/github/graphlit/graphlit-evals/blob/main/tonic-validate/Tonic_Validate_OpenAI.ipynb\" target=\"_parent\"><img src=\"https://colab.research.google.com/assets/colab-badge.svg\" alt=\"Open In Colab\"/></a>"
      ]
    },
    {
      "cell_type": "code",
      "source": [
        "!pip install --upgrade tonic_validate"
      ],
      "metadata": {
        "id": "KLtOBMHf503H"
      },
      "execution_count": null,
      "outputs": []
    },
    {
      "cell_type": "code",
      "source": [
        "!pip install --upgrade openai"
      ],
      "metadata": {
        "id": "V_RDaUwCLKm8"
      },
      "execution_count": null,
      "outputs": []
    },
    {
      "cell_type": "code",
      "source": [
        "import os\n",
        "from typing import Optional\n",
        "from tonic_validate import ValidateScorer, Benchmark, BenchmarkItem, LLMResponse, BenchmarkItem, Run\n",
        "from tonic_validate.metrics import AnswerSimilarityMetric\n",
        "from concurrent.futures import ThreadPoolExecutor\n",
        "import os\n",
        "import time\n",
        "from datetime import datetime\n",
        "import json\n",
        "import pandas as pd\n",
        "import matplotlib.pyplot as plt\n",
        "from google.colab import userdata"
      ],
      "metadata": {
        "id": "nadxflGVLSvC"
      },
      "execution_count": null,
      "outputs": []
    },
    {
      "cell_type": "code",
      "source": [
        "from google.colab import drive\n",
        "\n",
        "drive.mount('/content/drive', force_remount=True)\n",
        "\n",
        "# configure shared, writable folder containing sample data\n",
        "tonic_validate_directory = \"/content/drive/MyDrive/Colab Notebooks/Tonic Validate\""
      ],
      "metadata": {
        "id": "zT4ZgOGB6Vtz"
      },
      "execution_count": null,
      "outputs": []
    },
    {
      "cell_type": "markdown",
      "source": [
        "Initialize OpenAI"
      ],
      "metadata": {
        "id": "61HAwzKwL8Yk"
      }
    },
    {
      "cell_type": "code",
      "source": [
        "from openai import OpenAI\n",
        "\n",
        "os.environ['OPENAI_API_KEY'] = userdata.get('OPENAI_API_KEY')\n",
        "\n",
        "client = OpenAI()"
      ],
      "metadata": {
        "id": "v3_Fd27yLX9h"
      },
      "execution_count": null,
      "outputs": []
    },
    {
      "cell_type": "markdown",
      "source": [
        "Load benchmark questions & answers"
      ],
      "metadata": {
        "id": "zImyrtBNMPNy"
      }
    },
    {
      "cell_type": "code",
      "source": [
        "with open(f\"{tonic_validate_directory}/Sample Data/qa_pairs.json\", \"r\") as f:\n",
        "    qa_pairs = json.load(f)\n",
        "\n",
        "# for testing\n",
        "qa_pairs = qa_pairs\n",
        "\n",
        "benchmark = Benchmark(\n",
        "    questions=[x[\"question\"] for x in qa_pairs],\n",
        "    answers=[x[\"answer\"] for x in qa_pairs]\n",
        ")\n",
        "\n",
        "def run_to_dataframe(run: Run) -> pd.DataFrame:\n",
        "    return pd.DataFrame(\n",
        "        {\n",
        "            \"reference_question\": [x.reference_question for x in run.run_data],\n",
        "            \"reference_answer\": [x.reference_answer for x in run.run_data],\n",
        "            \"llm_answer\": [x.llm_answer for x in run.run_data],\n",
        "            \"llm_context\": [json.dumps(x.llm_context) for x in run.run_data],\n",
        "            \"answer_similarity\": [x.scores[\"answer_similarity\"] for x in run.run_data]\n",
        "        }\n",
        "    )"
      ],
      "metadata": {
        "id": "AcMz7iV741mP"
      },
      "execution_count": null,
      "outputs": []
    },
    {
      "cell_type": "markdown",
      "source": [
        "Define OpenAI helper functions"
      ],
      "metadata": {
        "id": "Gy6HLRD0NPmj"
      }
    },
    {
      "cell_type": "code",
      "source": [
        "def upload_essays():\n",
        "    file_ids = []\n",
        "\n",
        "    directory = f\"{tonic_validate_directory}/Sample Data/paul_graham_essays\"\n",
        "\n",
        "    start_time = time.time()\n",
        "\n",
        "    vector_store = client.beta.vector_stores.create(\n",
        "      name=\"OpenAI Rag Test\"\n",
        "    )\n",
        "\n",
        "    file_paths = [os.path.join(directory, filename) for filename in os.listdir(directory) if os.path.isfile(os.path.join(directory, filename))]\n",
        "    file_streams = [open(path, \"rb\") for path in file_paths]\n",
        "\n",
        "    file_batch = client.beta.vector_stores.file_batches.upload_and_poll(\n",
        "      vector_store_id=vector_store.id, files=file_streams\n",
        "    )\n",
        "\n",
        "    duration = time.time() - start_time\n",
        "\n",
        "    current_time = datetime.now()\n",
        "    formatted_time = current_time.strftime(\"%H:%M:%S\")\n",
        "\n",
        "    print(f\"Uploading essays took {duration:.2f} seconds. Finished at {formatted_time} UTC.\")\n",
        "\n",
        "    return vector_store.id\n",
        "\n",
        "def create_assistant(vector_store_id):\n",
        "    return client.beta.assistants.create(\n",
        "        name=f\"OpenAI Rag Test Files\",\n",
        "        instructions=(\n",
        "            \"You are a chatbot that answers questions about Paul Graham's essays. \"\n",
        "            \"Use your knowledge base to best respond to questions. \"\n",
        "            \"NO MATTER WHAT, DO NOT PULL INFORMATION FROM EXTERNAL KNOWLEDGE. ONLY USE YOUR OWN KNOWLEDGE BASE.\"\n",
        "        ),\n",
        "        model=\"gpt-4-turbo\",\n",
        "        tools=[{\"type\": \"file_search\"}],\n",
        "        tool_resources={\n",
        "          \"file_search\": {\n",
        "            \"vector_store_ids\": [vector_store_id]\n",
        "          }\n",
        "        }\n",
        "    )\n",
        "\n",
        "# WARNING\n",
        "# this deletes all vector stores associated with your openai api key.\n",
        "def cleanup_vector_stores():\n",
        "    for v in client.beta.vector_stores.list():\n",
        "        client.beta.vector_stores.delete(v.id)\n",
        "\n",
        "        print(f'Deleted vector store [{v.id}].')\n",
        "        time.sleep(5)\n",
        "\n",
        "def cleanup_files():\n",
        "    for f in client.files.list():\n",
        "        client.files.delete(f.id)\n",
        "\n",
        "        print(f'Deleted file [{f.id}].')\n",
        "        time.sleep(1)"
      ],
      "metadata": {
        "id": "365VJHH9NO6h"
      },
      "execution_count": null,
      "outputs": []
    },
    {
      "cell_type": "markdown",
      "source": [
        "Define OpenAI RAG function"
      ],
      "metadata": {
        "id": "PDvIqR1wNV4F"
      }
    },
    {
      "cell_type": "code",
      "source": [
        "def get_openai_rag_response(benchmarkItem: BenchmarkItem, assistant):\n",
        "    prompt = benchmarkItem.question\n",
        "    thread = client.beta.threads.create(\n",
        "        messages=[\n",
        "            {\n",
        "                \"role\": \"user\",\n",
        "                \"content\": prompt\n",
        "            }\n",
        "        ]\n",
        "    )\n",
        "    run = client.beta.threads.runs.create(\n",
        "        thread_id=thread.id,\n",
        "        assistant_id=assistant.id,\n",
        "    )\n",
        "    max_retries = 15\n",
        "    base = 0.1\n",
        "    num_retries = 0\n",
        "    try:\n",
        "        while max_retries > 0:\n",
        "            if max_retries == 0:\n",
        "                client.beta.threads.delete(thread.id)\n",
        "                raise Exception(\"Max tries exceeded\")\n",
        "            messages = client.beta.threads.messages.list(\n",
        "                thread_id=thread.id,\n",
        "            )\n",
        "            if len(messages.data)>0:\n",
        "                message = messages.data[0]\n",
        "\n",
        "                if len(message.content)>0:\n",
        "                    content = message.content[0]\n",
        "\n",
        "                    response_message = content.text.value\n",
        "                    if response_message != prompt and response_message.strip():\n",
        "                        client.beta.threads.delete(thread.id)\n",
        "                        return response_message\n",
        "            time.sleep(base * (2 ** num_retries))\n",
        "            num_retries += 1\n",
        "            max_retries -= 1\n",
        "    except Exception as e:\n",
        "        print(e)\n",
        "        client.beta.threads.delete(thread.id)\n",
        "        raise e"
      ],
      "metadata": {
        "id": "COf9VDbzNM87"
      },
      "execution_count": null,
      "outputs": []
    },
    {
      "cell_type": "markdown",
      "source": [
        "Initialize OpenAI test"
      ],
      "metadata": {
        "id": "knKpHe5nNl42"
      }
    },
    {
      "cell_type": "code",
      "source": [
        "cleanup_vector_stores()\n",
        "cleanup_files()\n",
        "\n",
        "assistant = None\n",
        "\n",
        "vector_store_id = upload_essays()\n",
        "\n",
        "if vector_store_id is not None:\n",
        "    print(f'Essays ingested into vector store [{vector_store_id}].')\n",
        "\n",
        "    assistant = create_assistant(vector_store_id)"
      ],
      "metadata": {
        "id": "S5vv7_gMNktm"
      },
      "execution_count": null,
      "outputs": []
    },
    {
      "cell_type": "markdown",
      "source": [
        "Validate OpenAI response"
      ],
      "metadata": {
        "id": "MyV1yTfON6Ro"
      }
    },
    {
      "cell_type": "code",
      "source": [
        "benchmark_item = BenchmarkItem(\n",
        "    question=\"What key components are necessary to create a technology hub according to Paul Graham?\",\n",
        "    answer=\"\"\n",
        ")\n",
        "\n",
        "print(get_openai_rag_response(benchmark_item, assistant))"
      ],
      "metadata": {
        "id": "JOQxlxI9N8ER"
      },
      "execution_count": null,
      "outputs": []
    },
    {
      "cell_type": "markdown",
      "source": [
        "Perform OpenAI test and score run"
      ],
      "metadata": {
        "id": "V4MXjbFYOPTB"
      }
    },
    {
      "cell_type": "code",
      "source": [
        "import asyncio\n",
        "\n",
        "async def run_test():\n",
        "    with ThreadPoolExecutor() as executor:\n",
        "        tasks = []\n",
        "        for item in benchmark.items:\n",
        "            task = asyncio.get_event_loop().run_in_executor(executor, get_openai_rag_response, item, assistant)\n",
        "            tasks.append(task)\n",
        "\n",
        "        return await asyncio.gather(*tasks)\n",
        "\n",
        "raw_openai_responses = await run_test()\n",
        "\n",
        "print(raw_openai_responses)"
      ],
      "metadata": {
        "id": "CYxCNhFyOE81"
      },
      "execution_count": null,
      "outputs": []
    },
    {
      "cell_type": "code",
      "source": [
        "openai_responses = [\n",
        "    LLMResponse(\n",
        "        llm_answer=r if r is not None else \"\", llm_context_list=[], benchmark_item=bi\n",
        "    ) for r, bi in zip(raw_openai_responses, benchmark.items)\n",
        "]"
      ],
      "metadata": {
        "id": "Ge-VbqahOsPL"
      },
      "execution_count": 80,
      "outputs": []
    },
    {
      "cell_type": "code",
      "source": [
        "scorer = ValidateScorer(model_evaluator=\"gpt-4-turbo\", metrics=[AnswerSimilarityMetric()])\n",
        "openai_run = scorer.score_run(openai_responses, parallelism=5)"
      ],
      "metadata": {
        "id": "DOLEjdrUOuB9",
        "colab": {
          "base_uri": "https://localhost:8080/"
        },
        "outputId": "8e668fc9-cdbb-4cea-9b33-d72c1896f03c"
      },
      "execution_count": 81,
      "outputs": [
        {
          "output_type": "stream",
          "name": "stderr",
          "text": [
            "Scoring responses:   0%|          | 0/55 [00:00<?, ?it/s]INFO:httpx:HTTP Request: POST https://api.openai.com/v1/chat/completions \"HTTP/1.1 200 OK\"\n",
            "Scoring responses:   2%|▏         | 1/55 [00:00<00:29,  1.82it/s]INFO:httpx:HTTP Request: POST https://api.openai.com/v1/chat/completions \"HTTP/1.1 200 OK\"\n",
            "Scoring responses:   4%|▎         | 2/55 [00:00<00:15,  3.45it/s]INFO:httpx:HTTP Request: POST https://api.openai.com/v1/chat/completions \"HTTP/1.1 200 OK\"\n",
            "INFO:httpx:HTTP Request: POST https://api.openai.com/v1/chat/completions \"HTTP/1.1 200 OK\"\n",
            "INFO:httpx:HTTP Request: POST https://api.openai.com/v1/chat/completions \"HTTP/1.1 200 OK\"\n",
            "Scoring responses:   9%|▉         | 5/55 [00:01<00:09,  5.41it/s]INFO:httpx:HTTP Request: POST https://api.openai.com/v1/chat/completions \"HTTP/1.1 200 OK\"\n",
            "INFO:httpx:HTTP Request: POST https://api.openai.com/v1/chat/completions \"HTTP/1.1 200 OK\"\n",
            "Scoring responses:  13%|█▎        | 7/55 [00:01<00:07,  6.49it/s]INFO:httpx:HTTP Request: POST https://api.openai.com/v1/chat/completions \"HTTP/1.1 200 OK\"\n",
            "Scoring responses:  15%|█▍        | 8/55 [00:01<00:08,  5.25it/s]INFO:httpx:HTTP Request: POST https://api.openai.com/v1/chat/completions \"HTTP/1.1 200 OK\"\n",
            "INFO:httpx:HTTP Request: POST https://api.openai.com/v1/chat/completions \"HTTP/1.1 200 OK\"\n",
            "INFO:httpx:HTTP Request: POST https://api.openai.com/v1/chat/completions \"HTTP/1.1 200 OK\"\n",
            "Scoring responses:  20%|██        | 11/55 [00:01<00:05,  8.56it/s]INFO:httpx:HTTP Request: POST https://api.openai.com/v1/chat/completions \"HTTP/1.1 200 OK\"\n",
            "INFO:httpx:HTTP Request: POST https://api.openai.com/v1/chat/completions \"HTTP/1.1 200 OK\"\n",
            "Scoring responses:  24%|██▎       | 13/55 [00:02<00:07,  5.94it/s]INFO:httpx:HTTP Request: POST https://api.openai.com/v1/chat/completions \"HTTP/1.1 200 OK\"\n",
            "INFO:httpx:HTTP Request: POST https://api.openai.com/v1/chat/completions \"HTTP/1.1 200 OK\"\n",
            "Scoring responses:  27%|██▋       | 15/55 [00:02<00:07,  5.35it/s]INFO:httpx:HTTP Request: POST https://api.openai.com/v1/chat/completions \"HTTP/1.1 200 OK\"\n",
            "INFO:httpx:HTTP Request: POST https://api.openai.com/v1/chat/completions \"HTTP/1.1 200 OK\"\n",
            "Scoring responses:  31%|███       | 17/55 [00:02<00:05,  6.89it/s]INFO:httpx:HTTP Request: POST https://api.openai.com/v1/chat/completions \"HTTP/1.1 200 OK\"\n",
            "INFO:httpx:HTTP Request: POST https://api.openai.com/v1/chat/completions \"HTTP/1.1 200 OK\"\n",
            "Scoring responses:  35%|███▍      | 19/55 [00:03<00:05,  6.01it/s]INFO:httpx:HTTP Request: POST https://api.openai.com/v1/chat/completions \"HTTP/1.1 200 OK\"\n",
            "Scoring responses:  36%|███▋      | 20/55 [00:03<00:05,  6.37it/s]INFO:httpx:HTTP Request: POST https://api.openai.com/v1/chat/completions \"HTTP/1.1 200 OK\"\n",
            "INFO:httpx:HTTP Request: POST https://api.openai.com/v1/chat/completions \"HTTP/1.1 200 OK\"\n",
            "Scoring responses:  40%|████      | 22/55 [00:03<00:04,  7.24it/s]INFO:httpx:HTTP Request: POST https://api.openai.com/v1/chat/completions \"HTTP/1.1 200 OK\"\n",
            "Scoring responses:  42%|████▏     | 23/55 [00:03<00:04,  6.87it/s]INFO:httpx:HTTP Request: POST https://api.openai.com/v1/chat/completions \"HTTP/1.1 200 OK\"\n",
            "Scoring responses:  44%|████▎     | 24/55 [00:03<00:04,  6.56it/s]INFO:httpx:HTTP Request: POST https://api.openai.com/v1/chat/completions \"HTTP/1.1 200 OK\"\n",
            "Scoring responses:  45%|████▌     | 25/55 [00:04<00:04,  6.20it/s]INFO:httpx:HTTP Request: POST https://api.openai.com/v1/chat/completions \"HTTP/1.1 200 OK\"\n",
            "Scoring responses:  47%|████▋     | 26/55 [00:04<00:04,  6.20it/s]INFO:httpx:HTTP Request: POST https://api.openai.com/v1/chat/completions \"HTTP/1.1 200 OK\"\n",
            "INFO:httpx:HTTP Request: POST https://api.openai.com/v1/chat/completions \"HTTP/1.1 200 OK\"\n",
            "Scoring responses:  51%|█████     | 28/55 [00:04<00:04,  6.71it/s]INFO:httpx:HTTP Request: POST https://api.openai.com/v1/chat/completions \"HTTP/1.1 200 OK\"\n",
            "Scoring responses:  53%|█████▎    | 29/55 [00:04<00:04,  6.48it/s]INFO:httpx:HTTP Request: POST https://api.openai.com/v1/chat/completions \"HTTP/1.1 200 OK\"\n",
            "INFO:httpx:HTTP Request: POST https://api.openai.com/v1/chat/completions \"HTTP/1.1 200 OK\"\n",
            "Scoring responses:  56%|█████▋    | 31/55 [00:04<00:02,  8.49it/s]INFO:httpx:HTTP Request: POST https://api.openai.com/v1/chat/completions \"HTTP/1.1 200 OK\"\n",
            "INFO:httpx:HTTP Request: POST https://api.openai.com/v1/chat/completions \"HTTP/1.1 200 OK\"\n",
            "Scoring responses:  60%|██████    | 33/55 [00:05<00:02,  9.19it/s]INFO:httpx:HTTP Request: POST https://api.openai.com/v1/chat/completions \"HTTP/1.1 200 OK\"\n",
            "Scoring responses:  62%|██████▏   | 34/55 [00:05<00:02,  7.01it/s]INFO:httpx:HTTP Request: POST https://api.openai.com/v1/chat/completions \"HTTP/1.1 200 OK\"\n",
            "INFO:httpx:HTTP Request: POST https://api.openai.com/v1/chat/completions \"HTTP/1.1 200 OK\"\n",
            "INFO:httpx:HTTP Request: POST https://api.openai.com/v1/chat/completions \"HTTP/1.1 200 OK\"\n",
            "Scoring responses:  67%|██████▋   | 37/55 [00:05<00:02,  7.38it/s]INFO:httpx:HTTP Request: POST https://api.openai.com/v1/chat/completions \"HTTP/1.1 200 OK\"\n",
            "Scoring responses:  69%|██████▉   | 38/55 [00:05<00:02,  7.63it/s]INFO:httpx:HTTP Request: POST https://api.openai.com/v1/chat/completions \"HTTP/1.1 200 OK\"\n",
            "ERROR:asyncio:Task exception was never retrieved\n",
            "future: <Task finished name='Task-193' coro=<AsyncClient.aclose() done, defined at /usr/local/lib/python3.10/dist-packages/httpx/_client.py:2011> exception=RuntimeError('Event loop is closed')>\n",
            "Traceback (most recent call last):\n",
            "  File \"/usr/local/lib/python3.10/dist-packages/httpx/_client.py\", line 2018, in aclose\n",
            "    await self._transport.aclose()\n",
            "  File \"/usr/local/lib/python3.10/dist-packages/httpx/_transports/default.py\", line 385, in aclose\n",
            "    await self._pool.aclose()\n",
            "  File \"/usr/local/lib/python3.10/dist-packages/httpcore/_async/connection_pool.py\", line 313, in aclose\n",
            "    await self._close_connections(closing_connections)\n",
            "  File \"/usr/local/lib/python3.10/dist-packages/httpcore/_async/connection_pool.py\", line 305, in _close_connections\n",
            "    await connection.aclose()\n",
            "  File \"/usr/local/lib/python3.10/dist-packages/httpcore/_async/connection.py\", line 171, in aclose\n",
            "    await self._connection.aclose()\n",
            "  File \"/usr/local/lib/python3.10/dist-packages/httpcore/_async/http11.py\", line 265, in aclose\n",
            "    await self._network_stream.aclose()\n",
            "  File \"/usr/local/lib/python3.10/dist-packages/httpcore/_backends/anyio.py\", line 55, in aclose\n",
            "    await self._stream.aclose()\n",
            "  File \"/usr/local/lib/python3.10/dist-packages/anyio/streams/tls.py\", line 193, in aclose\n",
            "    await self.transport_stream.aclose()\n",
            "  File \"/usr/local/lib/python3.10/dist-packages/anyio/_backends/_asyncio.py\", line 1261, in aclose\n",
            "    self._transport.close()\n",
            "  File \"/usr/lib/python3.10/asyncio/selector_events.py\", line 706, in close\n",
            "    self._loop.call_soon(self._call_connection_lost, None)\n",
            "  File \"/usr/lib/python3.10/asyncio/base_events.py\", line 753, in call_soon\n",
            "    self._check_closed()\n",
            "  File \"/usr/lib/python3.10/asyncio/base_events.py\", line 515, in _check_closed\n",
            "    raise RuntimeError('Event loop is closed')\n",
            "RuntimeError: Event loop is closed\n",
            "ERROR:asyncio:Task exception was never retrieved\n",
            "future: <Task finished name='Task-194' coro=<AsyncClient.aclose() done, defined at /usr/local/lib/python3.10/dist-packages/httpx/_client.py:2011> exception=RuntimeError('Event loop is closed')>\n",
            "Traceback (most recent call last):\n",
            "  File \"/usr/local/lib/python3.10/dist-packages/httpx/_client.py\", line 2018, in aclose\n",
            "    await self._transport.aclose()\n",
            "  File \"/usr/local/lib/python3.10/dist-packages/httpx/_transports/default.py\", line 385, in aclose\n",
            "    await self._pool.aclose()\n",
            "  File \"/usr/local/lib/python3.10/dist-packages/httpcore/_async/connection_pool.py\", line 313, in aclose\n",
            "    await self._close_connections(closing_connections)\n",
            "  File \"/usr/local/lib/python3.10/dist-packages/httpcore/_async/connection_pool.py\", line 305, in _close_connections\n",
            "    await connection.aclose()\n",
            "  File \"/usr/local/lib/python3.10/dist-packages/httpcore/_async/connection.py\", line 171, in aclose\n",
            "    await self._connection.aclose()\n",
            "  File \"/usr/local/lib/python3.10/dist-packages/httpcore/_async/http11.py\", line 265, in aclose\n",
            "    await self._network_stream.aclose()\n",
            "  File \"/usr/local/lib/python3.10/dist-packages/httpcore/_backends/anyio.py\", line 55, in aclose\n",
            "    await self._stream.aclose()\n",
            "  File \"/usr/local/lib/python3.10/dist-packages/anyio/streams/tls.py\", line 193, in aclose\n",
            "    await self.transport_stream.aclose()\n",
            "  File \"/usr/local/lib/python3.10/dist-packages/anyio/_backends/_asyncio.py\", line 1261, in aclose\n",
            "    self._transport.close()\n",
            "  File \"/usr/lib/python3.10/asyncio/selector_events.py\", line 706, in close\n",
            "    self._loop.call_soon(self._call_connection_lost, None)\n",
            "  File \"/usr/lib/python3.10/asyncio/base_events.py\", line 753, in call_soon\n",
            "    self._check_closed()\n",
            "  File \"/usr/lib/python3.10/asyncio/base_events.py\", line 515, in _check_closed\n",
            "    raise RuntimeError('Event loop is closed')\n",
            "RuntimeError: Event loop is closed\n",
            "Scoring responses:  71%|███████   | 39/55 [00:06<00:02,  5.61it/s]INFO:httpx:HTTP Request: POST https://api.openai.com/v1/chat/completions \"HTTP/1.1 200 OK\"\n",
            "INFO:httpx:HTTP Request: POST https://api.openai.com/v1/chat/completions \"HTTP/1.1 200 OK\"\n",
            "INFO:httpx:HTTP Request: POST https://api.openai.com/v1/chat/completions \"HTTP/1.1 200 OK\"\n",
            "Scoring responses:  76%|███████▋  | 42/55 [00:06<00:01,  8.61it/s]INFO:httpx:HTTP Request: POST https://api.openai.com/v1/chat/completions \"HTTP/1.1 200 OK\"\n",
            "INFO:httpx:HTTP Request: POST https://api.openai.com/v1/chat/completions \"HTTP/1.1 200 OK\"\n",
            "Scoring responses:  80%|████████  | 44/55 [00:06<00:01,  6.52it/s]INFO:httpx:HTTP Request: POST https://api.openai.com/v1/chat/completions \"HTTP/1.1 200 OK\"\n",
            "INFO:httpx:HTTP Request: POST https://api.openai.com/v1/chat/completions \"HTTP/1.1 200 OK\"\n",
            "Scoring responses:  84%|████████▎ | 46/55 [00:06<00:01,  7.68it/s]INFO:httpx:HTTP Request: POST https://api.openai.com/v1/chat/completions \"HTTP/1.1 200 OK\"\n",
            "INFO:httpx:HTTP Request: POST https://api.openai.com/v1/chat/completions \"HTTP/1.1 200 OK\"\n",
            "Scoring responses:  87%|████████▋ | 48/55 [00:07<00:00,  7.13it/s]INFO:httpx:HTTP Request: POST https://api.openai.com/v1/chat/completions \"HTTP/1.1 200 OK\"\n",
            "INFO:httpx:HTTP Request: POST https://api.openai.com/v1/chat/completions \"HTTP/1.1 200 OK\"\n",
            "Scoring responses:  91%|█████████ | 50/55 [00:07<00:00,  6.59it/s]INFO:httpx:HTTP Request: POST https://api.openai.com/v1/chat/completions \"HTTP/1.1 200 OK\"\n",
            "INFO:httpx:HTTP Request: POST https://api.openai.com/v1/chat/completions \"HTTP/1.1 200 OK\"\n",
            "INFO:httpx:HTTP Request: POST https://api.openai.com/v1/chat/completions \"HTTP/1.1 200 OK\"\n",
            "Scoring responses:  96%|█████████▋| 53/55 [00:07<00:00,  9.37it/s]INFO:httpx:HTTP Request: POST https://api.openai.com/v1/chat/completions \"HTTP/1.1 200 OK\"\n",
            "INFO:httpx:HTTP Request: POST https://api.openai.com/v1/chat/completions \"HTTP/1.1 200 OK\"\n",
            "Scoring responses: 100%|██████████| 55/55 [00:08<00:00,  6.81it/s]\n"
          ]
        }
      ]
    },
    {
      "cell_type": "code",
      "source": [
        "openai_run_df = run_to_dataframe(openai_run)\n",
        "openai_run_df.to_csv(f\"{tonic_validate_directory}/openai_run.csv\", index=False)"
      ],
      "metadata": {
        "id": "7b6-QkE5Ovr4"
      },
      "execution_count": 82,
      "outputs": []
    },
    {
      "cell_type": "markdown",
      "source": [
        "Visualize OpenAI test"
      ],
      "metadata": {
        "id": "RBItdeaCOoAx"
      }
    },
    {
      "cell_type": "code",
      "source": [
        "openai_answer_similarity_scores = pd.Series([x.scores[\"answer_similarity\"] for x in openai_run.run_data])\n",
        "category_counts = openai_answer_similarity_scores.value_counts()\n",
        "plt.bar(category_counts.index, category_counts.values)\n",
        "\n",
        "plt.title('Distribution of scores for OpenAI')\n",
        "plt.xlabel('Score')\n",
        "plt.ylabel('Count')\n",
        "\n",
        "plt.bar(category_counts.index, category_counts.values, color='#A679C8')\n",
        "\n",
        "# Remove all scores except whole numbers\n",
        "plt.xticks(range(0, 6, 1))\n",
        "\n",
        "plt.show()"
      ],
      "metadata": {
        "id": "UY3MZC5COq9r",
        "colab": {
          "base_uri": "https://localhost:8080/",
          "height": 472
        },
        "outputId": "1b37f23c-2b7f-47f2-d15e-f20c91968862"
      },
      "execution_count": 83,
      "outputs": [
        {
          "output_type": "display_data",
          "data": {
            "text/plain": [
              "<Figure size 640x480 with 1 Axes>"
            ],
            "image/png": "[encoded data removed]"
          },
          "metadata": {}
        }
      ]
    }
  ]
}