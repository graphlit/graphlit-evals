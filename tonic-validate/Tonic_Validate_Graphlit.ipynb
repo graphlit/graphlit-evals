{
  "nbformat": 4,
  "nbformat_minor": 0,
  "metadata": {
    "colab": {
      "provenance": [],
      "authorship_tag": "ABX9TyPM7oyhWyENniEu+cQf5oPn",
      "include_colab_link": true
    },
    "kernelspec": {
      "name": "python3",
      "display_name": "Python 3"
    },
    "language_info": {
      "name": "python"
    }
  },
  "cells": [
    {
      "cell_type": "markdown",
      "metadata": {
        "id": "view-in-github",
        "colab_type": "text"
      },
      "source": [
        "<a href=\"https://colab.research.google.com/github/graphlit/graphlit-evals/blob/main/tonic-validate/Tonic_Validate_Graphlit.ipynb\" target=\"_parent\"><img src=\"https://colab.research.google.com/assets/colab-badge.svg\" alt=\"Open In Colab\"/></a>"
      ]
    },
    {
      "cell_type": "code",
      "source": [
        "!pip install --upgrade tonic_validate"
      ],
      "metadata": {
        "id": "KLtOBMHf503H",
        "colab": {
          "base_uri": "https://localhost:8080/"
        },
        "outputId": "4a4d422c-2b4f-4257-d4ff-91476ca9694d"
      },
      "execution_count": 123,
      "outputs": [
        {
          "output_type": "stream",
          "name": "stdout",
          "text": [
            "Requirement already satisfied: tonic_validate in /usr/local/lib/python3.10/dist-packages (4.0.6)\n",
            "Requirement already satisfied: appdirs<2.0.0,>=1.4.4 in /usr/local/lib/python3.10/dist-packages (from tonic_validate) (1.4.4)\n",
            "Requirement already satisfied: openai>=1.0.0 in /usr/local/lib/python3.10/dist-packages (from tonic_validate) (1.23.6)\n",
            "Requirement already satisfied: pydantic<3.0.0,>=2.6.4 in /usr/local/lib/python3.10/dist-packages (from tonic_validate) (2.7.0)\n",
            "Requirement already satisfied: python-dotenv<2.0.0,>=1.0.1 in /usr/local/lib/python3.10/dist-packages (from tonic_validate) (1.0.1)\n",
            "Requirement already satisfied: tiktoken<0.7.0,>=0.5.2 in /usr/local/lib/python3.10/dist-packages (from tonic_validate) (0.6.0)\n",
            "Requirement already satisfied: tqdm<5.0.0,>=4.66.2 in /usr/local/lib/python3.10/dist-packages (from tonic_validate) (4.66.2)\n",
            "Requirement already satisfied: typing-extensions<5.0.0,>=4.10.0 in /usr/local/lib/python3.10/dist-packages (from tonic_validate) (4.11.0)\n",
            "Requirement already satisfied: anyio<5,>=3.5.0 in /usr/local/lib/python3.10/dist-packages (from openai>=1.0.0->tonic_validate) (3.7.1)\n",
            "Requirement already satisfied: distro<2,>=1.7.0 in /usr/lib/python3/dist-packages (from openai>=1.0.0->tonic_validate) (1.7.0)\n",
            "Requirement already satisfied: httpx<1,>=0.23.0 in /usr/local/lib/python3.10/dist-packages (from openai>=1.0.0->tonic_validate) (0.27.0)\n",
            "Requirement already satisfied: sniffio in /usr/local/lib/python3.10/dist-packages (from openai>=1.0.0->tonic_validate) (1.3.1)\n",
            "Requirement already satisfied: annotated-types>=0.4.0 in /usr/local/lib/python3.10/dist-packages (from pydantic<3.0.0,>=2.6.4->tonic_validate) (0.6.0)\n",
            "Requirement already satisfied: pydantic-core==2.18.1 in /usr/local/lib/python3.10/dist-packages (from pydantic<3.0.0,>=2.6.4->tonic_validate) (2.18.1)\n",
            "Requirement already satisfied: regex>=2022.1.18 in /usr/local/lib/python3.10/dist-packages (from tiktoken<0.7.0,>=0.5.2->tonic_validate) (2023.12.25)\n",
            "Requirement already satisfied: requests>=2.26.0 in /usr/local/lib/python3.10/dist-packages (from tiktoken<0.7.0,>=0.5.2->tonic_validate) (2.31.0)\n",
            "Requirement already satisfied: idna>=2.8 in /usr/local/lib/python3.10/dist-packages (from anyio<5,>=3.5.0->openai>=1.0.0->tonic_validate) (3.7)\n",
            "Requirement already satisfied: exceptiongroup in /usr/local/lib/python3.10/dist-packages (from anyio<5,>=3.5.0->openai>=1.0.0->tonic_validate) (1.2.1)\n",
            "Requirement already satisfied: certifi in /usr/local/lib/python3.10/dist-packages (from httpx<1,>=0.23.0->openai>=1.0.0->tonic_validate) (2024.2.2)\n",
            "Requirement already satisfied: httpcore==1.* in /usr/local/lib/python3.10/dist-packages (from httpx<1,>=0.23.0->openai>=1.0.0->tonic_validate) (1.0.5)\n",
            "Requirement already satisfied: h11<0.15,>=0.13 in /usr/local/lib/python3.10/dist-packages (from httpcore==1.*->httpx<1,>=0.23.0->openai>=1.0.0->tonic_validate) (0.14.0)\n",
            "Requirement already satisfied: charset-normalizer<4,>=2 in /usr/local/lib/python3.10/dist-packages (from requests>=2.26.0->tiktoken<0.7.0,>=0.5.2->tonic_validate) (3.3.2)\n",
            "Requirement already satisfied: urllib3<3,>=1.21.1 in /usr/local/lib/python3.10/dist-packages (from requests>=2.26.0->tiktoken<0.7.0,>=0.5.2->tonic_validate) (2.0.7)\n"
          ]
        }
      ]
    },
    {
      "cell_type": "code",
      "execution_count": 124,
      "metadata": {
        "id": "fefizrrh4xGD",
        "colab": {
          "base_uri": "https://localhost:8080/"
        },
        "outputId": "2b67300c-203d-48f6-f394-d2d524e7f4c0"
      },
      "outputs": [
        {
          "output_type": "stream",
          "name": "stdout",
          "text": [
            "Requirement already satisfied: graphlit-client in /usr/local/lib/python3.10/dist-packages (1.0.20240426002)\n",
            "Requirement already satisfied: httpx in /usr/local/lib/python3.10/dist-packages (from graphlit-client) (0.27.0)\n",
            "Requirement already satisfied: pydantic<3.0.0,>=2.0.0 in /usr/local/lib/python3.10/dist-packages (from graphlit-client) (2.7.0)\n",
            "Requirement already satisfied: PyJWT in /usr/lib/python3/dist-packages (from graphlit-client) (2.3.0)\n",
            "Requirement already satisfied: websockets in /usr/local/lib/python3.10/dist-packages (from graphlit-client) (12.0)\n",
            "Requirement already satisfied: annotated-types>=0.4.0 in /usr/local/lib/python3.10/dist-packages (from pydantic<3.0.0,>=2.0.0->graphlit-client) (0.6.0)\n",
            "Requirement already satisfied: pydantic-core==2.18.1 in /usr/local/lib/python3.10/dist-packages (from pydantic<3.0.0,>=2.0.0->graphlit-client) (2.18.1)\n",
            "Requirement already satisfied: typing-extensions>=4.6.1 in /usr/local/lib/python3.10/dist-packages (from pydantic<3.0.0,>=2.0.0->graphlit-client) (4.11.0)\n",
            "Requirement already satisfied: anyio in /usr/local/lib/python3.10/dist-packages (from httpx->graphlit-client) (3.7.1)\n",
            "Requirement already satisfied: certifi in /usr/local/lib/python3.10/dist-packages (from httpx->graphlit-client) (2024.2.2)\n",
            "Requirement already satisfied: httpcore==1.* in /usr/local/lib/python3.10/dist-packages (from httpx->graphlit-client) (1.0.5)\n",
            "Requirement already satisfied: idna in /usr/local/lib/python3.10/dist-packages (from httpx->graphlit-client) (3.7)\n",
            "Requirement already satisfied: sniffio in /usr/local/lib/python3.10/dist-packages (from httpx->graphlit-client) (1.3.1)\n",
            "Requirement already satisfied: h11<0.15,>=0.13 in /usr/local/lib/python3.10/dist-packages (from httpcore==1.*->httpx->graphlit-client) (0.14.0)\n",
            "Requirement already satisfied: exceptiongroup in /usr/local/lib/python3.10/dist-packages (from anyio->httpx->graphlit-client) (1.2.1)\n"
          ]
        }
      ],
      "source": [
        "!pip install --upgrade graphlit-client"
      ]
    },
    {
      "cell_type": "code",
      "source": [
        "import os\n",
        "from typing import Optional\n",
        "from tonic_validate import ValidateScorer, Benchmark, BenchmarkItem, LLMResponse, BenchmarkItem, Run\n",
        "from tonic_validate.metrics import AnswerSimilarityMetric\n",
        "from concurrent.futures import ThreadPoolExecutor\n",
        "import os\n",
        "import time\n",
        "import json\n",
        "import pandas as pd\n",
        "import matplotlib.pyplot as plt\n",
        "from google.colab import userdata"
      ],
      "metadata": {
        "id": "nadxflGVLSvC"
      },
      "execution_count": 125,
      "outputs": []
    },
    {
      "cell_type": "code",
      "source": [
        "from google.colab import drive\n",
        "\n",
        "drive.mount('/content/drive', force_remount=True)\n",
        "\n",
        "# configure shared, writable folder containing sample data\n",
        "tonic_validate_directory = \"/content/drive/MyDrive/Colab Notebooks/Tonic Validate\""
      ],
      "metadata": {
        "id": "zT4ZgOGB6Vtz",
        "colab": {
          "base_uri": "https://localhost:8080/"
        },
        "outputId": "73b197b9-abb8-4ff8-d6e6-ea1313b6b53a"
      },
      "execution_count": 126,
      "outputs": [
        {
          "output_type": "stream",
          "name": "stdout",
          "text": [
            "Mounted at /content/drive\n"
          ]
        }
      ]
    },
    {
      "cell_type": "markdown",
      "source": [
        "Initialize Graphlit"
      ],
      "metadata": {
        "id": "abV1114jL-bR"
      }
    },
    {
      "cell_type": "code",
      "source": [
        "from graphlit import Graphlit\n",
        "from graphlit_api import input_types, enums, exceptions\n",
        "\n",
        "os.environ['OPENAI_API_KEY'] = userdata.get('OPENAI_API_KEY')\n",
        "\n",
        "os.environ['GRAPHLIT_ORGANIZATION_ID'] = userdata.get('GRAPHLIT_ORGANIZATION_ID')\n",
        "os.environ['GRAPHLIT_ENVIRONMENT_ID'] = userdata.get('GRAPHLIT_ENVIRONMENT_ID')\n",
        "os.environ['GRAPHLIT_JWT_SECRET'] = userdata.get('GRAPHLIT_JWT_SECRET')\n",
        "\n",
        "graphlit = Graphlit()"
      ],
      "metadata": {
        "id": "WoMAWD4LLP_q"
      },
      "execution_count": 127,
      "outputs": []
    },
    {
      "cell_type": "markdown",
      "source": [
        "Load benchmark questions & answers"
      ],
      "metadata": {
        "id": "zImyrtBNMPNy"
      }
    },
    {
      "cell_type": "code",
      "source": [
        "with open(f\"{tonic_validate_directory}/Sample Data/qa_pairs.json\", \"r\") as f:\n",
        "    qa_pairs = json.load(f)\n",
        "\n",
        "# for testing\n",
        "qa_pairs = qa_pairs\n",
        "\n",
        "benchmark = Benchmark(\n",
        "    questions=[x[\"question\"] for x in qa_pairs],\n",
        "    answers=[x[\"answer\"] for x in qa_pairs]\n",
        ")\n",
        "\n",
        "def run_to_dataframe(run: Run) -> pd.DataFrame:\n",
        "    return pd.DataFrame(\n",
        "        {\n",
        "            \"reference_question\": [x.reference_question for x in run.run_data],\n",
        "            \"reference_answer\": [x.reference_answer for x in run.run_data],\n",
        "            \"llm_answer\": [x.llm_answer for x in run.run_data],\n",
        "            \"llm_context\": [json.dumps(x.llm_context) for x in run.run_data],\n",
        "            \"answer_similarity\": [x.scores[\"answer_similarity\"] for x in run.run_data]\n",
        "        }\n",
        "    )"
      ],
      "metadata": {
        "id": "AcMz7iV741mP"
      },
      "execution_count": 128,
      "outputs": []
    },
    {
      "cell_type": "markdown",
      "source": [
        "Define Graphlit helper functions"
      ],
      "metadata": {
        "id": "pgRX57EHMVfl"
      }
    },
    {
      "cell_type": "code",
      "source": [
        "import asyncio\n",
        "import time\n",
        "from datetime import datetime\n",
        "\n",
        "async def upload_graphlit_essays():\n",
        "    directory = f\"{tonic_validate_directory}/Sample Data/paul_graham_essays\"\n",
        "\n",
        "    response = await graphlit.client.create_collection(input_types.CollectionInput(name=\"Paul Graham Essays\"))\n",
        "\n",
        "    collection_id = response.create_collection.id if response.create_collection is not None else None\n",
        "\n",
        "    if collection_id is not None:\n",
        "        file_paths = [os.path.join(directory, filename)\n",
        "                    for filename in os.listdir(directory)\n",
        "                    if os.path.isfile(os.path.join(directory, filename))]\n",
        "\n",
        "        start_time = time.time()\n",
        "\n",
        "        tasks = []\n",
        "        for file_path in file_paths:\n",
        "            file_name = os.path.basename(file_path)\n",
        "            content_name, _ = os.path.splitext(file_name)\n",
        "\n",
        "            with open(file_path, \"r\", encoding='utf-8') as file:\n",
        "                file_content = file.read()\n",
        "\n",
        "            task = graphlit.client.ingest_text(content_name, file_content, text_type=enums.TextTypes.PLAIN,\n",
        "                is_synchronous=True, collections=[input_types.EntityReferenceInput(id=collection_id)])\n",
        "            tasks.append(task)\n",
        "\n",
        "        results = await asyncio.gather(*tasks)\n",
        "\n",
        "        duration = time.time() - start_time\n",
        "\n",
        "        current_time = datetime.now()\n",
        "        formatted_time = current_time.strftime(\"%H:%M:%S\")\n",
        "\n",
        "        print(f\"Uploading essays took {duration:.2f} seconds. Finished at {formatted_time} UTC.\")\n",
        "\n",
        "        return collection_id\n",
        "    else:\n",
        "        return None\n",
        "\n",
        "async def create_specification():\n",
        "    input = input_types.SpecificationInput(\n",
        "        name=\"Completion\",\n",
        "        type=enums.SpecificationTypes.COMPLETION,\n",
        "        serviceType=enums.ModelServiceTypes.OPEN_AI,\n",
        "        openAI=input_types.OpenAIModelPropertiesInput(model=enums.OpenAIModels.GPT4_TURBO_128K),\n",
        "        searchType=enums.ConversationSearchTypes.VECTOR,\n",
        "        numberSimilar=25,\n",
        "        retrievalStrategy=input_types.RetrievalStrategyInput(\n",
        "            type=enums.RetrievalStrategyTypes.CHUNK,\n",
        "            contentLimit=10,\n",
        "        ),\n",
        "        rerankingStrategy=input_types.RerankingStrategyInput(\n",
        "            serviceType=enums.RerankingModelServiceTypes.COHERE\n",
        "        )\n",
        "    )\n",
        "\n",
        "    try:\n",
        "        response = await graphlit.client.create_specification(input)\n",
        "\n",
        "        return response.create_specification.id if response.create_specification is not None else None\n",
        "    except exceptions.GraphQLClientError as e:\n",
        "        print(str(e))\n",
        "        return None\n",
        "\n",
        "# NOTE: for cleaning up project data\n",
        "async def delete_all_collections():\n",
        "    _ = await graphlit.client.delete_all_collections()\n",
        "\n",
        "    print('Deleted all collections.')\n",
        "\n",
        "async def delete_all_contents():\n",
        "    _ = await graphlit.client.delete_all_contents()\n",
        "\n",
        "    print('Deleted all contents.')"
      ],
      "metadata": {
        "id": "mtwjJsvVOVCh"
      },
      "execution_count": 129,
      "outputs": []
    },
    {
      "cell_type": "markdown",
      "source": [
        "Define Graphlit RAG function"
      ],
      "metadata": {
        "id": "sw9QCQ_qMh5L"
      }
    },
    {
      "cell_type": "code",
      "source": [
        "async def get_graphlit_rag_response(benchmarkItem: BenchmarkItem, specification_id: str, collection_id: str):\n",
        "    prompt = benchmarkItem.question\n",
        "\n",
        "    input = input_types.ConversationInput(name=\"Conversation\", specification=input_types.EntityReferenceInput(id=specification_id),\n",
        "        filter=input_types.ContentCriteriaInput(collections=[input_types.EntityReferenceInput(id=collection_id)]))\n",
        "\n",
        "    response = await graphlit.client.create_conversation(input)\n",
        "\n",
        "    conversation_id = response.create_conversation.id if response.create_conversation is not None else None\n",
        "\n",
        "    if conversation_id is None:\n",
        "        print('Failed to create conversation.')\n",
        "        return None\n",
        "\n",
        "    print(f'Created conversation [{conversation_id}].')\n",
        "\n",
        "    try:\n",
        "        response = await graphlit.client.prompt_conversation(prompt, conversation_id)\n",
        "\n",
        "        message = response.prompt_conversation.message if response.prompt_conversation is not None else None\n",
        "\n",
        "        return message\n",
        "    finally:\n",
        "        _ = await graphlit.client.delete_conversation(conversation_id)"
      ],
      "metadata": {
        "id": "amGXokEKMcaX"
      },
      "execution_count": 130,
      "outputs": []
    },
    {
      "cell_type": "markdown",
      "source": [
        "Initialize Graphlit test"
      ],
      "metadata": {
        "id": "P36K0fK4NeEb"
      }
    },
    {
      "cell_type": "code",
      "source": [
        "# NOTE: this will delete all contents and collections in project\n",
        "await delete_all_contents()\n",
        "await delete_all_collections()\n",
        "\n",
        "# Initialize specification\n",
        "specification_id = await create_specification()\n",
        "\n",
        "if specification_id is not None:\n",
        "    print(f'Created specification [{specification_id}].')\n",
        "else:\n",
        "    print('Failed to create specification.')"
      ],
      "metadata": {
        "id": "ZoJfJDHkT8At",
        "colab": {
          "base_uri": "https://localhost:8080/"
        },
        "outputId": "7dc65ff9-b863-4ef4-c9a7-b60ee8d90981"
      },
      "execution_count": 131,
      "outputs": [
        {
          "output_type": "stream",
          "name": "stderr",
          "text": [
            "INFO:httpx:HTTP Request: POST https://data-scus.graphlit.io/api/v1/graphql/ \"HTTP/1.1 200 OK\"\n"
          ]
        },
        {
          "output_type": "stream",
          "name": "stdout",
          "text": [
            "Deleted all contents.\n"
          ]
        },
        {
          "output_type": "stream",
          "name": "stderr",
          "text": [
            "INFO:httpx:HTTP Request: POST https://data-scus.graphlit.io/api/v1/graphql/ \"HTTP/1.1 200 OK\"\n"
          ]
        },
        {
          "output_type": "stream",
          "name": "stdout",
          "text": [
            "Deleted all collections.\n"
          ]
        },
        {
          "output_type": "stream",
          "name": "stderr",
          "text": [
            "INFO:httpx:HTTP Request: POST https://data-scus.graphlit.io/api/v1/graphql/ \"HTTP/1.1 200 OK\"\n"
          ]
        },
        {
          "output_type": "stream",
          "name": "stdout",
          "text": [
            "Created specification [226708b4-e10c-4b40-a7a3-f58726008423].\n"
          ]
        }
      ]
    },
    {
      "cell_type": "code",
      "source": [
        "# Upload all essays\n",
        "collection_id = await upload_graphlit_essays()\n",
        "\n",
        "print(f'Essays ingested into collection [{collection_id}].')"
      ],
      "metadata": {
        "id": "01bHgeL30Fux",
        "colab": {
          "base_uri": "https://localhost:8080/"
        },
        "outputId": "38f48c13-f011-479f-d4d8-22da1ce52518"
      },
      "execution_count": 132,
      "outputs": [
        {
          "output_type": "stream",
          "name": "stderr",
          "text": [
            "INFO:httpx:HTTP Request: POST https://data-scus.graphlit.io/api/v1/graphql/ \"HTTP/1.1 200 OK\"\n",
            "INFO:httpx:HTTP Request: POST https://data-scus.graphlit.io/api/v1/graphql/ \"HTTP/1.1 200 OK\"\n",
            "INFO:httpx:HTTP Request: POST https://data-scus.graphlit.io/api/v1/graphql/ \"HTTP/1.1 200 OK\"\n",
            "INFO:httpx:HTTP Request: POST https://data-scus.graphlit.io/api/v1/graphql/ \"HTTP/1.1 200 OK\"\n",
            "INFO:httpx:HTTP Request: POST https://data-scus.graphlit.io/api/v1/graphql/ \"HTTP/1.1 200 OK\"\n",
            "INFO:httpx:HTTP Request: POST https://data-scus.graphlit.io/api/v1/graphql/ \"HTTP/1.1 200 OK\"\n",
            "INFO:httpx:HTTP Request: POST https://data-scus.graphlit.io/api/v1/graphql/ \"HTTP/1.1 200 OK\"\n",
            "INFO:httpx:HTTP Request: POST https://data-scus.graphlit.io/api/v1/graphql/ \"HTTP/1.1 200 OK\"\n",
            "INFO:httpx:HTTP Request: POST https://data-scus.graphlit.io/api/v1/graphql/ \"HTTP/1.1 200 OK\"\n",
            "INFO:httpx:HTTP Request: POST https://data-scus.graphlit.io/api/v1/graphql/ \"HTTP/1.1 200 OK\"\n",
            "INFO:httpx:HTTP Request: POST https://data-scus.graphlit.io/api/v1/graphql/ \"HTTP/1.1 200 OK\"\n",
            "INFO:httpx:HTTP Request: POST https://data-scus.graphlit.io/api/v1/graphql/ \"HTTP/1.1 200 OK\"\n",
            "INFO:httpx:HTTP Request: POST https://data-scus.graphlit.io/api/v1/graphql/ \"HTTP/1.1 200 OK\"\n",
            "INFO:httpx:HTTP Request: POST https://data-scus.graphlit.io/api/v1/graphql/ \"HTTP/1.1 200 OK\"\n",
            "INFO:httpx:HTTP Request: POST https://data-scus.graphlit.io/api/v1/graphql/ \"HTTP/1.1 200 OK\"\n",
            "INFO:httpx:HTTP Request: POST https://data-scus.graphlit.io/api/v1/graphql/ \"HTTP/1.1 200 OK\"\n",
            "INFO:httpx:HTTP Request: POST https://data-scus.graphlit.io/api/v1/graphql/ \"HTTP/1.1 200 OK\"\n",
            "INFO:httpx:HTTP Request: POST https://data-scus.graphlit.io/api/v1/graphql/ \"HTTP/1.1 200 OK\"\n",
            "INFO:httpx:HTTP Request: POST https://data-scus.graphlit.io/api/v1/graphql/ \"HTTP/1.1 200 OK\"\n",
            "INFO:httpx:HTTP Request: POST https://data-scus.graphlit.io/api/v1/graphql/ \"HTTP/1.1 200 OK\"\n",
            "INFO:httpx:HTTP Request: POST https://data-scus.graphlit.io/api/v1/graphql/ \"HTTP/1.1 200 OK\"\n",
            "INFO:httpx:HTTP Request: POST https://data-scus.graphlit.io/api/v1/graphql/ \"HTTP/1.1 200 OK\"\n",
            "INFO:httpx:HTTP Request: POST https://data-scus.graphlit.io/api/v1/graphql/ \"HTTP/1.1 200 OK\"\n",
            "INFO:httpx:HTTP Request: POST https://data-scus.graphlit.io/api/v1/graphql/ \"HTTP/1.1 200 OK\"\n",
            "INFO:httpx:HTTP Request: POST https://data-scus.graphlit.io/api/v1/graphql/ \"HTTP/1.1 200 OK\"\n",
            "INFO:httpx:HTTP Request: POST https://data-scus.graphlit.io/api/v1/graphql/ \"HTTP/1.1 200 OK\"\n",
            "INFO:httpx:HTTP Request: POST https://data-scus.graphlit.io/api/v1/graphql/ \"HTTP/1.1 200 OK\"\n",
            "INFO:httpx:HTTP Request: POST https://data-scus.graphlit.io/api/v1/graphql/ \"HTTP/1.1 200 OK\"\n",
            "INFO:httpx:HTTP Request: POST https://data-scus.graphlit.io/api/v1/graphql/ \"HTTP/1.1 200 OK\"\n",
            "INFO:httpx:HTTP Request: POST https://data-scus.graphlit.io/api/v1/graphql/ \"HTTP/1.1 200 OK\"\n",
            "INFO:httpx:HTTP Request: POST https://data-scus.graphlit.io/api/v1/graphql/ \"HTTP/1.1 200 OK\"\n",
            "INFO:httpx:HTTP Request: POST https://data-scus.graphlit.io/api/v1/graphql/ \"HTTP/1.1 200 OK\"\n",
            "INFO:httpx:HTTP Request: POST https://data-scus.graphlit.io/api/v1/graphql/ \"HTTP/1.1 200 OK\"\n",
            "INFO:httpx:HTTP Request: POST https://data-scus.graphlit.io/api/v1/graphql/ \"HTTP/1.1 200 OK\"\n",
            "INFO:httpx:HTTP Request: POST https://data-scus.graphlit.io/api/v1/graphql/ \"HTTP/1.1 200 OK\"\n",
            "INFO:httpx:HTTP Request: POST https://data-scus.graphlit.io/api/v1/graphql/ \"HTTP/1.1 200 OK\"\n",
            "INFO:httpx:HTTP Request: POST https://data-scus.graphlit.io/api/v1/graphql/ \"HTTP/1.1 200 OK\"\n",
            "INFO:httpx:HTTP Request: POST https://data-scus.graphlit.io/api/v1/graphql/ \"HTTP/1.1 200 OK\"\n",
            "INFO:httpx:HTTP Request: POST https://data-scus.graphlit.io/api/v1/graphql/ \"HTTP/1.1 200 OK\"\n",
            "INFO:httpx:HTTP Request: POST https://data-scus.graphlit.io/api/v1/graphql/ \"HTTP/1.1 200 OK\"\n",
            "INFO:httpx:HTTP Request: POST https://data-scus.graphlit.io/api/v1/graphql/ \"HTTP/1.1 200 OK\"\n",
            "INFO:httpx:HTTP Request: POST https://data-scus.graphlit.io/api/v1/graphql/ \"HTTP/1.1 200 OK\"\n",
            "INFO:httpx:HTTP Request: POST https://data-scus.graphlit.io/api/v1/graphql/ \"HTTP/1.1 200 OK\"\n",
            "INFO:httpx:HTTP Request: POST https://data-scus.graphlit.io/api/v1/graphql/ \"HTTP/1.1 200 OK\"\n",
            "INFO:httpx:HTTP Request: POST https://data-scus.graphlit.io/api/v1/graphql/ \"HTTP/1.1 200 OK\"\n",
            "INFO:httpx:HTTP Request: POST https://data-scus.graphlit.io/api/v1/graphql/ \"HTTP/1.1 200 OK\"\n",
            "INFO:httpx:HTTP Request: POST https://data-scus.graphlit.io/api/v1/graphql/ \"HTTP/1.1 200 OK\"\n",
            "INFO:httpx:HTTP Request: POST https://data-scus.graphlit.io/api/v1/graphql/ \"HTTP/1.1 200 OK\"\n",
            "INFO:httpx:HTTP Request: POST https://data-scus.graphlit.io/api/v1/graphql/ \"HTTP/1.1 200 OK\"\n",
            "INFO:httpx:HTTP Request: POST https://data-scus.graphlit.io/api/v1/graphql/ \"HTTP/1.1 200 OK\"\n",
            "INFO:httpx:HTTP Request: POST https://data-scus.graphlit.io/api/v1/graphql/ \"HTTP/1.1 200 OK\"\n",
            "INFO:httpx:HTTP Request: POST https://data-scus.graphlit.io/api/v1/graphql/ \"HTTP/1.1 200 OK\"\n",
            "INFO:httpx:HTTP Request: POST https://data-scus.graphlit.io/api/v1/graphql/ \"HTTP/1.1 200 OK\"\n",
            "INFO:httpx:HTTP Request: POST https://data-scus.graphlit.io/api/v1/graphql/ \"HTTP/1.1 200 OK\"\n",
            "INFO:httpx:HTTP Request: POST https://data-scus.graphlit.io/api/v1/graphql/ \"HTTP/1.1 200 OK\"\n",
            "INFO:httpx:HTTP Request: POST https://data-scus.graphlit.io/api/v1/graphql/ \"HTTP/1.1 200 OK\"\n",
            "INFO:httpx:HTTP Request: POST https://data-scus.graphlit.io/api/v1/graphql/ \"HTTP/1.1 200 OK\"\n",
            "INFO:httpx:HTTP Request: POST https://data-scus.graphlit.io/api/v1/graphql/ \"HTTP/1.1 200 OK\"\n",
            "INFO:httpx:HTTP Request: POST https://data-scus.graphlit.io/api/v1/graphql/ \"HTTP/1.1 200 OK\"\n",
            "INFO:httpx:HTTP Request: POST https://data-scus.graphlit.io/api/v1/graphql/ \"HTTP/1.1 200 OK\"\n",
            "INFO:httpx:HTTP Request: POST https://data-scus.graphlit.io/api/v1/graphql/ \"HTTP/1.1 200 OK\"\n",
            "INFO:httpx:HTTP Request: POST https://data-scus.graphlit.io/api/v1/graphql/ \"HTTP/1.1 200 OK\"\n",
            "INFO:httpx:HTTP Request: POST https://data-scus.graphlit.io/api/v1/graphql/ \"HTTP/1.1 200 OK\"\n",
            "INFO:httpx:HTTP Request: POST https://data-scus.graphlit.io/api/v1/graphql/ \"HTTP/1.1 200 OK\"\n",
            "INFO:httpx:HTTP Request: POST https://data-scus.graphlit.io/api/v1/graphql/ \"HTTP/1.1 200 OK\"\n",
            "INFO:httpx:HTTP Request: POST https://data-scus.graphlit.io/api/v1/graphql/ \"HTTP/1.1 200 OK\"\n",
            "INFO:httpx:HTTP Request: POST https://data-scus.graphlit.io/api/v1/graphql/ \"HTTP/1.1 200 OK\"\n",
            "INFO:httpx:HTTP Request: POST https://data-scus.graphlit.io/api/v1/graphql/ \"HTTP/1.1 200 OK\"\n",
            "INFO:httpx:HTTP Request: POST https://data-scus.graphlit.io/api/v1/graphql/ \"HTTP/1.1 200 OK\"\n",
            "INFO:httpx:HTTP Request: POST https://data-scus.graphlit.io/api/v1/graphql/ \"HTTP/1.1 200 OK\"\n",
            "INFO:httpx:HTTP Request: POST https://data-scus.graphlit.io/api/v1/graphql/ \"HTTP/1.1 200 OK\"\n",
            "INFO:httpx:HTTP Request: POST https://data-scus.graphlit.io/api/v1/graphql/ \"HTTP/1.1 200 OK\"\n",
            "INFO:httpx:HTTP Request: POST https://data-scus.graphlit.io/api/v1/graphql/ \"HTTP/1.1 200 OK\"\n",
            "INFO:httpx:HTTP Request: POST https://data-scus.graphlit.io/api/v1/graphql/ \"HTTP/1.1 200 OK\"\n",
            "INFO:httpx:HTTP Request: POST https://data-scus.graphlit.io/api/v1/graphql/ \"HTTP/1.1 200 OK\"\n",
            "INFO:httpx:HTTP Request: POST https://data-scus.graphlit.io/api/v1/graphql/ \"HTTP/1.1 200 OK\"\n",
            "INFO:httpx:HTTP Request: POST https://data-scus.graphlit.io/api/v1/graphql/ \"HTTP/1.1 200 OK\"\n",
            "INFO:httpx:HTTP Request: POST https://data-scus.graphlit.io/api/v1/graphql/ \"HTTP/1.1 200 OK\"\n",
            "INFO:httpx:HTTP Request: POST https://data-scus.graphlit.io/api/v1/graphql/ \"HTTP/1.1 200 OK\"\n",
            "INFO:httpx:HTTP Request: POST https://data-scus.graphlit.io/api/v1/graphql/ \"HTTP/1.1 200 OK\"\n",
            "INFO:httpx:HTTP Request: POST https://data-scus.graphlit.io/api/v1/graphql/ \"HTTP/1.1 200 OK\"\n",
            "INFO:httpx:HTTP Request: POST https://data-scus.graphlit.io/api/v1/graphql/ \"HTTP/1.1 200 OK\"\n",
            "INFO:httpx:HTTP Request: POST https://data-scus.graphlit.io/api/v1/graphql/ \"HTTP/1.1 200 OK\"\n",
            "INFO:httpx:HTTP Request: POST https://data-scus.graphlit.io/api/v1/graphql/ \"HTTP/1.1 200 OK\"\n",
            "INFO:httpx:HTTP Request: POST https://data-scus.graphlit.io/api/v1/graphql/ \"HTTP/1.1 200 OK\"\n",
            "INFO:httpx:HTTP Request: POST https://data-scus.graphlit.io/api/v1/graphql/ \"HTTP/1.1 200 OK\"\n",
            "INFO:httpx:HTTP Request: POST https://data-scus.graphlit.io/api/v1/graphql/ \"HTTP/1.1 200 OK\"\n",
            "INFO:httpx:HTTP Request: POST https://data-scus.graphlit.io/api/v1/graphql/ \"HTTP/1.1 200 OK\"\n",
            "INFO:httpx:HTTP Request: POST https://data-scus.graphlit.io/api/v1/graphql/ \"HTTP/1.1 200 OK\"\n",
            "INFO:httpx:HTTP Request: POST https://data-scus.graphlit.io/api/v1/graphql/ \"HTTP/1.1 200 OK\"\n",
            "INFO:httpx:HTTP Request: POST https://data-scus.graphlit.io/api/v1/graphql/ \"HTTP/1.1 200 OK\"\n",
            "INFO:httpx:HTTP Request: POST https://data-scus.graphlit.io/api/v1/graphql/ \"HTTP/1.1 200 OK\"\n",
            "INFO:httpx:HTTP Request: POST https://data-scus.graphlit.io/api/v1/graphql/ \"HTTP/1.1 200 OK\"\n",
            "INFO:httpx:HTTP Request: POST https://data-scus.graphlit.io/api/v1/graphql/ \"HTTP/1.1 200 OK\"\n",
            "INFO:httpx:HTTP Request: POST https://data-scus.graphlit.io/api/v1/graphql/ \"HTTP/1.1 200 OK\"\n",
            "INFO:httpx:HTTP Request: POST https://data-scus.graphlit.io/api/v1/graphql/ \"HTTP/1.1 200 OK\"\n",
            "INFO:httpx:HTTP Request: POST https://data-scus.graphlit.io/api/v1/graphql/ \"HTTP/1.1 200 OK\"\n",
            "INFO:httpx:HTTP Request: POST https://data-scus.graphlit.io/api/v1/graphql/ \"HTTP/1.1 200 OK\"\n",
            "INFO:httpx:HTTP Request: POST https://data-scus.graphlit.io/api/v1/graphql/ \"HTTP/1.1 200 OK\"\n",
            "INFO:httpx:HTTP Request: POST https://data-scus.graphlit.io/api/v1/graphql/ \"HTTP/1.1 200 OK\"\n",
            "INFO:httpx:HTTP Request: POST https://data-scus.graphlit.io/api/v1/graphql/ \"HTTP/1.1 200 OK\"\n",
            "INFO:httpx:HTTP Request: POST https://data-scus.graphlit.io/api/v1/graphql/ \"HTTP/1.1 200 OK\"\n",
            "INFO:httpx:HTTP Request: POST https://data-scus.graphlit.io/api/v1/graphql/ \"HTTP/1.1 200 OK\"\n",
            "INFO:httpx:HTTP Request: POST https://data-scus.graphlit.io/api/v1/graphql/ \"HTTP/1.1 200 OK\"\n",
            "INFO:httpx:HTTP Request: POST https://data-scus.graphlit.io/api/v1/graphql/ \"HTTP/1.1 200 OK\"\n",
            "INFO:httpx:HTTP Request: POST https://data-scus.graphlit.io/api/v1/graphql/ \"HTTP/1.1 200 OK\"\n",
            "INFO:httpx:HTTP Request: POST https://data-scus.graphlit.io/api/v1/graphql/ \"HTTP/1.1 200 OK\"\n",
            "INFO:httpx:HTTP Request: POST https://data-scus.graphlit.io/api/v1/graphql/ \"HTTP/1.1 200 OK\"\n",
            "INFO:httpx:HTTP Request: POST https://data-scus.graphlit.io/api/v1/graphql/ \"HTTP/1.1 200 OK\"\n",
            "INFO:httpx:HTTP Request: POST https://data-scus.graphlit.io/api/v1/graphql/ \"HTTP/1.1 200 OK\"\n",
            "INFO:httpx:HTTP Request: POST https://data-scus.graphlit.io/api/v1/graphql/ \"HTTP/1.1 200 OK\"\n",
            "INFO:httpx:HTTP Request: POST https://data-scus.graphlit.io/api/v1/graphql/ \"HTTP/1.1 200 OK\"\n",
            "INFO:httpx:HTTP Request: POST https://data-scus.graphlit.io/api/v1/graphql/ \"HTTP/1.1 200 OK\"\n",
            "INFO:httpx:HTTP Request: POST https://data-scus.graphlit.io/api/v1/graphql/ \"HTTP/1.1 200 OK\"\n",
            "INFO:httpx:HTTP Request: POST https://data-scus.graphlit.io/api/v1/graphql/ \"HTTP/1.1 200 OK\"\n",
            "INFO:httpx:HTTP Request: POST https://data-scus.graphlit.io/api/v1/graphql/ \"HTTP/1.1 200 OK\"\n",
            "INFO:httpx:HTTP Request: POST https://data-scus.graphlit.io/api/v1/graphql/ \"HTTP/1.1 200 OK\"\n",
            "INFO:httpx:HTTP Request: POST https://data-scus.graphlit.io/api/v1/graphql/ \"HTTP/1.1 200 OK\"\n",
            "INFO:httpx:HTTP Request: POST https://data-scus.graphlit.io/api/v1/graphql/ \"HTTP/1.1 200 OK\"\n",
            "INFO:httpx:HTTP Request: POST https://data-scus.graphlit.io/api/v1/graphql/ \"HTTP/1.1 200 OK\"\n",
            "INFO:httpx:HTTP Request: POST https://data-scus.graphlit.io/api/v1/graphql/ \"HTTP/1.1 200 OK\"\n",
            "INFO:httpx:HTTP Request: POST https://data-scus.graphlit.io/api/v1/graphql/ \"HTTP/1.1 200 OK\"\n",
            "INFO:httpx:HTTP Request: POST https://data-scus.graphlit.io/api/v1/graphql/ \"HTTP/1.1 200 OK\"\n",
            "INFO:httpx:HTTP Request: POST https://data-scus.graphlit.io/api/v1/graphql/ \"HTTP/1.1 200 OK\"\n",
            "INFO:httpx:HTTP Request: POST https://data-scus.graphlit.io/api/v1/graphql/ \"HTTP/1.1 200 OK\"\n",
            "INFO:httpx:HTTP Request: POST https://data-scus.graphlit.io/api/v1/graphql/ \"HTTP/1.1 200 OK\"\n",
            "INFO:httpx:HTTP Request: POST https://data-scus.graphlit.io/api/v1/graphql/ \"HTTP/1.1 200 OK\"\n",
            "INFO:httpx:HTTP Request: POST https://data-scus.graphlit.io/api/v1/graphql/ \"HTTP/1.1 200 OK\"\n",
            "INFO:httpx:HTTP Request: POST https://data-scus.graphlit.io/api/v1/graphql/ \"HTTP/1.1 200 OK\"\n",
            "INFO:httpx:HTTP Request: POST https://data-scus.graphlit.io/api/v1/graphql/ \"HTTP/1.1 200 OK\"\n",
            "INFO:httpx:HTTP Request: POST https://data-scus.graphlit.io/api/v1/graphql/ \"HTTP/1.1 200 OK\"\n",
            "INFO:httpx:HTTP Request: POST https://data-scus.graphlit.io/api/v1/graphql/ \"HTTP/1.1 200 OK\"\n",
            "INFO:httpx:HTTP Request: POST https://data-scus.graphlit.io/api/v1/graphql/ \"HTTP/1.1 200 OK\"\n",
            "INFO:httpx:HTTP Request: POST https://data-scus.graphlit.io/api/v1/graphql/ \"HTTP/1.1 200 OK\"\n",
            "INFO:httpx:HTTP Request: POST https://data-scus.graphlit.io/api/v1/graphql/ \"HTTP/1.1 200 OK\"\n",
            "INFO:httpx:HTTP Request: POST https://data-scus.graphlit.io/api/v1/graphql/ \"HTTP/1.1 200 OK\"\n",
            "INFO:httpx:HTTP Request: POST https://data-scus.graphlit.io/api/v1/graphql/ \"HTTP/1.1 200 OK\"\n",
            "INFO:httpx:HTTP Request: POST https://data-scus.graphlit.io/api/v1/graphql/ \"HTTP/1.1 200 OK\"\n",
            "INFO:httpx:HTTP Request: POST https://data-scus.graphlit.io/api/v1/graphql/ \"HTTP/1.1 200 OK\"\n",
            "INFO:httpx:HTTP Request: POST https://data-scus.graphlit.io/api/v1/graphql/ \"HTTP/1.1 200 OK\"\n",
            "INFO:httpx:HTTP Request: POST https://data-scus.graphlit.io/api/v1/graphql/ \"HTTP/1.1 200 OK\"\n",
            "INFO:httpx:HTTP Request: POST https://data-scus.graphlit.io/api/v1/graphql/ \"HTTP/1.1 200 OK\"\n",
            "INFO:httpx:HTTP Request: POST https://data-scus.graphlit.io/api/v1/graphql/ \"HTTP/1.1 200 OK\"\n",
            "INFO:httpx:HTTP Request: POST https://data-scus.graphlit.io/api/v1/graphql/ \"HTTP/1.1 200 OK\"\n",
            "INFO:httpx:HTTP Request: POST https://data-scus.graphlit.io/api/v1/graphql/ \"HTTP/1.1 200 OK\"\n",
            "INFO:httpx:HTTP Request: POST https://data-scus.graphlit.io/api/v1/graphql/ \"HTTP/1.1 200 OK\"\n",
            "INFO:httpx:HTTP Request: POST https://data-scus.graphlit.io/api/v1/graphql/ \"HTTP/1.1 200 OK\"\n",
            "INFO:httpx:HTTP Request: POST https://data-scus.graphlit.io/api/v1/graphql/ \"HTTP/1.1 200 OK\"\n",
            "INFO:httpx:HTTP Request: POST https://data-scus.graphlit.io/api/v1/graphql/ \"HTTP/1.1 200 OK\"\n",
            "INFO:httpx:HTTP Request: POST https://data-scus.graphlit.io/api/v1/graphql/ \"HTTP/1.1 200 OK\"\n",
            "INFO:httpx:HTTP Request: POST https://data-scus.graphlit.io/api/v1/graphql/ \"HTTP/1.1 200 OK\"\n",
            "INFO:httpx:HTTP Request: POST https://data-scus.graphlit.io/api/v1/graphql/ \"HTTP/1.1 200 OK\"\n",
            "INFO:httpx:HTTP Request: POST https://data-scus.graphlit.io/api/v1/graphql/ \"HTTP/1.1 200 OK\"\n",
            "INFO:httpx:HTTP Request: POST https://data-scus.graphlit.io/api/v1/graphql/ \"HTTP/1.1 200 OK\"\n",
            "INFO:httpx:HTTP Request: POST https://data-scus.graphlit.io/api/v1/graphql/ \"HTTP/1.1 200 OK\"\n",
            "INFO:httpx:HTTP Request: POST https://data-scus.graphlit.io/api/v1/graphql/ \"HTTP/1.1 200 OK\"\n",
            "INFO:httpx:HTTP Request: POST https://data-scus.graphlit.io/api/v1/graphql/ \"HTTP/1.1 200 OK\"\n",
            "INFO:httpx:HTTP Request: POST https://data-scus.graphlit.io/api/v1/graphql/ \"HTTP/1.1 200 OK\"\n",
            "INFO:httpx:HTTP Request: POST https://data-scus.graphlit.io/api/v1/graphql/ \"HTTP/1.1 200 OK\"\n",
            "INFO:httpx:HTTP Request: POST https://data-scus.graphlit.io/api/v1/graphql/ \"HTTP/1.1 200 OK\"\n",
            "INFO:httpx:HTTP Request: POST https://data-scus.graphlit.io/api/v1/graphql/ \"HTTP/1.1 200 OK\"\n",
            "INFO:httpx:HTTP Request: POST https://data-scus.graphlit.io/api/v1/graphql/ \"HTTP/1.1 200 OK\"\n",
            "INFO:httpx:HTTP Request: POST https://data-scus.graphlit.io/api/v1/graphql/ \"HTTP/1.1 200 OK\"\n",
            "INFO:httpx:HTTP Request: POST https://data-scus.graphlit.io/api/v1/graphql/ \"HTTP/1.1 200 OK\"\n",
            "INFO:httpx:HTTP Request: POST https://data-scus.graphlit.io/api/v1/graphql/ \"HTTP/1.1 200 OK\"\n",
            "INFO:httpx:HTTP Request: POST https://data-scus.graphlit.io/api/v1/graphql/ \"HTTP/1.1 200 OK\"\n",
            "INFO:httpx:HTTP Request: POST https://data-scus.graphlit.io/api/v1/graphql/ \"HTTP/1.1 200 OK\"\n",
            "INFO:httpx:HTTP Request: POST https://data-scus.graphlit.io/api/v1/graphql/ \"HTTP/1.1 200 OK\"\n",
            "INFO:httpx:HTTP Request: POST https://data-scus.graphlit.io/api/v1/graphql/ \"HTTP/1.1 200 OK\"\n",
            "INFO:httpx:HTTP Request: POST https://data-scus.graphlit.io/api/v1/graphql/ \"HTTP/1.1 200 OK\"\n",
            "INFO:httpx:HTTP Request: POST https://data-scus.graphlit.io/api/v1/graphql/ \"HTTP/1.1 200 OK\"\n",
            "INFO:httpx:HTTP Request: POST https://data-scus.graphlit.io/api/v1/graphql/ \"HTTP/1.1 200 OK\"\n",
            "INFO:httpx:HTTP Request: POST https://data-scus.graphlit.io/api/v1/graphql/ \"HTTP/1.1 200 OK\"\n",
            "INFO:httpx:HTTP Request: POST https://data-scus.graphlit.io/api/v1/graphql/ \"HTTP/1.1 200 OK\"\n",
            "INFO:httpx:HTTP Request: POST https://data-scus.graphlit.io/api/v1/graphql/ \"HTTP/1.1 200 OK\"\n",
            "INFO:httpx:HTTP Request: POST https://data-scus.graphlit.io/api/v1/graphql/ \"HTTP/1.1 200 OK\"\n",
            "INFO:httpx:HTTP Request: POST https://data-scus.graphlit.io/api/v1/graphql/ \"HTTP/1.1 200 OK\"\n",
            "INFO:httpx:HTTP Request: POST https://data-scus.graphlit.io/api/v1/graphql/ \"HTTP/1.1 200 OK\"\n",
            "INFO:httpx:HTTP Request: POST https://data-scus.graphlit.io/api/v1/graphql/ \"HTTP/1.1 200 OK\"\n",
            "INFO:httpx:HTTP Request: POST https://data-scus.graphlit.io/api/v1/graphql/ \"HTTP/1.1 200 OK\"\n",
            "INFO:httpx:HTTP Request: POST https://data-scus.graphlit.io/api/v1/graphql/ \"HTTP/1.1 200 OK\"\n",
            "INFO:httpx:HTTP Request: POST https://data-scus.graphlit.io/api/v1/graphql/ \"HTTP/1.1 200 OK\"\n",
            "INFO:httpx:HTTP Request: POST https://data-scus.graphlit.io/api/v1/graphql/ \"HTTP/1.1 200 OK\"\n",
            "INFO:httpx:HTTP Request: POST https://data-scus.graphlit.io/api/v1/graphql/ \"HTTP/1.1 200 OK\"\n",
            "INFO:httpx:HTTP Request: POST https://data-scus.graphlit.io/api/v1/graphql/ \"HTTP/1.1 200 OK\"\n",
            "INFO:httpx:HTTP Request: POST https://data-scus.graphlit.io/api/v1/graphql/ \"HTTP/1.1 200 OK\"\n",
            "INFO:httpx:HTTP Request: POST https://data-scus.graphlit.io/api/v1/graphql/ \"HTTP/1.1 200 OK\"\n",
            "INFO:httpx:HTTP Request: POST https://data-scus.graphlit.io/api/v1/graphql/ \"HTTP/1.1 200 OK\"\n",
            "INFO:httpx:HTTP Request: POST https://data-scus.graphlit.io/api/v1/graphql/ \"HTTP/1.1 200 OK\"\n",
            "INFO:httpx:HTTP Request: POST https://data-scus.graphlit.io/api/v1/graphql/ \"HTTP/1.1 200 OK\"\n",
            "INFO:httpx:HTTP Request: POST https://data-scus.graphlit.io/api/v1/graphql/ \"HTTP/1.1 200 OK\"\n",
            "INFO:httpx:HTTP Request: POST https://data-scus.graphlit.io/api/v1/graphql/ \"HTTP/1.1 200 OK\"\n",
            "INFO:httpx:HTTP Request: POST https://data-scus.graphlit.io/api/v1/graphql/ \"HTTP/1.1 200 OK\"\n",
            "INFO:httpx:HTTP Request: POST https://data-scus.graphlit.io/api/v1/graphql/ \"HTTP/1.1 200 OK\"\n",
            "INFO:httpx:HTTP Request: POST https://data-scus.graphlit.io/api/v1/graphql/ \"HTTP/1.1 200 OK\"\n",
            "INFO:httpx:HTTP Request: POST https://data-scus.graphlit.io/api/v1/graphql/ \"HTTP/1.1 200 OK\"\n",
            "INFO:httpx:HTTP Request: POST https://data-scus.graphlit.io/api/v1/graphql/ \"HTTP/1.1 200 OK\"\n",
            "INFO:httpx:HTTP Request: POST https://data-scus.graphlit.io/api/v1/graphql/ \"HTTP/1.1 200 OK\"\n",
            "INFO:httpx:HTTP Request: POST https://data-scus.graphlit.io/api/v1/graphql/ \"HTTP/1.1 200 OK\"\n",
            "INFO:httpx:HTTP Request: POST https://data-scus.graphlit.io/api/v1/graphql/ \"HTTP/1.1 200 OK\"\n",
            "INFO:httpx:HTTP Request: POST https://data-scus.graphlit.io/api/v1/graphql/ \"HTTP/1.1 200 OK\"\n",
            "INFO:httpx:HTTP Request: POST https://data-scus.graphlit.io/api/v1/graphql/ \"HTTP/1.1 200 OK\"\n",
            "INFO:httpx:HTTP Request: POST https://data-scus.graphlit.io/api/v1/graphql/ \"HTTP/1.1 200 OK\"\n",
            "INFO:httpx:HTTP Request: POST https://data-scus.graphlit.io/api/v1/graphql/ \"HTTP/1.1 200 OK\"\n",
            "INFO:httpx:HTTP Request: POST https://data-scus.graphlit.io/api/v1/graphql/ \"HTTP/1.1 200 OK\"\n",
            "INFO:httpx:HTTP Request: POST https://data-scus.graphlit.io/api/v1/graphql/ \"HTTP/1.1 200 OK\"\n",
            "INFO:httpx:HTTP Request: POST https://data-scus.graphlit.io/api/v1/graphql/ \"HTTP/1.1 200 OK\"\n",
            "INFO:httpx:HTTP Request: POST https://data-scus.graphlit.io/api/v1/graphql/ \"HTTP/1.1 200 OK\"\n",
            "INFO:httpx:HTTP Request: POST https://data-scus.graphlit.io/api/v1/graphql/ \"HTTP/1.1 200 OK\"\n",
            "INFO:httpx:HTTP Request: POST https://data-scus.graphlit.io/api/v1/graphql/ \"HTTP/1.1 200 OK\"\n",
            "INFO:httpx:HTTP Request: POST https://data-scus.graphlit.io/api/v1/graphql/ \"HTTP/1.1 200 OK\"\n",
            "INFO:httpx:HTTP Request: POST https://data-scus.graphlit.io/api/v1/graphql/ \"HTTP/1.1 200 OK\"\n",
            "INFO:httpx:HTTP Request: POST https://data-scus.graphlit.io/api/v1/graphql/ \"HTTP/1.1 200 OK\"\n"
          ]
        },
        {
          "output_type": "stream",
          "name": "stdout",
          "text": [
            "Uploading essays took 37.97 seconds. Finished at 08:32:21 UTC.\n",
            "Essays ingested into collection [0d9f47b9-3614-4144-b216-e780e7f88916].\n"
          ]
        }
      ]
    },
    {
      "cell_type": "markdown",
      "source": [
        "Validate Graphlit response"
      ],
      "metadata": {
        "id": "kwXchpK0Nw7U"
      }
    },
    {
      "cell_type": "code",
      "source": [
        "benchmark_item = BenchmarkItem(\n",
        "    question=\"What key components are necessary to create a technology hub according to Paul Graham?\",\n",
        "    answer=\"\"\n",
        ")\n",
        "\n",
        "if collection_id is not None and specification_id is not None:\n",
        "    message = await get_graphlit_rag_response(benchmark_item, specification_id, collection_id)\n",
        "\n",
        "    if message is not None:\n",
        "        print(message.message)\n",
        "        print(f'Tokens: {message.tokens}, took [{message.completion_time}]')"
      ],
      "metadata": {
        "id": "6xn58jvx5M2-",
        "colab": {
          "base_uri": "https://localhost:8080/"
        },
        "outputId": "c7e7c339-46f2-4872-89cb-28de188617d8"
      },
      "execution_count": 133,
      "outputs": [
        {
          "output_type": "stream",
          "name": "stderr",
          "text": [
            "INFO:httpx:HTTP Request: POST https://data-scus.graphlit.io/api/v1/graphql/ \"HTTP/1.1 200 OK\"\n"
          ]
        },
        {
          "output_type": "stream",
          "name": "stdout",
          "text": [
            "Created conversation [e554201a-8f98-4c7e-9214-6e3474c1c70d].\n"
          ]
        },
        {
          "output_type": "stream",
          "name": "stderr",
          "text": [
            "INFO:httpx:HTTP Request: POST https://data-scus.graphlit.io/api/v1/graphql/ \"HTTP/1.1 200 OK\"\n",
            "INFO:httpx:HTTP Request: POST https://data-scus.graphlit.io/api/v1/graphql/ \"HTTP/1.1 200 OK\"\n"
          ]
        },
        {
          "output_type": "stream",
          "name": "stdout",
          "text": [
            "According to Paul Graham, several key components are necessary to create a technology hub. First, the presence of 'rich people and nerds' is crucial as they are the primary actors in the startup ecosystem. Rich people provide the necessary capital, while nerds contribute the innovative ideas and technical expertise. Second, a first-rate university is essential, acting as a magnet to attract top talent and foster a culture of innovation. This university should ideally be comparable to institutions like MIT or Stanford, which have historically been central to the development of tech hubs like Silicon Valley.\n",
            "\n",
            "Additionally, an environment that encourages startups is vital. This includes having a high density of people interested in startups, which increases the likelihood of chance meetings and collaborations that are crucial for innovation. The social atmosphere should also be conducive to taking ambitious risks, often characterized by a sense of optimism and a lack of restrictive norms that might otherwise pull individuals toward mediocrity. Lastly, the physical location should be appealing not just to students but also to investors and entrepreneurs, making it a place where they would want to live and work.\n",
            "Tokens: 246, took [PT17.7616171S]\n"
          ]
        }
      ]
    },
    {
      "cell_type": "markdown",
      "source": [
        "Perform Graphlit test and score run"
      ],
      "metadata": {
        "id": "srzhQt4COLVI"
      }
    },
    {
      "cell_type": "code",
      "source": [
        "import asyncio\n",
        "\n",
        "async def run_test(specification_id, collection_id):\n",
        "    tasks = []\n",
        "    for item in benchmark.items:\n",
        "        task = get_graphlit_rag_response(item, specification_id, collection_id)\n",
        "        tasks.append(task)\n",
        "\n",
        "    return await asyncio.gather(*tasks)\n",
        "\n",
        "messages = await run_test(specification_id, collection_id)\n",
        "\n",
        "raw_graphlit_responses = []\n",
        "\n",
        "for message in messages:\n",
        "    raw_graphlit_responses.append(message.message.strip())"
      ],
      "metadata": {
        "id": "fOb6COcONZIJ",
        "colab": {
          "base_uri": "https://localhost:8080/"
        },
        "outputId": "deefd907-1350-4165-c79d-2886e9bee186"
      },
      "execution_count": 134,
      "outputs": [
        {
          "output_type": "stream",
          "name": "stderr",
          "text": [
            "INFO:httpx:HTTP Request: POST https://data-scus.graphlit.io/api/v1/graphql/ \"HTTP/1.1 200 OK\"\n"
          ]
        },
        {
          "output_type": "stream",
          "name": "stdout",
          "text": [
            "Created conversation [e502ccdb-d031-4ecc-a9cc-f06878a6938a].\n"
          ]
        },
        {
          "output_type": "stream",
          "name": "stderr",
          "text": [
            "INFO:httpx:HTTP Request: POST https://data-scus.graphlit.io/api/v1/graphql/ \"HTTP/1.1 200 OK\"\n",
            "INFO:httpx:HTTP Request: POST https://data-scus.graphlit.io/api/v1/graphql/ \"HTTP/1.1 200 OK\"\n"
          ]
        },
        {
          "output_type": "stream",
          "name": "stdout",
          "text": [
            "Created conversation [12e5d001-d246-4a5f-a958-cf1b47eb1f7f].\n",
            "Created conversation [9ae9778d-ef90-4b9c-8f33-947271e33a9f].\n"
          ]
        },
        {
          "output_type": "stream",
          "name": "stderr",
          "text": [
            "INFO:httpx:HTTP Request: POST https://data-scus.graphlit.io/api/v1/graphql/ \"HTTP/1.1 200 OK\"\n"
          ]
        },
        {
          "output_type": "stream",
          "name": "stdout",
          "text": [
            "Created conversation [efb57246-d776-4b78-bbae-3e0b8a060f29].\n"
          ]
        },
        {
          "output_type": "stream",
          "name": "stderr",
          "text": [
            "INFO:httpx:HTTP Request: POST https://data-scus.graphlit.io/api/v1/graphql/ \"HTTP/1.1 200 OK\"\n",
            "INFO:httpx:HTTP Request: POST https://data-scus.graphlit.io/api/v1/graphql/ \"HTTP/1.1 200 OK\"\n",
            "INFO:httpx:HTTP Request: POST https://data-scus.graphlit.io/api/v1/graphql/ \"HTTP/1.1 200 OK\"\n",
            "INFO:httpx:HTTP Request: POST https://data-scus.graphlit.io/api/v1/graphql/ \"HTTP/1.1 200 OK\"\n",
            "INFO:httpx:HTTP Request: POST https://data-scus.graphlit.io/api/v1/graphql/ \"HTTP/1.1 200 OK\"\n",
            "INFO:httpx:HTTP Request: POST https://data-scus.graphlit.io/api/v1/graphql/ \"HTTP/1.1 200 OK\"\n",
            "INFO:httpx:HTTP Request: POST https://data-scus.graphlit.io/api/v1/graphql/ \"HTTP/1.1 200 OK\"\n",
            "INFO:httpx:HTTP Request: POST https://data-scus.graphlit.io/api/v1/graphql/ \"HTTP/1.1 200 OK\"\n",
            "INFO:httpx:HTTP Request: POST https://data-scus.graphlit.io/api/v1/graphql/ \"HTTP/1.1 200 OK\"\n",
            "INFO:httpx:HTTP Request: POST https://data-scus.graphlit.io/api/v1/graphql/ \"HTTP/1.1 200 OK\"\n",
            "INFO:httpx:HTTP Request: POST https://data-scus.graphlit.io/api/v1/graphql/ \"HTTP/1.1 200 OK\"\n",
            "INFO:httpx:HTTP Request: POST https://data-scus.graphlit.io/api/v1/graphql/ \"HTTP/1.1 200 OK\"\n",
            "INFO:httpx:HTTP Request: POST https://data-scus.graphlit.io/api/v1/graphql/ \"HTTP/1.1 200 OK\"\n",
            "INFO:httpx:HTTP Request: POST https://data-scus.graphlit.io/api/v1/graphql/ \"HTTP/1.1 200 OK\"\n",
            "INFO:httpx:HTTP Request: POST https://data-scus.graphlit.io/api/v1/graphql/ \"HTTP/1.1 200 OK\"\n",
            "INFO:httpx:HTTP Request: POST https://data-scus.graphlit.io/api/v1/graphql/ \"HTTP/1.1 200 OK\"\n",
            "INFO:httpx:HTTP Request: POST https://data-scus.graphlit.io/api/v1/graphql/ \"HTTP/1.1 200 OK\"\n",
            "INFO:httpx:HTTP Request: POST https://data-scus.graphlit.io/api/v1/graphql/ \"HTTP/1.1 200 OK\"\n"
          ]
        },
        {
          "output_type": "stream",
          "name": "stdout",
          "text": [
            "Created conversation [2cfbe8b6-585e-4b50-a698-4ed3e8912cfa].\n",
            "Created conversation [c946a3db-f0e6-4a71-9d9a-a19cfd0b875f].\n",
            "Created conversation [5d3ae86b-06fa-4b1a-b953-12e0550479f2].\n",
            "Created conversation [c7766f5c-5f68-4dbc-8f65-5ea70899e5b6].\n",
            "Created conversation [bbdd6e99-58ce-4e0d-9636-04d722eb921a].\n",
            "Created conversation [1007b8a4-346c-4e93-b760-0ed6d96448d5].\n",
            "Created conversation [75e105e9-966d-435c-b768-6b4cab23bdc0].\n",
            "Created conversation [e765d38b-d637-4fa6-909f-ef34e2da922d].\n",
            "Created conversation [d34c07da-448a-43e1-a676-112157434e3c].\n",
            "Created conversation [4f849bd6-a093-48a7-9dea-00fa21fd1c8b].\n",
            "Created conversation [bc09f246-ed4d-427b-a1ce-bb78c6777bf4].\n",
            "Created conversation [2ed04d10-7ff7-494e-9e91-3919086f3334].\n",
            "Created conversation [1a399129-4f69-450a-a3ae-f10c4578611b].\n",
            "Created conversation [c8ccdf6c-aa74-45d6-a245-fc3e1da4888f].\n",
            "Created conversation [6a322fc6-bf2a-4bf2-bb20-8fc95cb32c7a].\n",
            "Created conversation [7b8ce7d3-7163-4484-bc06-5e51c5235d21].\n"
          ]
        },
        {
          "output_type": "stream",
          "name": "stderr",
          "text": [
            "INFO:httpx:HTTP Request: POST https://data-scus.graphlit.io/api/v1/graphql/ \"HTTP/1.1 200 OK\"\n",
            "INFO:httpx:HTTP Request: POST https://data-scus.graphlit.io/api/v1/graphql/ \"HTTP/1.1 200 OK\"\n",
            "INFO:httpx:HTTP Request: POST https://data-scus.graphlit.io/api/v1/graphql/ \"HTTP/1.1 200 OK\"\n",
            "INFO:httpx:HTTP Request: POST https://data-scus.graphlit.io/api/v1/graphql/ \"HTTP/1.1 200 OK\"\n",
            "INFO:httpx:HTTP Request: POST https://data-scus.graphlit.io/api/v1/graphql/ \"HTTP/1.1 200 OK\"\n",
            "INFO:httpx:HTTP Request: POST https://data-scus.graphlit.io/api/v1/graphql/ \"HTTP/1.1 200 OK\"\n",
            "INFO:httpx:HTTP Request: POST https://data-scus.graphlit.io/api/v1/graphql/ \"HTTP/1.1 200 OK\"\n",
            "INFO:httpx:HTTP Request: POST https://data-scus.graphlit.io/api/v1/graphql/ \"HTTP/1.1 200 OK\"\n",
            "INFO:httpx:HTTP Request: POST https://data-scus.graphlit.io/api/v1/graphql/ \"HTTP/1.1 200 OK\"\n",
            "INFO:httpx:HTTP Request: POST https://data-scus.graphlit.io/api/v1/graphql/ \"HTTP/1.1 200 OK\"\n",
            "INFO:httpx:HTTP Request: POST https://data-scus.graphlit.io/api/v1/graphql/ \"HTTP/1.1 200 OK\"\n",
            "INFO:httpx:HTTP Request: POST https://data-scus.graphlit.io/api/v1/graphql/ \"HTTP/1.1 200 OK\"\n",
            "INFO:httpx:HTTP Request: POST https://data-scus.graphlit.io/api/v1/graphql/ \"HTTP/1.1 200 OK\"\n",
            "INFO:httpx:HTTP Request: POST https://data-scus.graphlit.io/api/v1/graphql/ \"HTTP/1.1 200 OK\"\n",
            "INFO:httpx:HTTP Request: POST https://data-scus.graphlit.io/api/v1/graphql/ \"HTTP/1.1 200 OK\"\n",
            "INFO:httpx:HTTP Request: POST https://data-scus.graphlit.io/api/v1/graphql/ \"HTTP/1.1 200 OK\"\n",
            "INFO:httpx:HTTP Request: POST https://data-scus.graphlit.io/api/v1/graphql/ \"HTTP/1.1 200 OK\"\n",
            "INFO:httpx:HTTP Request: POST https://data-scus.graphlit.io/api/v1/graphql/ \"HTTP/1.1 200 OK\"\n",
            "INFO:httpx:HTTP Request: POST https://data-scus.graphlit.io/api/v1/graphql/ \"HTTP/1.1 200 OK\"\n",
            "INFO:httpx:HTTP Request: POST https://data-scus.graphlit.io/api/v1/graphql/ \"HTTP/1.1 200 OK\"\n",
            "INFO:httpx:HTTP Request: POST https://data-scus.graphlit.io/api/v1/graphql/ \"HTTP/1.1 200 OK\"\n"
          ]
        },
        {
          "output_type": "stream",
          "name": "stdout",
          "text": [
            "Created conversation [d603b4c7-4f5b-4790-9b48-4695e6e2971a].\n",
            "Created conversation [901c7d4e-d09b-4fe3-a1d7-390a6095f84f].\n",
            "Created conversation [6a0ea0d8-bc46-4e91-baf7-77d7fb49f628].\n",
            "Created conversation [407fba83-b72a-4084-ba09-c15311b4ea2d].\n",
            "Created conversation [65b61a0c-8276-49fd-8d86-b373f7779f01].\n",
            "Created conversation [19518e70-9586-492c-9f1b-3ccc7e51d437].\n",
            "Created conversation [44b0b9dd-edb8-4bd9-9234-4a660707e22e].\n",
            "Created conversation [f1d69ae3-27b8-4170-8c4a-9bfe414e19aa].\n",
            "Created conversation [0a615ad8-ce49-4d2a-9e02-c4c7673472a3].\n",
            "Created conversation [35e23004-a1ed-40bf-b5c6-7e490f7efbf3].\n",
            "Created conversation [e495f7b9-643d-4aa3-8921-21fadf34dd23].\n",
            "Created conversation [bda7addf-5b8f-4672-b5af-fb32cb8e8451].\n",
            "Created conversation [bf4cabfe-a5f4-4e13-a865-f2b2483c4af5].\n",
            "Created conversation [799bc2dc-423b-4c2a-88c0-b381fad8dfb6].\n",
            "Created conversation [babe89fd-a1ad-42be-844c-2dcd9d39ac33].\n",
            "Created conversation [e384446f-a7aa-4a69-8d26-a051ade9d403].\n",
            "Created conversation [45d6b77c-595b-43bf-bd85-cd81efbccb19].\n",
            "Created conversation [1de1e54c-d9ee-4dae-8f9e-65aac27ac62d].\n",
            "Created conversation [320cc90e-ea7e-439e-aaac-5d3ec42e9445].\n",
            "Created conversation [5cbc2426-8223-4041-aa5d-b069a72eedc2].\n",
            "Created conversation [fae504b2-244e-4027-8482-b3486c95b773].\n",
            "Created conversation [c91c1ba7-6a4d-44d7-a679-9719830eacba].\n",
            "Created conversation [868552fd-4926-4518-bf5c-e55ba27fcb48].\n"
          ]
        },
        {
          "output_type": "stream",
          "name": "stderr",
          "text": [
            "INFO:httpx:HTTP Request: POST https://data-scus.graphlit.io/api/v1/graphql/ \"HTTP/1.1 200 OK\"\n",
            "INFO:httpx:HTTP Request: POST https://data-scus.graphlit.io/api/v1/graphql/ \"HTTP/1.1 200 OK\"\n",
            "INFO:httpx:HTTP Request: POST https://data-scus.graphlit.io/api/v1/graphql/ \"HTTP/1.1 200 OK\"\n",
            "INFO:httpx:HTTP Request: POST https://data-scus.graphlit.io/api/v1/graphql/ \"HTTP/1.1 200 OK\"\n",
            "INFO:httpx:HTTP Request: POST https://data-scus.graphlit.io/api/v1/graphql/ \"HTTP/1.1 200 OK\"\n",
            "INFO:httpx:HTTP Request: POST https://data-scus.graphlit.io/api/v1/graphql/ \"HTTP/1.1 200 OK\"\n",
            "INFO:httpx:HTTP Request: POST https://data-scus.graphlit.io/api/v1/graphql/ \"HTTP/1.1 200 OK\"\n",
            "INFO:httpx:HTTP Request: POST https://data-scus.graphlit.io/api/v1/graphql/ \"HTTP/1.1 200 OK\"\n",
            "INFO:httpx:HTTP Request: POST https://data-scus.graphlit.io/api/v1/graphql/ \"HTTP/1.1 200 OK\"\n",
            "INFO:httpx:HTTP Request: POST https://data-scus.graphlit.io/api/v1/graphql/ \"HTTP/1.1 200 OK\"\n",
            "INFO:httpx:HTTP Request: POST https://data-scus.graphlit.io/api/v1/graphql/ \"HTTP/1.1 200 OK\"\n",
            "INFO:httpx:HTTP Request: POST https://data-scus.graphlit.io/api/v1/graphql/ \"HTTP/1.1 200 OK\"\n"
          ]
        },
        {
          "output_type": "stream",
          "name": "stdout",
          "text": [
            "Created conversation [7280fac7-850f-4e42-b9b7-c0b2a65b29f4].\n",
            "Created conversation [bc9a3436-be93-4dc2-ba86-880653c21480].\n",
            "Created conversation [792e345b-d667-4043-a251-de76c2c4ac2f].\n",
            "Created conversation [8dd592ef-4575-484e-9128-9fafe8c3428e].\n",
            "Created conversation [9806da56-6a82-4431-86a9-172011c66643].\n",
            "Created conversation [25daa94e-fe41-4881-901e-02efd910b00b].\n",
            "Created conversation [df6c261f-c7b7-4f53-9919-4fcbdfc5cf9c].\n",
            "Created conversation [28fd5d8b-3333-4666-8df5-a735af6f90a3].\n",
            "Created conversation [3e30441d-b87a-440d-b2fb-3560c561a01a].\n",
            "Created conversation [d300cbe5-8d91-4167-befd-8bdacc298f4c].\n",
            "Created conversation [5ec2d038-d1a3-4b3e-9087-39286df058a7].\n",
            "Created conversation [6c8ecb64-e63f-469f-b3c6-96e0aa8d9f42].\n"
          ]
        },
        {
          "output_type": "stream",
          "name": "stderr",
          "text": [
            "INFO:httpx:HTTP Request: POST https://data-scus.graphlit.io/api/v1/graphql/ \"HTTP/1.1 200 OK\"\n",
            "INFO:httpx:HTTP Request: POST https://data-scus.graphlit.io/api/v1/graphql/ \"HTTP/1.1 200 OK\"\n",
            "INFO:httpx:HTTP Request: POST https://data-scus.graphlit.io/api/v1/graphql/ \"HTTP/1.1 200 OK\"\n",
            "INFO:httpx:HTTP Request: POST https://data-scus.graphlit.io/api/v1/graphql/ \"HTTP/1.1 200 OK\"\n",
            "INFO:httpx:HTTP Request: POST https://data-scus.graphlit.io/api/v1/graphql/ \"HTTP/1.1 200 OK\"\n",
            "INFO:httpx:HTTP Request: POST https://data-scus.graphlit.io/api/v1/graphql/ \"HTTP/1.1 200 OK\"\n",
            "INFO:httpx:HTTP Request: POST https://data-scus.graphlit.io/api/v1/graphql/ \"HTTP/1.1 200 OK\"\n",
            "INFO:httpx:HTTP Request: POST https://data-scus.graphlit.io/api/v1/graphql/ \"HTTP/1.1 200 OK\"\n",
            "INFO:httpx:HTTP Request: POST https://data-scus.graphlit.io/api/v1/graphql/ \"HTTP/1.1 200 OK\"\n",
            "INFO:httpx:HTTP Request: POST https://data-scus.graphlit.io/api/v1/graphql/ \"HTTP/1.1 200 OK\"\n",
            "INFO:httpx:HTTP Request: POST https://data-scus.graphlit.io/api/v1/graphql/ \"HTTP/1.1 200 OK\"\n",
            "INFO:httpx:HTTP Request: POST https://data-scus.graphlit.io/api/v1/graphql/ \"HTTP/1.1 200 OK\"\n",
            "INFO:httpx:HTTP Request: POST https://data-scus.graphlit.io/api/v1/graphql/ \"HTTP/1.1 200 OK\"\n",
            "INFO:httpx:HTTP Request: POST https://data-scus.graphlit.io/api/v1/graphql/ \"HTTP/1.1 200 OK\"\n",
            "INFO:httpx:HTTP Request: POST https://data-scus.graphlit.io/api/v1/graphql/ \"HTTP/1.1 200 OK\"\n",
            "INFO:httpx:HTTP Request: POST https://data-scus.graphlit.io/api/v1/graphql/ \"HTTP/1.1 200 OK\"\n",
            "INFO:httpx:HTTP Request: POST https://data-scus.graphlit.io/api/v1/graphql/ \"HTTP/1.1 200 OK\"\n",
            "INFO:httpx:HTTP Request: POST https://data-scus.graphlit.io/api/v1/graphql/ \"HTTP/1.1 200 OK\"\n",
            "INFO:httpx:HTTP Request: POST https://data-scus.graphlit.io/api/v1/graphql/ \"HTTP/1.1 200 OK\"\n",
            "INFO:httpx:HTTP Request: POST https://data-scus.graphlit.io/api/v1/graphql/ \"HTTP/1.1 200 OK\"\n",
            "INFO:httpx:HTTP Request: POST https://data-scus.graphlit.io/api/v1/graphql/ \"HTTP/1.1 200 OK\"\n",
            "INFO:httpx:HTTP Request: POST https://data-scus.graphlit.io/api/v1/graphql/ \"HTTP/1.1 200 OK\"\n",
            "INFO:httpx:HTTP Request: POST https://data-scus.graphlit.io/api/v1/graphql/ \"HTTP/1.1 200 OK\"\n",
            "INFO:httpx:HTTP Request: POST https://data-scus.graphlit.io/api/v1/graphql/ \"HTTP/1.1 200 OK\"\n",
            "INFO:httpx:HTTP Request: POST https://data-scus.graphlit.io/api/v1/graphql/ \"HTTP/1.1 200 OK\"\n",
            "INFO:httpx:HTTP Request: POST https://data-scus.graphlit.io/api/v1/graphql/ \"HTTP/1.1 200 OK\"\n",
            "INFO:httpx:HTTP Request: POST https://data-scus.graphlit.io/api/v1/graphql/ \"HTTP/1.1 200 OK\"\n",
            "INFO:httpx:HTTP Request: POST https://data-scus.graphlit.io/api/v1/graphql/ \"HTTP/1.1 200 OK\"\n",
            "INFO:httpx:HTTP Request: POST https://data-scus.graphlit.io/api/v1/graphql/ \"HTTP/1.1 200 OK\"\n",
            "INFO:httpx:HTTP Request: POST https://data-scus.graphlit.io/api/v1/graphql/ \"HTTP/1.1 200 OK\"\n",
            "INFO:httpx:HTTP Request: POST https://data-scus.graphlit.io/api/v1/graphql/ \"HTTP/1.1 200 OK\"\n",
            "INFO:httpx:HTTP Request: POST https://data-scus.graphlit.io/api/v1/graphql/ \"HTTP/1.1 200 OK\"\n",
            "INFO:httpx:HTTP Request: POST https://data-scus.graphlit.io/api/v1/graphql/ \"HTTP/1.1 200 OK\"\n",
            "INFO:httpx:HTTP Request: POST https://data-scus.graphlit.io/api/v1/graphql/ \"HTTP/1.1 200 OK\"\n",
            "INFO:httpx:HTTP Request: POST https://data-scus.graphlit.io/api/v1/graphql/ \"HTTP/1.1 200 OK\"\n",
            "INFO:httpx:HTTP Request: POST https://data-scus.graphlit.io/api/v1/graphql/ \"HTTP/1.1 200 OK\"\n",
            "INFO:httpx:HTTP Request: POST https://data-scus.graphlit.io/api/v1/graphql/ \"HTTP/1.1 200 OK\"\n",
            "INFO:httpx:HTTP Request: POST https://data-scus.graphlit.io/api/v1/graphql/ \"HTTP/1.1 200 OK\"\n",
            "INFO:httpx:HTTP Request: POST https://data-scus.graphlit.io/api/v1/graphql/ \"HTTP/1.1 200 OK\"\n",
            "INFO:httpx:HTTP Request: POST https://data-scus.graphlit.io/api/v1/graphql/ \"HTTP/1.1 200 OK\"\n",
            "INFO:httpx:HTTP Request: POST https://data-scus.graphlit.io/api/v1/graphql/ \"HTTP/1.1 200 OK\"\n",
            "INFO:httpx:HTTP Request: POST https://data-scus.graphlit.io/api/v1/graphql/ \"HTTP/1.1 200 OK\"\n",
            "INFO:httpx:HTTP Request: POST https://data-scus.graphlit.io/api/v1/graphql/ \"HTTP/1.1 200 OK\"\n",
            "INFO:httpx:HTTP Request: POST https://data-scus.graphlit.io/api/v1/graphql/ \"HTTP/1.1 200 OK\"\n",
            "INFO:httpx:HTTP Request: POST https://data-scus.graphlit.io/api/v1/graphql/ \"HTTP/1.1 200 OK\"\n",
            "INFO:httpx:HTTP Request: POST https://data-scus.graphlit.io/api/v1/graphql/ \"HTTP/1.1 200 OK\"\n",
            "INFO:httpx:HTTP Request: POST https://data-scus.graphlit.io/api/v1/graphql/ \"HTTP/1.1 200 OK\"\n",
            "INFO:httpx:HTTP Request: POST https://data-scus.graphlit.io/api/v1/graphql/ \"HTTP/1.1 200 OK\"\n",
            "INFO:httpx:HTTP Request: POST https://data-scus.graphlit.io/api/v1/graphql/ \"HTTP/1.1 200 OK\"\n",
            "INFO:httpx:HTTP Request: POST https://data-scus.graphlit.io/api/v1/graphql/ \"HTTP/1.1 200 OK\"\n",
            "INFO:httpx:HTTP Request: POST https://data-scus.graphlit.io/api/v1/graphql/ \"HTTP/1.1 200 OK\"\n",
            "INFO:httpx:HTTP Request: POST https://data-scus.graphlit.io/api/v1/graphql/ \"HTTP/1.1 200 OK\"\n",
            "INFO:httpx:HTTP Request: POST https://data-scus.graphlit.io/api/v1/graphql/ \"HTTP/1.1 200 OK\"\n",
            "INFO:httpx:HTTP Request: POST https://data-scus.graphlit.io/api/v1/graphql/ \"HTTP/1.1 200 OK\"\n",
            "INFO:httpx:HTTP Request: POST https://data-scus.graphlit.io/api/v1/graphql/ \"HTTP/1.1 200 OK\"\n",
            "INFO:httpx:HTTP Request: POST https://data-scus.graphlit.io/api/v1/graphql/ \"HTTP/1.1 200 OK\"\n",
            "INFO:httpx:HTTP Request: POST https://data-scus.graphlit.io/api/v1/graphql/ \"HTTP/1.1 200 OK\"\n",
            "INFO:httpx:HTTP Request: POST https://data-scus.graphlit.io/api/v1/graphql/ \"HTTP/1.1 200 OK\"\n",
            "INFO:httpx:HTTP Request: POST https://data-scus.graphlit.io/api/v1/graphql/ \"HTTP/1.1 200 OK\"\n",
            "INFO:httpx:HTTP Request: POST https://data-scus.graphlit.io/api/v1/graphql/ \"HTTP/1.1 200 OK\"\n",
            "INFO:httpx:HTTP Request: POST https://data-scus.graphlit.io/api/v1/graphql/ \"HTTP/1.1 200 OK\"\n",
            "INFO:httpx:HTTP Request: POST https://data-scus.graphlit.io/api/v1/graphql/ \"HTTP/1.1 200 OK\"\n",
            "INFO:httpx:HTTP Request: POST https://data-scus.graphlit.io/api/v1/graphql/ \"HTTP/1.1 200 OK\"\n",
            "INFO:httpx:HTTP Request: POST https://data-scus.graphlit.io/api/v1/graphql/ \"HTTP/1.1 200 OK\"\n",
            "INFO:httpx:HTTP Request: POST https://data-scus.graphlit.io/api/v1/graphql/ \"HTTP/1.1 200 OK\"\n",
            "INFO:httpx:HTTP Request: POST https://data-scus.graphlit.io/api/v1/graphql/ \"HTTP/1.1 200 OK\"\n",
            "INFO:httpx:HTTP Request: POST https://data-scus.graphlit.io/api/v1/graphql/ \"HTTP/1.1 200 OK\"\n",
            "INFO:httpx:HTTP Request: POST https://data-scus.graphlit.io/api/v1/graphql/ \"HTTP/1.1 200 OK\"\n",
            "INFO:httpx:HTTP Request: POST https://data-scus.graphlit.io/api/v1/graphql/ \"HTTP/1.1 200 OK\"\n",
            "INFO:httpx:HTTP Request: POST https://data-scus.graphlit.io/api/v1/graphql/ \"HTTP/1.1 200 OK\"\n",
            "INFO:httpx:HTTP Request: POST https://data-scus.graphlit.io/api/v1/graphql/ \"HTTP/1.1 200 OK\"\n",
            "INFO:httpx:HTTP Request: POST https://data-scus.graphlit.io/api/v1/graphql/ \"HTTP/1.1 200 OK\"\n",
            "INFO:httpx:HTTP Request: POST https://data-scus.graphlit.io/api/v1/graphql/ \"HTTP/1.1 200 OK\"\n",
            "INFO:httpx:HTTP Request: POST https://data-scus.graphlit.io/api/v1/graphql/ \"HTTP/1.1 200 OK\"\n",
            "INFO:httpx:HTTP Request: POST https://data-scus.graphlit.io/api/v1/graphql/ \"HTTP/1.1 200 OK\"\n",
            "INFO:httpx:HTTP Request: POST https://data-scus.graphlit.io/api/v1/graphql/ \"HTTP/1.1 200 OK\"\n",
            "INFO:httpx:HTTP Request: POST https://data-scus.graphlit.io/api/v1/graphql/ \"HTTP/1.1 200 OK\"\n",
            "INFO:httpx:HTTP Request: POST https://data-scus.graphlit.io/api/v1/graphql/ \"HTTP/1.1 200 OK\"\n",
            "INFO:httpx:HTTP Request: POST https://data-scus.graphlit.io/api/v1/graphql/ \"HTTP/1.1 200 OK\"\n",
            "INFO:httpx:HTTP Request: POST https://data-scus.graphlit.io/api/v1/graphql/ \"HTTP/1.1 200 OK\"\n",
            "INFO:httpx:HTTP Request: POST https://data-scus.graphlit.io/api/v1/graphql/ \"HTTP/1.1 200 OK\"\n",
            "INFO:httpx:HTTP Request: POST https://data-scus.graphlit.io/api/v1/graphql/ \"HTTP/1.1 200 OK\"\n",
            "INFO:httpx:HTTP Request: POST https://data-scus.graphlit.io/api/v1/graphql/ \"HTTP/1.1 200 OK\"\n",
            "INFO:httpx:HTTP Request: POST https://data-scus.graphlit.io/api/v1/graphql/ \"HTTP/1.1 200 OK\"\n",
            "INFO:httpx:HTTP Request: POST https://data-scus.graphlit.io/api/v1/graphql/ \"HTTP/1.1 200 OK\"\n",
            "INFO:httpx:HTTP Request: POST https://data-scus.graphlit.io/api/v1/graphql/ \"HTTP/1.1 200 OK\"\n",
            "INFO:httpx:HTTP Request: POST https://data-scus.graphlit.io/api/v1/graphql/ \"HTTP/1.1 200 OK\"\n",
            "INFO:httpx:HTTP Request: POST https://data-scus.graphlit.io/api/v1/graphql/ \"HTTP/1.1 200 OK\"\n",
            "INFO:httpx:HTTP Request: POST https://data-scus.graphlit.io/api/v1/graphql/ \"HTTP/1.1 200 OK\"\n",
            "INFO:httpx:HTTP Request: POST https://data-scus.graphlit.io/api/v1/graphql/ \"HTTP/1.1 200 OK\"\n",
            "INFO:httpx:HTTP Request: POST https://data-scus.graphlit.io/api/v1/graphql/ \"HTTP/1.1 200 OK\"\n",
            "INFO:httpx:HTTP Request: POST https://data-scus.graphlit.io/api/v1/graphql/ \"HTTP/1.1 200 OK\"\n",
            "INFO:httpx:HTTP Request: POST https://data-scus.graphlit.io/api/v1/graphql/ \"HTTP/1.1 200 OK\"\n",
            "INFO:httpx:HTTP Request: POST https://data-scus.graphlit.io/api/v1/graphql/ \"HTTP/1.1 200 OK\"\n",
            "INFO:httpx:HTTP Request: POST https://data-scus.graphlit.io/api/v1/graphql/ \"HTTP/1.1 200 OK\"\n",
            "INFO:httpx:HTTP Request: POST https://data-scus.graphlit.io/api/v1/graphql/ \"HTTP/1.1 200 OK\"\n",
            "INFO:httpx:HTTP Request: POST https://data-scus.graphlit.io/api/v1/graphql/ \"HTTP/1.1 200 OK\"\n",
            "INFO:httpx:HTTP Request: POST https://data-scus.graphlit.io/api/v1/graphql/ \"HTTP/1.1 200 OK\"\n",
            "INFO:httpx:HTTP Request: POST https://data-scus.graphlit.io/api/v1/graphql/ \"HTTP/1.1 200 OK\"\n",
            "INFO:httpx:HTTP Request: POST https://data-scus.graphlit.io/api/v1/graphql/ \"HTTP/1.1 200 OK\"\n",
            "INFO:httpx:HTTP Request: POST https://data-scus.graphlit.io/api/v1/graphql/ \"HTTP/1.1 200 OK\"\n",
            "INFO:httpx:HTTP Request: POST https://data-scus.graphlit.io/api/v1/graphql/ \"HTTP/1.1 200 OK\"\n",
            "INFO:httpx:HTTP Request: POST https://data-scus.graphlit.io/api/v1/graphql/ \"HTTP/1.1 200 OK\"\n",
            "INFO:httpx:HTTP Request: POST https://data-scus.graphlit.io/api/v1/graphql/ \"HTTP/1.1 200 OK\"\n",
            "INFO:httpx:HTTP Request: POST https://data-scus.graphlit.io/api/v1/graphql/ \"HTTP/1.1 200 OK\"\n",
            "INFO:httpx:HTTP Request: POST https://data-scus.graphlit.io/api/v1/graphql/ \"HTTP/1.1 200 OK\"\n",
            "INFO:httpx:HTTP Request: POST https://data-scus.graphlit.io/api/v1/graphql/ \"HTTP/1.1 200 OK\"\n",
            "INFO:httpx:HTTP Request: POST https://data-scus.graphlit.io/api/v1/graphql/ \"HTTP/1.1 200 OK\"\n",
            "INFO:httpx:HTTP Request: POST https://data-scus.graphlit.io/api/v1/graphql/ \"HTTP/1.1 200 OK\"\n",
            "INFO:httpx:HTTP Request: POST https://data-scus.graphlit.io/api/v1/graphql/ \"HTTP/1.1 200 OK\"\n"
          ]
        }
      ]
    },
    {
      "cell_type": "code",
      "source": [
        "graphlit_responses = [\n",
        "    LLMResponse(\n",
        "        llm_answer=r, llm_context_list=[], benchmark_item=bi\n",
        "    ) for r, bi in zip(raw_graphlit_responses, benchmark.items)\n",
        "]"
      ],
      "metadata": {
        "id": "oX8zCf_4iM6i"
      },
      "execution_count": 135,
      "outputs": []
    },
    {
      "cell_type": "code",
      "source": [
        "scorer = ValidateScorer(model_evaluator=\"gpt-4-turbo\", metrics=[AnswerSimilarityMetric()])\n",
        "graphlit_run = scorer.score_run(graphlit_responses, parallelism=5)"
      ],
      "metadata": {
        "id": "9b-528OPiR3d",
        "colab": {
          "base_uri": "https://localhost:8080/"
        },
        "outputId": "488b347c-c82c-466e-def9-9890eac9f3c7"
      },
      "execution_count": 136,
      "outputs": [
        {
          "output_type": "stream",
          "name": "stderr",
          "text": [
            "Scoring responses:   0%|          | 0/55 [00:00<?, ?it/s]INFO:httpx:HTTP Request: POST https://api.openai.com/v1/chat/completions \"HTTP/1.1 200 OK\"\n",
            "Scoring responses:   2%|▏         | 1/55 [00:00<00:35,  1.51it/s]INFO:httpx:HTTP Request: POST https://api.openai.com/v1/chat/completions \"HTTP/1.1 200 OK\"\n",
            "INFO:httpx:HTTP Request: POST https://api.openai.com/v1/chat/completions \"HTTP/1.1 200 OK\"\n",
            "Scoring responses:   5%|▌         | 3/55 [00:00<00:11,  4.72it/s]INFO:httpx:HTTP Request: POST https://api.openai.com/v1/chat/completions \"HTTP/1.1 200 OK\"\n",
            "INFO:httpx:HTTP Request: POST https://api.openai.com/v1/chat/completions \"HTTP/1.1 200 OK\"\n",
            "Scoring responses:   9%|▉         | 5/55 [00:00<00:06,  7.46it/s]INFO:httpx:HTTP Request: POST https://api.openai.com/v1/chat/completions \"HTTP/1.1 200 OK\"\n",
            "INFO:httpx:HTTP Request: POST https://api.openai.com/v1/chat/completions \"HTTP/1.1 200 OK\"\n",
            "Scoring responses:  13%|█▎        | 7/55 [00:01<00:08,  5.39it/s]INFO:httpx:HTTP Request: POST https://api.openai.com/v1/chat/completions \"HTTP/1.1 200 OK\"\n",
            "INFO:httpx:HTTP Request: POST https://api.openai.com/v1/chat/completions \"HTTP/1.1 200 OK\"\n",
            "INFO:httpx:HTTP Request: POST https://api.openai.com/v1/chat/completions \"HTTP/1.1 200 OK\"\n",
            "Scoring responses:  18%|█▊        | 10/55 [00:01<00:05,  8.18it/s]INFO:httpx:HTTP Request: POST https://api.openai.com/v1/chat/completions \"HTTP/1.1 200 OK\"\n",
            "INFO:httpx:HTTP Request: POST https://api.openai.com/v1/chat/completions \"HTTP/1.1 200 OK\"\n",
            "Scoring responses:  22%|██▏       | 12/55 [00:02<00:06,  6.41it/s]INFO:httpx:HTTP Request: POST https://api.openai.com/v1/chat/completions \"HTTP/1.1 200 OK\"\n",
            "INFO:httpx:HTTP Request: POST https://api.openai.com/v1/chat/completions \"HTTP/1.1 200 OK\"\n",
            "Scoring responses:  25%|██▌       | 14/55 [00:02<00:05,  7.52it/s]INFO:httpx:HTTP Request: POST https://api.openai.com/v1/chat/completions \"HTTP/1.1 200 OK\"\n",
            "INFO:httpx:HTTP Request: POST https://api.openai.com/v1/chat/completions \"HTTP/1.1 200 OK\"\n",
            "Scoring responses:  29%|██▉       | 16/55 [00:02<00:06,  6.29it/s]INFO:httpx:HTTP Request: POST https://api.openai.com/v1/chat/completions \"HTTP/1.1 200 OK\"\n",
            "INFO:httpx:HTTP Request: POST https://api.openai.com/v1/chat/completions \"HTTP/1.1 200 OK\"\n",
            "Scoring responses:  33%|███▎      | 18/55 [00:02<00:05,  6.50it/s]INFO:httpx:HTTP Request: POST https://api.openai.com/v1/chat/completions \"HTTP/1.1 200 OK\"\n",
            "INFO:httpx:HTTP Request: POST https://api.openai.com/v1/chat/completions \"HTTP/1.1 200 OK\"\n",
            "Scoring responses:  36%|███▋      | 20/55 [00:03<00:05,  6.51it/s]INFO:httpx:HTTP Request: POST https://api.openai.com/v1/chat/completions \"HTTP/1.1 200 OK\"\n",
            "Scoring responses:  38%|███▊      | 21/55 [00:03<00:04,  6.82it/s]INFO:httpx:HTTP Request: POST https://api.openai.com/v1/chat/completions \"HTTP/1.1 200 OK\"\n",
            "Scoring responses:  40%|████      | 22/55 [00:03<00:05,  6.19it/s]INFO:httpx:HTTP Request: POST https://api.openai.com/v1/chat/completions \"HTTP/1.1 200 OK\"\n",
            "Scoring responses:  42%|████▏     | 23/55 [00:03<00:06,  5.32it/s]INFO:httpx:HTTP Request: POST https://api.openai.com/v1/chat/completions \"HTTP/1.1 200 OK\"\n",
            "INFO:httpx:HTTP Request: POST https://api.openai.com/v1/chat/completions \"HTTP/1.1 200 OK\"\n",
            "Scoring responses:  45%|████▌     | 25/55 [00:04<00:05,  5.05it/s]INFO:httpx:HTTP Request: POST https://api.openai.com/v1/chat/completions \"HTTP/1.1 200 OK\"\n",
            "INFO:httpx:HTTP Request: POST https://api.openai.com/v1/chat/completions \"HTTP/1.1 200 OK\"\n",
            "Scoring responses:  49%|████▉     | 27/55 [00:04<00:05,  5.25it/s]INFO:httpx:HTTP Request: POST https://api.openai.com/v1/chat/completions \"HTTP/1.1 200 OK\"\n",
            "INFO:httpx:HTTP Request: POST https://api.openai.com/v1/chat/completions \"HTTP/1.1 200 OK\"\n",
            "Scoring responses:  53%|█████▎    | 29/55 [00:04<00:04,  5.90it/s]INFO:httpx:HTTP Request: POST https://api.openai.com/v1/chat/completions \"HTTP/1.1 200 OK\"\n",
            "Scoring responses:  55%|█████▍    | 30/55 [00:05<00:05,  4.48it/s]INFO:httpx:HTTP Request: POST https://api.openai.com/v1/chat/completions \"HTTP/1.1 200 OK\"\n",
            "INFO:httpx:HTTP Request: POST https://api.openai.com/v1/chat/completions \"HTTP/1.1 200 OK\"\n",
            "Scoring responses:  58%|█████▊    | 32/55 [00:05<00:03,  6.20it/s]INFO:httpx:HTTP Request: POST https://api.openai.com/v1/chat/completions \"HTTP/1.1 200 OK\"\n",
            "INFO:httpx:HTTP Request: POST https://api.openai.com/v1/chat/completions \"HTTP/1.1 200 OK\"\n",
            "Scoring responses:  62%|██████▏   | 34/55 [00:05<00:04,  5.10it/s]INFO:httpx:HTTP Request: POST https://api.openai.com/v1/chat/completions \"HTTP/1.1 200 OK\"\n",
            "Scoring responses:  64%|██████▎   | 35/55 [00:06<00:04,  4.94it/s]INFO:httpx:HTTP Request: POST https://api.openai.com/v1/chat/completions \"HTTP/1.1 200 OK\"\n",
            "Scoring responses:  65%|██████▌   | 36/55 [00:06<00:05,  3.79it/s]INFO:httpx:HTTP Request: POST https://api.openai.com/v1/chat/completions \"HTTP/1.1 200 OK\"\n",
            "Scoring responses:  67%|██████▋   | 37/55 [00:06<00:04,  3.71it/s]INFO:httpx:HTTP Request: POST https://api.openai.com/v1/chat/completions \"HTTP/1.1 200 OK\"\n",
            "Scoring responses:  69%|██████▉   | 38/55 [00:07<00:04,  3.63it/s]INFO:httpx:HTTP Request: POST https://api.openai.com/v1/chat/completions \"HTTP/1.1 200 OK\"\n",
            "Scoring responses:  71%|███████   | 39/55 [00:07<00:05,  2.74it/s]INFO:httpx:HTTP Request: POST https://api.openai.com/v1/chat/completions \"HTTP/1.1 200 OK\"\n",
            "INFO:httpx:HTTP Request: POST https://api.openai.com/v1/chat/completions \"HTTP/1.1 200 OK\"\n",
            "Scoring responses:  75%|███████▍  | 41/55 [00:07<00:03,  4.19it/s]INFO:httpx:HTTP Request: POST https://api.openai.com/v1/chat/completions \"HTTP/1.1 200 OK\"\n",
            "Scoring responses:  76%|███████▋  | 42/55 [00:08<00:03,  3.31it/s]INFO:httpx:HTTP Request: POST https://api.openai.com/v1/chat/completions \"HTTP/1.1 200 OK\"\n",
            "INFO:httpx:HTTP Request: POST https://api.openai.com/v1/chat/completions \"HTTP/1.1 200 OK\"\n",
            "INFO:httpx:HTTP Request: POST https://api.openai.com/v1/chat/completions \"HTTP/1.1 200 OK\"\n",
            "Scoring responses:  82%|████████▏ | 45/55 [00:08<00:01,  5.80it/s]INFO:httpx:HTTP Request: POST https://api.openai.com/v1/chat/completions \"HTTP/1.1 200 OK\"\n",
            "INFO:httpx:HTTP Request: POST https://api.openai.com/v1/chat/completions \"HTTP/1.1 200 OK\"\n",
            "Scoring responses:  85%|████████▌ | 47/55 [00:09<00:01,  4.73it/s]INFO:httpx:HTTP Request: POST https://api.openai.com/v1/chat/completions \"HTTP/1.1 200 OK\"\n",
            "INFO:httpx:HTTP Request: POST https://api.openai.com/v1/chat/completions \"HTTP/1.1 200 OK\"\n",
            "Scoring responses:  89%|████████▉ | 49/55 [00:09<00:01,  4.63it/s]INFO:httpx:HTTP Request: POST https://api.openai.com/v1/chat/completions \"HTTP/1.1 200 OK\"\n",
            "Scoring responses:  91%|█████████ | 50/55 [00:09<00:01,  4.88it/s]INFO:httpx:HTTP Request: POST https://api.openai.com/v1/chat/completions \"HTTP/1.1 200 OK\"\n",
            "INFO:httpx:HTTP Request: POST https://api.openai.com/v1/chat/completions \"HTTP/1.1 200 OK\"\n",
            "INFO:httpx:HTTP Request: POST https://api.openai.com/v1/chat/completions \"HTTP/1.1 200 OK\"\n",
            "Scoring responses:  96%|█████████▋| 53/55 [00:10<00:00,  5.67it/s]INFO:httpx:HTTP Request: POST https://api.openai.com/v1/chat/completions \"HTTP/1.1 200 OK\"\n",
            "Scoring responses:  98%|█████████▊| 54/55 [00:10<00:00,  5.81it/s]INFO:httpx:HTTP Request: POST https://api.openai.com/v1/chat/completions \"HTTP/1.1 200 OK\"\n",
            "Scoring responses: 100%|██████████| 55/55 [00:14<00:00,  3.89it/s]\n"
          ]
        }
      ]
    },
    {
      "cell_type": "code",
      "source": [
        "graphlit_run_df = run_to_dataframe(graphlit_run)\n",
        "graphlit_run_df.to_csv(f\"{tonic_validate_directory}/graphlit_run.csv\", index=False)"
      ],
      "metadata": {
        "id": "ba9aFP33iWz-"
      },
      "execution_count": 137,
      "outputs": []
    },
    {
      "cell_type": "markdown",
      "source": [
        "Visualize Graphlit test"
      ],
      "metadata": {
        "id": "2NOIhjyhOaeM"
      }
    },
    {
      "cell_type": "code",
      "source": [
        "graphlit_answer_similarity_scores = pd.Series([x.scores[\"answer_similarity\"] for x in graphlit_run.run_data])\n",
        "category_counts = graphlit_answer_similarity_scores.value_counts()\n",
        "plt.bar(category_counts.index, category_counts.values)\n",
        "\n",
        "plt.title('Distribution of scores for graphlit')\n",
        "plt.xlabel('Score')\n",
        "plt.ylabel('Count')\n",
        "\n",
        "plt.bar(category_counts.index, category_counts.values, color='#A679C8')\n",
        "\n",
        "# Remove all scores except whole numbers\n",
        "plt.xticks(range(0, 6, 1))\n",
        "\n",
        "plt.show()"
      ],
      "metadata": {
        "id": "19lo0smiicf_",
        "colab": {
          "base_uri": "https://localhost:8080/",
          "height": 472
        },
        "outputId": "e5747d85-2243-48ab-fd98-da0fe6ad42fc"
      },
      "execution_count": 138,
      "outputs": [
        {
          "output_type": "display_data",
          "data": {
            "text/plain": [
              "<Figure size 640x480 with 1 Axes>"
            ],
            "image/png": "[encoded data removed]"
          },
          "metadata": {}
        }
      ]
    }
  ]
}