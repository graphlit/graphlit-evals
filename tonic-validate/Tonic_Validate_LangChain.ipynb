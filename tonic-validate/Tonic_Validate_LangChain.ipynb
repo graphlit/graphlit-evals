{
  "nbformat": 4,
  "nbformat_minor": 0,
  "metadata": {
    "colab": {
      "provenance": [],
      "authorship_tag": "ABX9TyN1l9xLRp96O3RlTK1Jj/Ab",
      "include_colab_link": true
    },
    "kernelspec": {
      "name": "python3",
      "display_name": "Python 3"
    },
    "language_info": {
      "name": "python"
    }
  },
  "cells": [
    {
      "cell_type": "markdown",
      "metadata": {
        "id": "view-in-github",
        "colab_type": "text"
      },
      "source": [
        "<a href=\"https://colab.research.google.com/github/graphlit/graphlit-evals/blob/main/tonic-validate/Tonic_Validate_LangChain.ipynb\" target=\"_parent\"><img src=\"https://colab.research.google.com/assets/colab-badge.svg\" alt=\"Open In Colab\"/></a>"
      ]
    },
    {
      "cell_type": "code",
      "source": [
        "!pip install --upgrade tonic_validate"
      ],
      "metadata": {
        "id": "KLtOBMHf503H",
        "colab": {
          "base_uri": "https://localhost:8080/"
        },
        "outputId": "c1a0d8e8-31e5-4d56-9762-4e7ad3def80f"
      },
      "execution_count": 19,
      "outputs": [
        {
          "output_type": "stream",
          "name": "stdout",
          "text": [
            "Requirement already satisfied: tonic_validate in /usr/local/lib/python3.10/dist-packages (4.0.6)\n",
            "Requirement already satisfied: appdirs<2.0.0,>=1.4.4 in /usr/local/lib/python3.10/dist-packages (from tonic_validate) (1.4.4)\n",
            "Requirement already satisfied: openai>=1.0.0 in /usr/local/lib/python3.10/dist-packages (from tonic_validate) (1.23.6)\n",
            "Requirement already satisfied: pydantic<3.0.0,>=2.6.4 in /usr/local/lib/python3.10/dist-packages (from tonic_validate) (2.7.0)\n",
            "Requirement already satisfied: python-dotenv<2.0.0,>=1.0.1 in /usr/local/lib/python3.10/dist-packages (from tonic_validate) (1.0.1)\n",
            "Requirement already satisfied: tiktoken<0.7.0,>=0.5.2 in /usr/local/lib/python3.10/dist-packages (from tonic_validate) (0.6.0)\n",
            "Requirement already satisfied: tqdm<5.0.0,>=4.66.2 in /usr/local/lib/python3.10/dist-packages (from tonic_validate) (4.66.2)\n",
            "Requirement already satisfied: typing-extensions<5.0.0,>=4.10.0 in /usr/local/lib/python3.10/dist-packages (from tonic_validate) (4.11.0)\n",
            "Requirement already satisfied: anyio<5,>=3.5.0 in /usr/local/lib/python3.10/dist-packages (from openai>=1.0.0->tonic_validate) (3.7.1)\n",
            "Requirement already satisfied: distro<2,>=1.7.0 in /usr/lib/python3/dist-packages (from openai>=1.0.0->tonic_validate) (1.7.0)\n",
            "Requirement already satisfied: httpx<1,>=0.23.0 in /usr/local/lib/python3.10/dist-packages (from openai>=1.0.0->tonic_validate) (0.27.0)\n",
            "Requirement already satisfied: sniffio in /usr/local/lib/python3.10/dist-packages (from openai>=1.0.0->tonic_validate) (1.3.1)\n",
            "Requirement already satisfied: annotated-types>=0.4.0 in /usr/local/lib/python3.10/dist-packages (from pydantic<3.0.0,>=2.6.4->tonic_validate) (0.6.0)\n",
            "Requirement already satisfied: pydantic-core==2.18.1 in /usr/local/lib/python3.10/dist-packages (from pydantic<3.0.0,>=2.6.4->tonic_validate) (2.18.1)\n",
            "Requirement already satisfied: regex>=2022.1.18 in /usr/local/lib/python3.10/dist-packages (from tiktoken<0.7.0,>=0.5.2->tonic_validate) (2023.12.25)\n",
            "Requirement already satisfied: requests>=2.26.0 in /usr/local/lib/python3.10/dist-packages (from tiktoken<0.7.0,>=0.5.2->tonic_validate) (2.31.0)\n",
            "Requirement already satisfied: idna>=2.8 in /usr/local/lib/python3.10/dist-packages (from anyio<5,>=3.5.0->openai>=1.0.0->tonic_validate) (3.7)\n",
            "Requirement already satisfied: exceptiongroup in /usr/local/lib/python3.10/dist-packages (from anyio<5,>=3.5.0->openai>=1.0.0->tonic_validate) (1.2.1)\n",
            "Requirement already satisfied: certifi in /usr/local/lib/python3.10/dist-packages (from httpx<1,>=0.23.0->openai>=1.0.0->tonic_validate) (2024.2.2)\n",
            "Requirement already satisfied: httpcore==1.* in /usr/local/lib/python3.10/dist-packages (from httpx<1,>=0.23.0->openai>=1.0.0->tonic_validate) (1.0.5)\n",
            "Requirement already satisfied: h11<0.15,>=0.13 in /usr/local/lib/python3.10/dist-packages (from httpcore==1.*->httpx<1,>=0.23.0->openai>=1.0.0->tonic_validate) (0.14.0)\n",
            "Requirement already satisfied: charset-normalizer<4,>=2 in /usr/local/lib/python3.10/dist-packages (from requests>=2.26.0->tiktoken<0.7.0,>=0.5.2->tonic_validate) (3.3.2)\n",
            "Requirement already satisfied: urllib3<3,>=1.21.1 in /usr/local/lib/python3.10/dist-packages (from requests>=2.26.0->tiktoken<0.7.0,>=0.5.2->tonic_validate) (2.0.7)\n"
          ]
        }
      ]
    },
    {
      "cell_type": "code",
      "source": [
        "!pip install --upgrade langchain"
      ],
      "metadata": {
        "id": "V_RDaUwCLKm8",
        "colab": {
          "base_uri": "https://localhost:8080/"
        },
        "outputId": "59158856-7cab-48b0-f388-702ccc8a2304"
      },
      "execution_count": 20,
      "outputs": [
        {
          "output_type": "stream",
          "name": "stdout",
          "text": [
            "Requirement already satisfied: langchain in /usr/local/lib/python3.10/dist-packages (0.1.16)\n",
            "Requirement already satisfied: PyYAML>=5.3 in /usr/local/lib/python3.10/dist-packages (from langchain) (6.0.1)\n",
            "Requirement already satisfied: SQLAlchemy<3,>=1.4 in /usr/local/lib/python3.10/dist-packages (from langchain) (2.0.29)\n",
            "Requirement already satisfied: aiohttp<4.0.0,>=3.8.3 in /usr/local/lib/python3.10/dist-packages (from langchain) (3.9.5)\n",
            "Requirement already satisfied: async-timeout<5.0.0,>=4.0.0 in /usr/local/lib/python3.10/dist-packages (from langchain) (4.0.3)\n",
            "Requirement already satisfied: dataclasses-json<0.7,>=0.5.7 in /usr/local/lib/python3.10/dist-packages (from langchain) (0.6.4)\n",
            "Requirement already satisfied: jsonpatch<2.0,>=1.33 in /usr/local/lib/python3.10/dist-packages (from langchain) (1.33)\n",
            "Requirement already satisfied: langchain-community<0.1,>=0.0.32 in /usr/local/lib/python3.10/dist-packages (from langchain) (0.0.34)\n",
            "Requirement already satisfied: langchain-core<0.2.0,>=0.1.42 in /usr/local/lib/python3.10/dist-packages (from langchain) (0.1.46)\n",
            "Requirement already satisfied: langchain-text-splitters<0.1,>=0.0.1 in /usr/local/lib/python3.10/dist-packages (from langchain) (0.0.1)\n",
            "Requirement already satisfied: langsmith<0.2.0,>=0.1.17 in /usr/local/lib/python3.10/dist-packages (from langchain) (0.1.51)\n",
            "Requirement already satisfied: numpy<2,>=1 in /usr/local/lib/python3.10/dist-packages (from langchain) (1.25.2)\n",
            "Requirement already satisfied: pydantic<3,>=1 in /usr/local/lib/python3.10/dist-packages (from langchain) (2.7.0)\n",
            "Requirement already satisfied: requests<3,>=2 in /usr/local/lib/python3.10/dist-packages (from langchain) (2.31.0)\n",
            "Requirement already satisfied: tenacity<9.0.0,>=8.1.0 in /usr/local/lib/python3.10/dist-packages (from langchain) (8.2.3)\n",
            "Requirement already satisfied: aiosignal>=1.1.2 in /usr/local/lib/python3.10/dist-packages (from aiohttp<4.0.0,>=3.8.3->langchain) (1.3.1)\n",
            "Requirement already satisfied: attrs>=17.3.0 in /usr/local/lib/python3.10/dist-packages (from aiohttp<4.0.0,>=3.8.3->langchain) (23.2.0)\n",
            "Requirement already satisfied: frozenlist>=1.1.1 in /usr/local/lib/python3.10/dist-packages (from aiohttp<4.0.0,>=3.8.3->langchain) (1.4.1)\n",
            "Requirement already satisfied: multidict<7.0,>=4.5 in /usr/local/lib/python3.10/dist-packages (from aiohttp<4.0.0,>=3.8.3->langchain) (6.0.5)\n",
            "Requirement already satisfied: yarl<2.0,>=1.0 in /usr/local/lib/python3.10/dist-packages (from aiohttp<4.0.0,>=3.8.3->langchain) (1.9.4)\n",
            "Requirement already satisfied: marshmallow<4.0.0,>=3.18.0 in /usr/local/lib/python3.10/dist-packages (from dataclasses-json<0.7,>=0.5.7->langchain) (3.21.1)\n",
            "Requirement already satisfied: typing-inspect<1,>=0.4.0 in /usr/local/lib/python3.10/dist-packages (from dataclasses-json<0.7,>=0.5.7->langchain) (0.9.0)\n",
            "Requirement already satisfied: jsonpointer>=1.9 in /usr/local/lib/python3.10/dist-packages (from jsonpatch<2.0,>=1.33->langchain) (2.4)\n",
            "Requirement already satisfied: packaging<24.0,>=23.2 in /usr/local/lib/python3.10/dist-packages (from langchain-core<0.2.0,>=0.1.42->langchain) (23.2)\n",
            "Requirement already satisfied: orjson<4.0.0,>=3.9.14 in /usr/local/lib/python3.10/dist-packages (from langsmith<0.2.0,>=0.1.17->langchain) (3.10.1)\n",
            "Requirement already satisfied: annotated-types>=0.4.0 in /usr/local/lib/python3.10/dist-packages (from pydantic<3,>=1->langchain) (0.6.0)\n",
            "Requirement already satisfied: pydantic-core==2.18.1 in /usr/local/lib/python3.10/dist-packages (from pydantic<3,>=1->langchain) (2.18.1)\n",
            "Requirement already satisfied: typing-extensions>=4.6.1 in /usr/local/lib/python3.10/dist-packages (from pydantic<3,>=1->langchain) (4.11.0)\n",
            "Requirement already satisfied: charset-normalizer<4,>=2 in /usr/local/lib/python3.10/dist-packages (from requests<3,>=2->langchain) (3.3.2)\n",
            "Requirement already satisfied: idna<4,>=2.5 in /usr/local/lib/python3.10/dist-packages (from requests<3,>=2->langchain) (3.7)\n",
            "Requirement already satisfied: urllib3<3,>=1.21.1 in /usr/local/lib/python3.10/dist-packages (from requests<3,>=2->langchain) (2.0.7)\n",
            "Requirement already satisfied: certifi>=2017.4.17 in /usr/local/lib/python3.10/dist-packages (from requests<3,>=2->langchain) (2024.2.2)\n",
            "Requirement already satisfied: greenlet!=0.4.17 in /usr/local/lib/python3.10/dist-packages (from SQLAlchemy<3,>=1.4->langchain) (3.0.3)\n",
            "Requirement already satisfied: mypy-extensions>=0.3.0 in /usr/local/lib/python3.10/dist-packages (from typing-inspect<1,>=0.4.0->dataclasses-json<0.7,>=0.5.7->langchain) (1.0.0)\n"
          ]
        }
      ]
    },
    {
      "cell_type": "code",
      "source": [
        "!pip install --upgrade langchain_openai"
      ],
      "metadata": {
        "colab": {
          "base_uri": "https://localhost:8080/"
        },
        "id": "JrwPUYWRtd0H",
        "outputId": "213b713b-c3c2-4263-c906-c761dd9d7ce1"
      },
      "execution_count": 21,
      "outputs": [
        {
          "output_type": "stream",
          "name": "stdout",
          "text": [
            "Requirement already satisfied: langchain_openai in /usr/local/lib/python3.10/dist-packages (0.1.4)\n",
            "Requirement already satisfied: langchain-core<0.2.0,>=0.1.46 in /usr/local/lib/python3.10/dist-packages (from langchain_openai) (0.1.46)\n",
            "Requirement already satisfied: openai<2.0.0,>=1.10.0 in /usr/local/lib/python3.10/dist-packages (from langchain_openai) (1.23.6)\n",
            "Requirement already satisfied: tiktoken<1,>=0.5.2 in /usr/local/lib/python3.10/dist-packages (from langchain_openai) (0.6.0)\n",
            "Requirement already satisfied: PyYAML>=5.3 in /usr/local/lib/python3.10/dist-packages (from langchain-core<0.2.0,>=0.1.46->langchain_openai) (6.0.1)\n",
            "Requirement already satisfied: jsonpatch<2.0,>=1.33 in /usr/local/lib/python3.10/dist-packages (from langchain-core<0.2.0,>=0.1.46->langchain_openai) (1.33)\n",
            "Requirement already satisfied: langsmith<0.2.0,>=0.1.0 in /usr/local/lib/python3.10/dist-packages (from langchain-core<0.2.0,>=0.1.46->langchain_openai) (0.1.51)\n",
            "Requirement already satisfied: packaging<24.0,>=23.2 in /usr/local/lib/python3.10/dist-packages (from langchain-core<0.2.0,>=0.1.46->langchain_openai) (23.2)\n",
            "Requirement already satisfied: pydantic<3,>=1 in /usr/local/lib/python3.10/dist-packages (from langchain-core<0.2.0,>=0.1.46->langchain_openai) (2.7.0)\n",
            "Requirement already satisfied: tenacity<9.0.0,>=8.1.0 in /usr/local/lib/python3.10/dist-packages (from langchain-core<0.2.0,>=0.1.46->langchain_openai) (8.2.3)\n",
            "Requirement already satisfied: anyio<5,>=3.5.0 in /usr/local/lib/python3.10/dist-packages (from openai<2.0.0,>=1.10.0->langchain_openai) (3.7.1)\n",
            "Requirement already satisfied: distro<2,>=1.7.0 in /usr/lib/python3/dist-packages (from openai<2.0.0,>=1.10.0->langchain_openai) (1.7.0)\n",
            "Requirement already satisfied: httpx<1,>=0.23.0 in /usr/local/lib/python3.10/dist-packages (from openai<2.0.0,>=1.10.0->langchain_openai) (0.27.0)\n",
            "Requirement already satisfied: sniffio in /usr/local/lib/python3.10/dist-packages (from openai<2.0.0,>=1.10.0->langchain_openai) (1.3.1)\n",
            "Requirement already satisfied: tqdm>4 in /usr/local/lib/python3.10/dist-packages (from openai<2.0.0,>=1.10.0->langchain_openai) (4.66.2)\n",
            "Requirement already satisfied: typing-extensions<5,>=4.7 in /usr/local/lib/python3.10/dist-packages (from openai<2.0.0,>=1.10.0->langchain_openai) (4.11.0)\n",
            "Requirement already satisfied: regex>=2022.1.18 in /usr/local/lib/python3.10/dist-packages (from tiktoken<1,>=0.5.2->langchain_openai) (2023.12.25)\n",
            "Requirement already satisfied: requests>=2.26.0 in /usr/local/lib/python3.10/dist-packages (from tiktoken<1,>=0.5.2->langchain_openai) (2.31.0)\n",
            "Requirement already satisfied: idna>=2.8 in /usr/local/lib/python3.10/dist-packages (from anyio<5,>=3.5.0->openai<2.0.0,>=1.10.0->langchain_openai) (3.7)\n",
            "Requirement already satisfied: exceptiongroup in /usr/local/lib/python3.10/dist-packages (from anyio<5,>=3.5.0->openai<2.0.0,>=1.10.0->langchain_openai) (1.2.1)\n",
            "Requirement already satisfied: certifi in /usr/local/lib/python3.10/dist-packages (from httpx<1,>=0.23.0->openai<2.0.0,>=1.10.0->langchain_openai) (2024.2.2)\n",
            "Requirement already satisfied: httpcore==1.* in /usr/local/lib/python3.10/dist-packages (from httpx<1,>=0.23.0->openai<2.0.0,>=1.10.0->langchain_openai) (1.0.5)\n",
            "Requirement already satisfied: h11<0.15,>=0.13 in /usr/local/lib/python3.10/dist-packages (from httpcore==1.*->httpx<1,>=0.23.0->openai<2.0.0,>=1.10.0->langchain_openai) (0.14.0)\n",
            "Requirement already satisfied: jsonpointer>=1.9 in /usr/local/lib/python3.10/dist-packages (from jsonpatch<2.0,>=1.33->langchain-core<0.2.0,>=0.1.46->langchain_openai) (2.4)\n",
            "Requirement already satisfied: orjson<4.0.0,>=3.9.14 in /usr/local/lib/python3.10/dist-packages (from langsmith<0.2.0,>=0.1.0->langchain-core<0.2.0,>=0.1.46->langchain_openai) (3.10.1)\n",
            "Requirement already satisfied: annotated-types>=0.4.0 in /usr/local/lib/python3.10/dist-packages (from pydantic<3,>=1->langchain-core<0.2.0,>=0.1.46->langchain_openai) (0.6.0)\n",
            "Requirement already satisfied: pydantic-core==2.18.1 in /usr/local/lib/python3.10/dist-packages (from pydantic<3,>=1->langchain-core<0.2.0,>=0.1.46->langchain_openai) (2.18.1)\n",
            "Requirement already satisfied: charset-normalizer<4,>=2 in /usr/local/lib/python3.10/dist-packages (from requests>=2.26.0->tiktoken<1,>=0.5.2->langchain_openai) (3.3.2)\n",
            "Requirement already satisfied: urllib3<3,>=1.21.1 in /usr/local/lib/python3.10/dist-packages (from requests>=2.26.0->tiktoken<1,>=0.5.2->langchain_openai) (2.0.7)\n"
          ]
        }
      ]
    },
    {
      "cell_type": "code",
      "source": [
        "!pip install --upgrade langchain-chroma"
      ],
      "metadata": {
        "colab": {
          "base_uri": "https://localhost:8080/"
        },
        "id": "ui7vS8Fvt6af",
        "outputId": "9611aa0a-d009-4a53-c0b0-0710883d730a"
      },
      "execution_count": 22,
      "outputs": [
        {
          "output_type": "stream",
          "name": "stdout",
          "text": [
            "Requirement already satisfied: langchain-chroma in /usr/local/lib/python3.10/dist-packages (0.1.0)\n",
            "Requirement already satisfied: chromadb<0.5.0,>=0.4.0 in /usr/local/lib/python3.10/dist-packages (from langchain-chroma) (0.4.24)\n",
            "Requirement already satisfied: fastapi<1,>=0.95.2 in /usr/local/lib/python3.10/dist-packages (from langchain-chroma) (0.110.2)\n",
            "Requirement already satisfied: langchain-core<0.2.0,>=0.1.40 in /usr/local/lib/python3.10/dist-packages (from langchain-chroma) (0.1.46)\n",
            "Requirement already satisfied: numpy<2,>=1 in /usr/local/lib/python3.10/dist-packages (from langchain-chroma) (1.25.2)\n",
            "Requirement already satisfied: build>=1.0.3 in /usr/local/lib/python3.10/dist-packages (from chromadb<0.5.0,>=0.4.0->langchain-chroma) (1.2.1)\n",
            "Requirement already satisfied: requests>=2.28 in /usr/local/lib/python3.10/dist-packages (from chromadb<0.5.0,>=0.4.0->langchain-chroma) (2.31.0)\n",
            "Requirement already satisfied: pydantic>=1.9 in /usr/local/lib/python3.10/dist-packages (from chromadb<0.5.0,>=0.4.0->langchain-chroma) (2.7.0)\n",
            "Requirement already satisfied: chroma-hnswlib==0.7.3 in /usr/local/lib/python3.10/dist-packages (from chromadb<0.5.0,>=0.4.0->langchain-chroma) (0.7.3)\n",
            "Requirement already satisfied: uvicorn[standard]>=0.18.3 in /usr/local/lib/python3.10/dist-packages (from chromadb<0.5.0,>=0.4.0->langchain-chroma) (0.29.0)\n",
            "Requirement already satisfied: posthog>=2.4.0 in /usr/local/lib/python3.10/dist-packages (from chromadb<0.5.0,>=0.4.0->langchain-chroma) (3.5.0)\n",
            "Requirement already satisfied: typing-extensions>=4.5.0 in /usr/local/lib/python3.10/dist-packages (from chromadb<0.5.0,>=0.4.0->langchain-chroma) (4.11.0)\n",
            "Requirement already satisfied: pulsar-client>=3.1.0 in /usr/local/lib/python3.10/dist-packages (from chromadb<0.5.0,>=0.4.0->langchain-chroma) (3.5.0)\n",
            "Requirement already satisfied: onnxruntime>=1.14.1 in /usr/local/lib/python3.10/dist-packages (from chromadb<0.5.0,>=0.4.0->langchain-chroma) (1.17.3)\n",
            "Requirement already satisfied: opentelemetry-api>=1.2.0 in /usr/local/lib/python3.10/dist-packages (from chromadb<0.5.0,>=0.4.0->langchain-chroma) (1.24.0)\n",
            "Requirement already satisfied: opentelemetry-exporter-otlp-proto-grpc>=1.2.0 in /usr/local/lib/python3.10/dist-packages (from chromadb<0.5.0,>=0.4.0->langchain-chroma) (1.24.0)\n",
            "Requirement already satisfied: opentelemetry-instrumentation-fastapi>=0.41b0 in /usr/local/lib/python3.10/dist-packages (from chromadb<0.5.0,>=0.4.0->langchain-chroma) (0.45b0)\n",
            "Requirement already satisfied: opentelemetry-sdk>=1.2.0 in /usr/local/lib/python3.10/dist-packages (from chromadb<0.5.0,>=0.4.0->langchain-chroma) (1.24.0)\n",
            "Requirement already satisfied: tokenizers>=0.13.2 in /usr/local/lib/python3.10/dist-packages (from chromadb<0.5.0,>=0.4.0->langchain-chroma) (0.19.1)\n",
            "Requirement already satisfied: pypika>=0.48.9 in /usr/local/lib/python3.10/dist-packages (from chromadb<0.5.0,>=0.4.0->langchain-chroma) (0.48.9)\n",
            "Requirement already satisfied: tqdm>=4.65.0 in /usr/local/lib/python3.10/dist-packages (from chromadb<0.5.0,>=0.4.0->langchain-chroma) (4.66.2)\n",
            "Requirement already satisfied: overrides>=7.3.1 in /usr/local/lib/python3.10/dist-packages (from chromadb<0.5.0,>=0.4.0->langchain-chroma) (7.7.0)\n",
            "Requirement already satisfied: importlib-resources in /usr/local/lib/python3.10/dist-packages (from chromadb<0.5.0,>=0.4.0->langchain-chroma) (6.4.0)\n",
            "Requirement already satisfied: grpcio>=1.58.0 in /usr/local/lib/python3.10/dist-packages (from chromadb<0.5.0,>=0.4.0->langchain-chroma) (1.62.2)\n",
            "Requirement already satisfied: bcrypt>=4.0.1 in /usr/local/lib/python3.10/dist-packages (from chromadb<0.5.0,>=0.4.0->langchain-chroma) (4.1.2)\n",
            "Requirement already satisfied: typer>=0.9.0 in /usr/local/lib/python3.10/dist-packages (from chromadb<0.5.0,>=0.4.0->langchain-chroma) (0.9.4)\n",
            "Requirement already satisfied: kubernetes>=28.1.0 in /usr/local/lib/python3.10/dist-packages (from chromadb<0.5.0,>=0.4.0->langchain-chroma) (29.0.0)\n",
            "Requirement already satisfied: tenacity>=8.2.3 in /usr/local/lib/python3.10/dist-packages (from chromadb<0.5.0,>=0.4.0->langchain-chroma) (8.2.3)\n",
            "Requirement already satisfied: PyYAML>=6.0.0 in /usr/local/lib/python3.10/dist-packages (from chromadb<0.5.0,>=0.4.0->langchain-chroma) (6.0.1)\n",
            "Requirement already satisfied: mmh3>=4.0.1 in /usr/local/lib/python3.10/dist-packages (from chromadb<0.5.0,>=0.4.0->langchain-chroma) (4.1.0)\n",
            "Requirement already satisfied: orjson>=3.9.12 in /usr/local/lib/python3.10/dist-packages (from chromadb<0.5.0,>=0.4.0->langchain-chroma) (3.10.1)\n",
            "Requirement already satisfied: starlette<0.38.0,>=0.37.2 in /usr/local/lib/python3.10/dist-packages (from fastapi<1,>=0.95.2->langchain-chroma) (0.37.2)\n",
            "Requirement already satisfied: jsonpatch<2.0,>=1.33 in /usr/local/lib/python3.10/dist-packages (from langchain-core<0.2.0,>=0.1.40->langchain-chroma) (1.33)\n",
            "Requirement already satisfied: langsmith<0.2.0,>=0.1.0 in /usr/local/lib/python3.10/dist-packages (from langchain-core<0.2.0,>=0.1.40->langchain-chroma) (0.1.51)\n",
            "Requirement already satisfied: packaging<24.0,>=23.2 in /usr/local/lib/python3.10/dist-packages (from langchain-core<0.2.0,>=0.1.40->langchain-chroma) (23.2)\n",
            "Requirement already satisfied: pyproject_hooks in /usr/local/lib/python3.10/dist-packages (from build>=1.0.3->chromadb<0.5.0,>=0.4.0->langchain-chroma) (1.0.0)\n",
            "Requirement already satisfied: tomli>=1.1.0 in /usr/local/lib/python3.10/dist-packages (from build>=1.0.3->chromadb<0.5.0,>=0.4.0->langchain-chroma) (2.0.1)\n",
            "Requirement already satisfied: jsonpointer>=1.9 in /usr/local/lib/python3.10/dist-packages (from jsonpatch<2.0,>=1.33->langchain-core<0.2.0,>=0.1.40->langchain-chroma) (2.4)\n",
            "Requirement already satisfied: certifi>=14.05.14 in /usr/local/lib/python3.10/dist-packages (from kubernetes>=28.1.0->chromadb<0.5.0,>=0.4.0->langchain-chroma) (2024.2.2)\n",
            "Requirement already satisfied: six>=1.9.0 in /usr/local/lib/python3.10/dist-packages (from kubernetes>=28.1.0->chromadb<0.5.0,>=0.4.0->langchain-chroma) (1.16.0)\n",
            "Requirement already satisfied: python-dateutil>=2.5.3 in /usr/local/lib/python3.10/dist-packages (from kubernetes>=28.1.0->chromadb<0.5.0,>=0.4.0->langchain-chroma) (2.8.2)\n",
            "Requirement already satisfied: google-auth>=1.0.1 in /usr/local/lib/python3.10/dist-packages (from kubernetes>=28.1.0->chromadb<0.5.0,>=0.4.0->langchain-chroma) (2.27.0)\n",
            "Requirement already satisfied: websocket-client!=0.40.0,!=0.41.*,!=0.42.*,>=0.32.0 in /usr/local/lib/python3.10/dist-packages (from kubernetes>=28.1.0->chromadb<0.5.0,>=0.4.0->langchain-chroma) (1.7.0)\n",
            "Requirement already satisfied: requests-oauthlib in /usr/local/lib/python3.10/dist-packages (from kubernetes>=28.1.0->chromadb<0.5.0,>=0.4.0->langchain-chroma) (1.3.1)\n",
            "Requirement already satisfied: oauthlib>=3.2.2 in /usr/local/lib/python3.10/dist-packages (from kubernetes>=28.1.0->chromadb<0.5.0,>=0.4.0->langchain-chroma) (3.2.2)\n",
            "Requirement already satisfied: urllib3>=1.24.2 in /usr/local/lib/python3.10/dist-packages (from kubernetes>=28.1.0->chromadb<0.5.0,>=0.4.0->langchain-chroma) (2.0.7)\n",
            "Requirement already satisfied: coloredlogs in /usr/local/lib/python3.10/dist-packages (from onnxruntime>=1.14.1->chromadb<0.5.0,>=0.4.0->langchain-chroma) (15.0.1)\n",
            "Requirement already satisfied: flatbuffers in /usr/local/lib/python3.10/dist-packages (from onnxruntime>=1.14.1->chromadb<0.5.0,>=0.4.0->langchain-chroma) (24.3.25)\n",
            "Requirement already satisfied: protobuf in /usr/local/lib/python3.10/dist-packages (from onnxruntime>=1.14.1->chromadb<0.5.0,>=0.4.0->langchain-chroma) (3.20.3)\n",
            "Requirement already satisfied: sympy in /usr/local/lib/python3.10/dist-packages (from onnxruntime>=1.14.1->chromadb<0.5.0,>=0.4.0->langchain-chroma) (1.12)\n",
            "Requirement already satisfied: deprecated>=1.2.6 in /usr/local/lib/python3.10/dist-packages (from opentelemetry-api>=1.2.0->chromadb<0.5.0,>=0.4.0->langchain-chroma) (1.2.14)\n",
            "Requirement already satisfied: importlib-metadata<=7.0,>=6.0 in /usr/local/lib/python3.10/dist-packages (from opentelemetry-api>=1.2.0->chromadb<0.5.0,>=0.4.0->langchain-chroma) (7.0.0)\n",
            "Requirement already satisfied: googleapis-common-protos~=1.52 in /usr/local/lib/python3.10/dist-packages (from opentelemetry-exporter-otlp-proto-grpc>=1.2.0->chromadb<0.5.0,>=0.4.0->langchain-chroma) (1.63.0)\n",
            "Requirement already satisfied: opentelemetry-exporter-otlp-proto-common==1.24.0 in /usr/local/lib/python3.10/dist-packages (from opentelemetry-exporter-otlp-proto-grpc>=1.2.0->chromadb<0.5.0,>=0.4.0->langchain-chroma) (1.24.0)\n",
            "Requirement already satisfied: opentelemetry-proto==1.24.0 in /usr/local/lib/python3.10/dist-packages (from opentelemetry-exporter-otlp-proto-grpc>=1.2.0->chromadb<0.5.0,>=0.4.0->langchain-chroma) (1.24.0)\n",
            "Requirement already satisfied: opentelemetry-instrumentation-asgi==0.45b0 in /usr/local/lib/python3.10/dist-packages (from opentelemetry-instrumentation-fastapi>=0.41b0->chromadb<0.5.0,>=0.4.0->langchain-chroma) (0.45b0)\n",
            "Requirement already satisfied: opentelemetry-instrumentation==0.45b0 in /usr/local/lib/python3.10/dist-packages (from opentelemetry-instrumentation-fastapi>=0.41b0->chromadb<0.5.0,>=0.4.0->langchain-chroma) (0.45b0)\n",
            "Requirement already satisfied: opentelemetry-semantic-conventions==0.45b0 in /usr/local/lib/python3.10/dist-packages (from opentelemetry-instrumentation-fastapi>=0.41b0->chromadb<0.5.0,>=0.4.0->langchain-chroma) (0.45b0)\n",
            "Requirement already satisfied: opentelemetry-util-http==0.45b0 in /usr/local/lib/python3.10/dist-packages (from opentelemetry-instrumentation-fastapi>=0.41b0->chromadb<0.5.0,>=0.4.0->langchain-chroma) (0.45b0)\n",
            "Requirement already satisfied: setuptools>=16.0 in /usr/local/lib/python3.10/dist-packages (from opentelemetry-instrumentation==0.45b0->opentelemetry-instrumentation-fastapi>=0.41b0->chromadb<0.5.0,>=0.4.0->langchain-chroma) (67.7.2)\n",
            "Requirement already satisfied: wrapt<2.0.0,>=1.0.0 in /usr/local/lib/python3.10/dist-packages (from opentelemetry-instrumentation==0.45b0->opentelemetry-instrumentation-fastapi>=0.41b0->chromadb<0.5.0,>=0.4.0->langchain-chroma) (1.14.1)\n",
            "Requirement already satisfied: asgiref~=3.0 in /usr/local/lib/python3.10/dist-packages (from opentelemetry-instrumentation-asgi==0.45b0->opentelemetry-instrumentation-fastapi>=0.41b0->chromadb<0.5.0,>=0.4.0->langchain-chroma) (3.8.1)\n",
            "Requirement already satisfied: monotonic>=1.5 in /usr/local/lib/python3.10/dist-packages (from posthog>=2.4.0->chromadb<0.5.0,>=0.4.0->langchain-chroma) (1.6)\n",
            "Requirement already satisfied: backoff>=1.10.0 in /usr/local/lib/python3.10/dist-packages (from posthog>=2.4.0->chromadb<0.5.0,>=0.4.0->langchain-chroma) (2.2.1)\n",
            "Requirement already satisfied: annotated-types>=0.4.0 in /usr/local/lib/python3.10/dist-packages (from pydantic>=1.9->chromadb<0.5.0,>=0.4.0->langchain-chroma) (0.6.0)\n",
            "Requirement already satisfied: pydantic-core==2.18.1 in /usr/local/lib/python3.10/dist-packages (from pydantic>=1.9->chromadb<0.5.0,>=0.4.0->langchain-chroma) (2.18.1)\n",
            "Requirement already satisfied: charset-normalizer<4,>=2 in /usr/local/lib/python3.10/dist-packages (from requests>=2.28->chromadb<0.5.0,>=0.4.0->langchain-chroma) (3.3.2)\n",
            "Requirement already satisfied: idna<4,>=2.5 in /usr/local/lib/python3.10/dist-packages (from requests>=2.28->chromadb<0.5.0,>=0.4.0->langchain-chroma) (3.7)\n",
            "Requirement already satisfied: anyio<5,>=3.4.0 in /usr/local/lib/python3.10/dist-packages (from starlette<0.38.0,>=0.37.2->fastapi<1,>=0.95.2->langchain-chroma) (3.7.1)\n",
            "Requirement already satisfied: huggingface-hub<1.0,>=0.16.4 in /usr/local/lib/python3.10/dist-packages (from tokenizers>=0.13.2->chromadb<0.5.0,>=0.4.0->langchain-chroma) (0.20.3)\n",
            "Requirement already satisfied: click<9.0.0,>=7.1.1 in /usr/local/lib/python3.10/dist-packages (from typer>=0.9.0->chromadb<0.5.0,>=0.4.0->langchain-chroma) (8.1.7)\n",
            "Requirement already satisfied: h11>=0.8 in /usr/local/lib/python3.10/dist-packages (from uvicorn[standard]>=0.18.3->chromadb<0.5.0,>=0.4.0->langchain-chroma) (0.14.0)\n",
            "Requirement already satisfied: httptools>=0.5.0 in /usr/local/lib/python3.10/dist-packages (from uvicorn[standard]>=0.18.3->chromadb<0.5.0,>=0.4.0->langchain-chroma) (0.6.1)\n",
            "Requirement already satisfied: python-dotenv>=0.13 in /usr/local/lib/python3.10/dist-packages (from uvicorn[standard]>=0.18.3->chromadb<0.5.0,>=0.4.0->langchain-chroma) (1.0.1)\n",
            "Requirement already satisfied: uvloop!=0.15.0,!=0.15.1,>=0.14.0 in /usr/local/lib/python3.10/dist-packages (from uvicorn[standard]>=0.18.3->chromadb<0.5.0,>=0.4.0->langchain-chroma) (0.19.0)\n",
            "Requirement already satisfied: watchfiles>=0.13 in /usr/local/lib/python3.10/dist-packages (from uvicorn[standard]>=0.18.3->chromadb<0.5.0,>=0.4.0->langchain-chroma) (0.21.0)\n",
            "Requirement already satisfied: websockets>=10.4 in /usr/local/lib/python3.10/dist-packages (from uvicorn[standard]>=0.18.3->chromadb<0.5.0,>=0.4.0->langchain-chroma) (12.0)\n",
            "Requirement already satisfied: sniffio>=1.1 in /usr/local/lib/python3.10/dist-packages (from anyio<5,>=3.4.0->starlette<0.38.0,>=0.37.2->fastapi<1,>=0.95.2->langchain-chroma) (1.3.1)\n",
            "Requirement already satisfied: exceptiongroup in /usr/local/lib/python3.10/dist-packages (from anyio<5,>=3.4.0->starlette<0.38.0,>=0.37.2->fastapi<1,>=0.95.2->langchain-chroma) (1.2.1)\n",
            "Requirement already satisfied: cachetools<6.0,>=2.0.0 in /usr/local/lib/python3.10/dist-packages (from google-auth>=1.0.1->kubernetes>=28.1.0->chromadb<0.5.0,>=0.4.0->langchain-chroma) (5.3.3)\n",
            "Requirement already satisfied: pyasn1-modules>=0.2.1 in /usr/local/lib/python3.10/dist-packages (from google-auth>=1.0.1->kubernetes>=28.1.0->chromadb<0.5.0,>=0.4.0->langchain-chroma) (0.4.0)\n",
            "Requirement already satisfied: rsa<5,>=3.1.4 in /usr/local/lib/python3.10/dist-packages (from google-auth>=1.0.1->kubernetes>=28.1.0->chromadb<0.5.0,>=0.4.0->langchain-chroma) (4.9)\n",
            "Requirement already satisfied: filelock in /usr/local/lib/python3.10/dist-packages (from huggingface-hub<1.0,>=0.16.4->tokenizers>=0.13.2->chromadb<0.5.0,>=0.4.0->langchain-chroma) (3.13.4)\n",
            "Requirement already satisfied: fsspec>=2023.5.0 in /usr/local/lib/python3.10/dist-packages (from huggingface-hub<1.0,>=0.16.4->tokenizers>=0.13.2->chromadb<0.5.0,>=0.4.0->langchain-chroma) (2023.6.0)\n",
            "Requirement already satisfied: zipp>=0.5 in /usr/local/lib/python3.10/dist-packages (from importlib-metadata<=7.0,>=6.0->opentelemetry-api>=1.2.0->chromadb<0.5.0,>=0.4.0->langchain-chroma) (3.18.1)\n",
            "Requirement already satisfied: humanfriendly>=9.1 in /usr/local/lib/python3.10/dist-packages (from coloredlogs->onnxruntime>=1.14.1->chromadb<0.5.0,>=0.4.0->langchain-chroma) (10.0)\n",
            "Requirement already satisfied: mpmath>=0.19 in /usr/local/lib/python3.10/dist-packages (from sympy->onnxruntime>=1.14.1->chromadb<0.5.0,>=0.4.0->langchain-chroma) (1.3.0)\n",
            "Requirement already satisfied: pyasn1<0.7.0,>=0.4.6 in /usr/local/lib/python3.10/dist-packages (from pyasn1-modules>=0.2.1->google-auth>=1.0.1->kubernetes>=28.1.0->chromadb<0.5.0,>=0.4.0->langchain-chroma) (0.6.0)\n"
          ]
        }
      ]
    },
    {
      "cell_type": "code",
      "source": [
        "!pip install --upgrade langchain-cohere"
      ],
      "metadata": {
        "colab": {
          "base_uri": "https://localhost:8080/"
        },
        "id": "pPsicI7lDVmo",
        "outputId": "fb076929-e7cb-4ccc-da0c-b0e6d1a920d3"
      },
      "execution_count": 23,
      "outputs": [
        {
          "output_type": "stream",
          "name": "stdout",
          "text": [
            "Requirement already satisfied: langchain-cohere in /usr/local/lib/python3.10/dist-packages (0.1.4)\n",
            "Requirement already satisfied: cohere<6.0,>=5.3 in /usr/local/lib/python3.10/dist-packages (from langchain-cohere) (5.3.3)\n",
            "Requirement already satisfied: langchain-core<0.2.0,>=0.1.42 in /usr/local/lib/python3.10/dist-packages (from langchain-cohere) (0.1.46)\n",
            "Requirement already satisfied: fastavro<2.0.0,>=1.9.4 in /usr/local/lib/python3.10/dist-packages (from cohere<6.0,>=5.3->langchain-cohere) (1.9.4)\n",
            "Requirement already satisfied: httpx>=0.21.2 in /usr/local/lib/python3.10/dist-packages (from cohere<6.0,>=5.3->langchain-cohere) (0.27.0)\n",
            "Requirement already satisfied: httpx-sse<0.5.0,>=0.4.0 in /usr/local/lib/python3.10/dist-packages (from cohere<6.0,>=5.3->langchain-cohere) (0.4.0)\n",
            "Requirement already satisfied: pydantic>=1.9.2 in /usr/local/lib/python3.10/dist-packages (from cohere<6.0,>=5.3->langchain-cohere) (2.7.0)\n",
            "Requirement already satisfied: requests<3.0.0,>=2.0.0 in /usr/local/lib/python3.10/dist-packages (from cohere<6.0,>=5.3->langchain-cohere) (2.31.0)\n",
            "Requirement already satisfied: tokenizers<0.20,>=0.19 in /usr/local/lib/python3.10/dist-packages (from cohere<6.0,>=5.3->langchain-cohere) (0.19.1)\n",
            "Requirement already satisfied: types-requests<3.0.0,>=2.0.0 in /usr/local/lib/python3.10/dist-packages (from cohere<6.0,>=5.3->langchain-cohere) (2.31.0.20240406)\n",
            "Requirement already satisfied: typing_extensions>=4.0.0 in /usr/local/lib/python3.10/dist-packages (from cohere<6.0,>=5.3->langchain-cohere) (4.11.0)\n",
            "Requirement already satisfied: PyYAML>=5.3 in /usr/local/lib/python3.10/dist-packages (from langchain-core<0.2.0,>=0.1.42->langchain-cohere) (6.0.1)\n",
            "Requirement already satisfied: jsonpatch<2.0,>=1.33 in /usr/local/lib/python3.10/dist-packages (from langchain-core<0.2.0,>=0.1.42->langchain-cohere) (1.33)\n",
            "Requirement already satisfied: langsmith<0.2.0,>=0.1.0 in /usr/local/lib/python3.10/dist-packages (from langchain-core<0.2.0,>=0.1.42->langchain-cohere) (0.1.51)\n",
            "Requirement already satisfied: packaging<24.0,>=23.2 in /usr/local/lib/python3.10/dist-packages (from langchain-core<0.2.0,>=0.1.42->langchain-cohere) (23.2)\n",
            "Requirement already satisfied: tenacity<9.0.0,>=8.1.0 in /usr/local/lib/python3.10/dist-packages (from langchain-core<0.2.0,>=0.1.42->langchain-cohere) (8.2.3)\n",
            "Requirement already satisfied: anyio in /usr/local/lib/python3.10/dist-packages (from httpx>=0.21.2->cohere<6.0,>=5.3->langchain-cohere) (3.7.1)\n",
            "Requirement already satisfied: certifi in /usr/local/lib/python3.10/dist-packages (from httpx>=0.21.2->cohere<6.0,>=5.3->langchain-cohere) (2024.2.2)\n",
            "Requirement already satisfied: httpcore==1.* in /usr/local/lib/python3.10/dist-packages (from httpx>=0.21.2->cohere<6.0,>=5.3->langchain-cohere) (1.0.5)\n",
            "Requirement already satisfied: idna in /usr/local/lib/python3.10/dist-packages (from httpx>=0.21.2->cohere<6.0,>=5.3->langchain-cohere) (3.7)\n",
            "Requirement already satisfied: sniffio in /usr/local/lib/python3.10/dist-packages (from httpx>=0.21.2->cohere<6.0,>=5.3->langchain-cohere) (1.3.1)\n",
            "Requirement already satisfied: h11<0.15,>=0.13 in /usr/local/lib/python3.10/dist-packages (from httpcore==1.*->httpx>=0.21.2->cohere<6.0,>=5.3->langchain-cohere) (0.14.0)\n",
            "Requirement already satisfied: jsonpointer>=1.9 in /usr/local/lib/python3.10/dist-packages (from jsonpatch<2.0,>=1.33->langchain-core<0.2.0,>=0.1.42->langchain-cohere) (2.4)\n",
            "Requirement already satisfied: orjson<4.0.0,>=3.9.14 in /usr/local/lib/python3.10/dist-packages (from langsmith<0.2.0,>=0.1.0->langchain-core<0.2.0,>=0.1.42->langchain-cohere) (3.10.1)\n",
            "Requirement already satisfied: annotated-types>=0.4.0 in /usr/local/lib/python3.10/dist-packages (from pydantic>=1.9.2->cohere<6.0,>=5.3->langchain-cohere) (0.6.0)\n",
            "Requirement already satisfied: pydantic-core==2.18.1 in /usr/local/lib/python3.10/dist-packages (from pydantic>=1.9.2->cohere<6.0,>=5.3->langchain-cohere) (2.18.1)\n",
            "Requirement already satisfied: charset-normalizer<4,>=2 in /usr/local/lib/python3.10/dist-packages (from requests<3.0.0,>=2.0.0->cohere<6.0,>=5.3->langchain-cohere) (3.3.2)\n",
            "Requirement already satisfied: urllib3<3,>=1.21.1 in /usr/local/lib/python3.10/dist-packages (from requests<3.0.0,>=2.0.0->cohere<6.0,>=5.3->langchain-cohere) (2.0.7)\n",
            "Requirement already satisfied: huggingface-hub<1.0,>=0.16.4 in /usr/local/lib/python3.10/dist-packages (from tokenizers<0.20,>=0.19->cohere<6.0,>=5.3->langchain-cohere) (0.20.3)\n",
            "Requirement already satisfied: filelock in /usr/local/lib/python3.10/dist-packages (from huggingface-hub<1.0,>=0.16.4->tokenizers<0.20,>=0.19->cohere<6.0,>=5.3->langchain-cohere) (3.13.4)\n",
            "Requirement already satisfied: fsspec>=2023.5.0 in /usr/local/lib/python3.10/dist-packages (from huggingface-hub<1.0,>=0.16.4->tokenizers<0.20,>=0.19->cohere<6.0,>=5.3->langchain-cohere) (2023.6.0)\n",
            "Requirement already satisfied: tqdm>=4.42.1 in /usr/local/lib/python3.10/dist-packages (from huggingface-hub<1.0,>=0.16.4->tokenizers<0.20,>=0.19->cohere<6.0,>=5.3->langchain-cohere) (4.66.2)\n",
            "Requirement already satisfied: exceptiongroup in /usr/local/lib/python3.10/dist-packages (from anyio->httpx>=0.21.2->cohere<6.0,>=5.3->langchain-cohere) (1.2.1)\n"
          ]
        }
      ]
    },
    {
      "cell_type": "code",
      "source": [
        "!pip install --upgrade langchainhub"
      ],
      "metadata": {
        "colab": {
          "base_uri": "https://localhost:8080/"
        },
        "id": "_neTP23ZxW2x",
        "outputId": "baedd687-0e33-454b-8948-423580f4bf2b"
      },
      "execution_count": 24,
      "outputs": [
        {
          "output_type": "stream",
          "name": "stdout",
          "text": [
            "Requirement already satisfied: langchainhub in /usr/local/lib/python3.10/dist-packages (0.1.15)\n",
            "Requirement already satisfied: requests<3,>=2 in /usr/local/lib/python3.10/dist-packages (from langchainhub) (2.31.0)\n",
            "Requirement already satisfied: types-requests<3.0.0.0,>=2.31.0.2 in /usr/local/lib/python3.10/dist-packages (from langchainhub) (2.31.0.20240406)\n",
            "Requirement already satisfied: charset-normalizer<4,>=2 in /usr/local/lib/python3.10/dist-packages (from requests<3,>=2->langchainhub) (3.3.2)\n",
            "Requirement already satisfied: idna<4,>=2.5 in /usr/local/lib/python3.10/dist-packages (from requests<3,>=2->langchainhub) (3.7)\n",
            "Requirement already satisfied: urllib3<3,>=1.21.1 in /usr/local/lib/python3.10/dist-packages (from requests<3,>=2->langchainhub) (2.0.7)\n",
            "Requirement already satisfied: certifi>=2017.4.17 in /usr/local/lib/python3.10/dist-packages (from requests<3,>=2->langchainhub) (2024.2.2)\n"
          ]
        }
      ]
    },
    {
      "cell_type": "code",
      "source": [
        "!pip install --upgrade unstructured"
      ],
      "metadata": {
        "colab": {
          "base_uri": "https://localhost:8080/"
        },
        "id": "yHYSqZoLvXLG",
        "outputId": "4e340614-f3ec-4250-bfd3-a7fdb1fb924a"
      },
      "execution_count": 25,
      "outputs": [
        {
          "output_type": "stream",
          "name": "stdout",
          "text": [
            "Requirement already satisfied: unstructured in /usr/local/lib/python3.10/dist-packages (0.13.4)\n",
            "Requirement already satisfied: chardet in /usr/local/lib/python3.10/dist-packages (from unstructured) (5.2.0)\n",
            "Requirement already satisfied: filetype in /usr/local/lib/python3.10/dist-packages (from unstructured) (1.2.0)\n",
            "Requirement already satisfied: python-magic in /usr/local/lib/python3.10/dist-packages (from unstructured) (0.4.27)\n",
            "Requirement already satisfied: lxml in /usr/local/lib/python3.10/dist-packages (from unstructured) (4.9.4)\n",
            "Requirement already satisfied: nltk in /usr/local/lib/python3.10/dist-packages (from unstructured) (3.8.1)\n",
            "Requirement already satisfied: tabulate in /usr/local/lib/python3.10/dist-packages (from unstructured) (0.9.0)\n",
            "Requirement already satisfied: requests in /usr/local/lib/python3.10/dist-packages (from unstructured) (2.31.0)\n",
            "Requirement already satisfied: beautifulsoup4 in /usr/local/lib/python3.10/dist-packages (from unstructured) (4.12.3)\n",
            "Requirement already satisfied: emoji in /usr/local/lib/python3.10/dist-packages (from unstructured) (2.11.1)\n",
            "Requirement already satisfied: dataclasses-json in /usr/local/lib/python3.10/dist-packages (from unstructured) (0.6.4)\n",
            "Requirement already satisfied: python-iso639 in /usr/local/lib/python3.10/dist-packages (from unstructured) (2024.2.7)\n",
            "Requirement already satisfied: langdetect in /usr/local/lib/python3.10/dist-packages (from unstructured) (1.0.9)\n",
            "Requirement already satisfied: numpy in /usr/local/lib/python3.10/dist-packages (from unstructured) (1.25.2)\n",
            "Requirement already satisfied: rapidfuzz in /usr/local/lib/python3.10/dist-packages (from unstructured) (3.8.1)\n",
            "Requirement already satisfied: backoff in /usr/local/lib/python3.10/dist-packages (from unstructured) (2.2.1)\n",
            "Requirement already satisfied: typing-extensions in /usr/local/lib/python3.10/dist-packages (from unstructured) (4.11.0)\n",
            "Requirement already satisfied: unstructured-client in /usr/local/lib/python3.10/dist-packages (from unstructured) (0.22.0)\n",
            "Requirement already satisfied: wrapt in /usr/local/lib/python3.10/dist-packages (from unstructured) (1.14.1)\n",
            "Requirement already satisfied: soupsieve>1.2 in /usr/local/lib/python3.10/dist-packages (from beautifulsoup4->unstructured) (2.5)\n",
            "Requirement already satisfied: marshmallow<4.0.0,>=3.18.0 in /usr/local/lib/python3.10/dist-packages (from dataclasses-json->unstructured) (3.21.1)\n",
            "Requirement already satisfied: typing-inspect<1,>=0.4.0 in /usr/local/lib/python3.10/dist-packages (from dataclasses-json->unstructured) (0.9.0)\n",
            "Requirement already satisfied: six in /usr/local/lib/python3.10/dist-packages (from langdetect->unstructured) (1.16.0)\n",
            "Requirement already satisfied: click in /usr/local/lib/python3.10/dist-packages (from nltk->unstructured) (8.1.7)\n",
            "Requirement already satisfied: joblib in /usr/local/lib/python3.10/dist-packages (from nltk->unstructured) (1.4.0)\n",
            "Requirement already satisfied: regex>=2021.8.3 in /usr/local/lib/python3.10/dist-packages (from nltk->unstructured) (2023.12.25)\n",
            "Requirement already satisfied: tqdm in /usr/local/lib/python3.10/dist-packages (from nltk->unstructured) (4.66.2)\n",
            "Requirement already satisfied: charset-normalizer<4,>=2 in /usr/local/lib/python3.10/dist-packages (from requests->unstructured) (3.3.2)\n",
            "Requirement already satisfied: idna<4,>=2.5 in /usr/local/lib/python3.10/dist-packages (from requests->unstructured) (3.7)\n",
            "Requirement already satisfied: urllib3<3,>=1.21.1 in /usr/local/lib/python3.10/dist-packages (from requests->unstructured) (2.0.7)\n",
            "Requirement already satisfied: certifi>=2017.4.17 in /usr/local/lib/python3.10/dist-packages (from requests->unstructured) (2024.2.2)\n",
            "Requirement already satisfied: deepdiff>=6.0 in /usr/local/lib/python3.10/dist-packages (from unstructured-client->unstructured) (7.0.1)\n",
            "Requirement already satisfied: jsonpath-python>=1.0.6 in /usr/local/lib/python3.10/dist-packages (from unstructured-client->unstructured) (1.0.6)\n",
            "Requirement already satisfied: mypy-extensions>=1.0.0 in /usr/local/lib/python3.10/dist-packages (from unstructured-client->unstructured) (1.0.0)\n",
            "Requirement already satisfied: packaging>=23.1 in /usr/local/lib/python3.10/dist-packages (from unstructured-client->unstructured) (23.2)\n",
            "Requirement already satisfied: pypdf>=4.0 in /usr/local/lib/python3.10/dist-packages (from unstructured-client->unstructured) (4.2.0)\n",
            "Requirement already satisfied: python-dateutil>=2.8.2 in /usr/local/lib/python3.10/dist-packages (from unstructured-client->unstructured) (2.8.2)\n",
            "Requirement already satisfied: ordered-set<4.2.0,>=4.1.0 in /usr/local/lib/python3.10/dist-packages (from deepdiff>=6.0->unstructured-client->unstructured) (4.1.0)\n"
          ]
        }
      ]
    },
    {
      "cell_type": "code",
      "source": [
        "import os\n",
        "from typing import Optional\n",
        "from tonic_validate import ValidateScorer, Benchmark, BenchmarkItem, LLMResponse, BenchmarkItem, Run\n",
        "from tonic_validate.metrics import AnswerSimilarityMetric\n",
        "from concurrent.futures import ThreadPoolExecutor\n",
        "from tqdm import tqdm\n",
        "import os\n",
        "import time\n",
        "from datetime import datetime\n",
        "import json\n",
        "import pandas as pd\n",
        "import matplotlib.pyplot as plt\n",
        "from google.colab import userdata"
      ],
      "metadata": {
        "id": "nadxflGVLSvC"
      },
      "execution_count": 26,
      "outputs": []
    },
    {
      "cell_type": "code",
      "source": [
        "from google.colab import drive\n",
        "\n",
        "drive.mount('/content/drive', force_remount=True)\n",
        "\n",
        "# configure shared, writable folder containing sample data\n",
        "tonic_validate_directory = \"/content/drive/MyDrive/Colab Notebooks/Tonic Validate\""
      ],
      "metadata": {
        "id": "zT4ZgOGB6Vtz",
        "colab": {
          "base_uri": "https://localhost:8080/"
        },
        "outputId": "d15b74a2-3ef1-44be-e15c-0b78ace482b8"
      },
      "execution_count": 27,
      "outputs": [
        {
          "output_type": "stream",
          "name": "stdout",
          "text": [
            "Mounted at /content/drive\n"
          ]
        }
      ]
    },
    {
      "cell_type": "markdown",
      "source": [
        "Initialize LangChain"
      ],
      "metadata": {
        "id": "61HAwzKwL8Yk"
      }
    },
    {
      "cell_type": "code",
      "source": [
        "from langchain.document_loaders import DirectoryLoader\n",
        "from langchain.text_splitter import RecursiveCharacterTextSplitter\n",
        "from langchain_openai import OpenAIEmbeddings\n",
        "from langchain_chroma import Chroma\n",
        "from langchain_core.output_parsers import StrOutputParser\n",
        "from langchain_core.runnables import RunnablePassthrough\n",
        "from langchain.retrievers.contextual_compression import ContextualCompressionRetriever\n",
        "from langchain_cohere import CohereRerank\n",
        "from langchain_community.llms import Cohere\n",
        "\n",
        "os.environ['OPENAI_API_KEY'] = userdata.get('OPENAI_API_KEY')\n",
        "os.environ['COHERE_API_KEY'] = userdata.get('COHERE_API_KEY')"
      ],
      "metadata": {
        "id": "v3_Fd27yLX9h"
      },
      "execution_count": 28,
      "outputs": []
    },
    {
      "cell_type": "markdown",
      "source": [
        "Load benchmark questions & answers"
      ],
      "metadata": {
        "id": "zImyrtBNMPNy"
      }
    },
    {
      "cell_type": "code",
      "source": [
        "with open(f\"{tonic_validate_directory}/Sample Data/qa_pairs.json\", \"r\") as f:\n",
        "    qa_pairs = json.load(f)\n",
        "\n",
        "# for testing\n",
        "qa_pairs = qa_pairs\n",
        "\n",
        "benchmark = Benchmark(\n",
        "    questions=[x[\"question\"] for x in qa_pairs],\n",
        "    answers=[x[\"answer\"] for x in qa_pairs]\n",
        ")\n",
        "\n",
        "def run_to_dataframe(run: Run) -> pd.DataFrame:\n",
        "    return pd.DataFrame(\n",
        "        {\n",
        "            \"reference_question\": [x.reference_question for x in run.run_data],\n",
        "            \"reference_answer\": [x.reference_answer for x in run.run_data],\n",
        "            \"llm_answer\": [x.llm_answer for x in run.run_data],\n",
        "            \"llm_context\": [json.dumps(x.llm_context) for x in run.run_data],\n",
        "            \"answer_similarity\": [x.scores[\"answer_similarity\"] for x in run.run_data]\n",
        "        }\n",
        "    )"
      ],
      "metadata": {
        "id": "AcMz7iV741mP"
      },
      "execution_count": 29,
      "outputs": []
    },
    {
      "cell_type": "markdown",
      "source": [
        "Define LangChain helper functions"
      ],
      "metadata": {
        "id": "Gy6HLRD0NPmj"
      }
    },
    {
      "cell_type": "code",
      "source": [
        "def upload_essays():\n",
        "    directory = f\"{tonic_validate_directory}/Sample Data/paul_graham_essays\"\n",
        "\n",
        "    start_time = time.time()\n",
        "\n",
        "    loader = DirectoryLoader(directory, show_progress=True)\n",
        "    docs = loader.load()\n",
        "\n",
        "    text_splitter = RecursiveCharacterTextSplitter(chunk_size=1000, chunk_overlap=200)\n",
        "    split_docs = text_splitter.split_documents(docs)\n",
        "    vectorstore = Chroma.from_documents(documents=split_docs, embedding=OpenAIEmbeddings())\n",
        "\n",
        "    duration = time.time() - start_time\n",
        "\n",
        "    current_time = datetime.now()\n",
        "    formatted_time = current_time.strftime(\"%H:%M:%S\")\n",
        "\n",
        "    print(f\"Uploading essays took {duration:.2f} seconds. Finished at {formatted_time} UTC.\")\n",
        "\n",
        "    return vectorstore"
      ],
      "metadata": {
        "id": "365VJHH9NO6h"
      },
      "execution_count": 30,
      "outputs": []
    },
    {
      "cell_type": "markdown",
      "source": [
        "Define LangChain RAG function"
      ],
      "metadata": {
        "id": "PDvIqR1wNV4F"
      }
    },
    {
      "cell_type": "code",
      "source": [
        "from langchain_openai import ChatOpenAI\n",
        "from langchain import hub\n",
        "\n",
        "def format_docs(docs):\n",
        "    return \"\\n\\n\".join(doc.page_content for doc in docs)\n",
        "\n",
        "def get_langchain_rag_response(benchmarkItem: BenchmarkItem):\n",
        "    prompt = benchmarkItem.question\n",
        "\n",
        "    llm = ChatOpenAI(model=\"gpt-4-turbo\")\n",
        "\n",
        "    rag_prompt = hub.pull(\"rlm/rag-prompt\")\n",
        "\n",
        "    rag_chain = (\n",
        "        {\"context\": retriever | format_docs, \"question\": RunnablePassthrough()}\n",
        "        | rag_prompt\n",
        "        | llm\n",
        "        | StrOutputParser()\n",
        "    )\n",
        "\n",
        "    return rag_chain.invoke(prompt)"
      ],
      "metadata": {
        "id": "COf9VDbzNM87"
      },
      "execution_count": 31,
      "outputs": []
    },
    {
      "cell_type": "markdown",
      "source": [
        "Initialize LangChain test"
      ],
      "metadata": {
        "id": "knKpHe5nNl42"
      }
    },
    {
      "cell_type": "code",
      "source": [
        "vectorstore = upload_essays()\n",
        "\n",
        "vector_retriever = vectorstore.as_retriever(search_type=\"similarity\", search_kwargs={\"k\": 10})\n",
        "\n",
        "llm = Cohere(temperature=0)\n",
        "compressor = CohereRerank()\n",
        "\n",
        "retriever = ContextualCompressionRetriever(\n",
        "    base_compressor=compressor, base_retriever=vector_retriever\n",
        ")"
      ],
      "metadata": {
        "id": "S5vv7_gMNktm",
        "colab": {
          "base_uri": "https://localhost:8080/"
        },
        "outputId": "82a86915-e5ee-4aa3-cb28-0ee1e8514c26"
      },
      "execution_count": 32,
      "outputs": [
        {
          "output_type": "stream",
          "name": "stderr",
          "text": [
            "\n",
            "  0%|          | 0/212 [00:00<?, ?it/s]\u001b[A\n",
            "  0%|          | 1/212 [00:00<00:26,  8.01it/s]\u001b[A\n",
            "  1%|          | 2/212 [00:00<00:28,  7.26it/s]\u001b[A\n",
            "  1%|▏         | 3/212 [00:01<01:33,  2.24it/s]\u001b[A\n",
            "  2%|▏         | 4/212 [00:01<01:05,  3.18it/s]\u001b[A\n",
            "  2%|▏         | 5/212 [00:01<00:57,  3.59it/s]\u001b[A\n",
            "  3%|▎         | 6/212 [00:01<00:51,  4.03it/s]\u001b[A\n",
            "  3%|▎         | 7/212 [00:01<00:47,  4.29it/s]\u001b[A\n",
            "  4%|▍         | 8/212 [00:02<00:46,  4.38it/s]\u001b[A\n",
            "  4%|▍         | 9/212 [00:02<00:43,  4.63it/s]\u001b[A\n",
            "  5%|▍         | 10/212 [00:02<00:57,  3.51it/s]\u001b[A\n",
            "  5%|▌         | 11/212 [00:03<01:14,  2.70it/s]\u001b[A\n",
            "  6%|▌         | 12/212 [00:04<01:54,  1.74it/s]\u001b[A\n",
            "  6%|▌         | 13/212 [00:04<01:44,  1.91it/s]\u001b[A\n",
            "  7%|▋         | 14/212 [00:05<01:45,  1.88it/s]\u001b[A\n",
            "  7%|▋         | 15/212 [00:05<01:24,  2.33it/s]\u001b[A\n",
            "  8%|▊         | 16/212 [00:05<01:10,  2.78it/s]\u001b[A\n",
            "  8%|▊         | 17/212 [00:05<00:58,  3.31it/s]\u001b[A\n",
            "  8%|▊         | 18/212 [00:06<00:56,  3.46it/s]\u001b[A\n",
            "  9%|▉         | 19/212 [00:06<00:50,  3.81it/s]\u001b[A\n",
            "  9%|▉         | 20/212 [00:06<00:47,  4.03it/s]\u001b[A\n",
            " 10%|▉         | 21/212 [00:06<00:40,  4.68it/s]\u001b[A\n",
            " 10%|█         | 22/212 [00:06<00:40,  4.72it/s]\u001b[A\n",
            " 11%|█         | 23/212 [00:06<00:39,  4.83it/s]\u001b[A\n",
            " 11%|█▏        | 24/212 [00:07<00:37,  4.98it/s]\u001b[A\n",
            " 12%|█▏        | 25/212 [00:07<00:41,  4.54it/s]\u001b[A\n",
            " 12%|█▏        | 26/212 [00:07<00:37,  4.98it/s]\u001b[A\n",
            " 13%|█▎        | 27/212 [00:07<00:44,  4.17it/s]\u001b[A\n",
            " 13%|█▎        | 28/212 [00:08<00:37,  4.93it/s]\u001b[A\n",
            " 14%|█▎        | 29/212 [00:08<00:33,  5.54it/s]\u001b[A\n",
            " 14%|█▍        | 30/212 [00:08<00:38,  4.76it/s]\u001b[A\n",
            " 15%|█▍        | 31/212 [00:08<00:35,  5.07it/s]\u001b[A\n",
            " 15%|█▌        | 32/212 [00:08<00:38,  4.66it/s]\u001b[A\n",
            " 16%|█▌        | 33/212 [00:09<00:34,  5.18it/s]\u001b[A\n",
            " 16%|█▌        | 34/212 [00:09<00:36,  4.85it/s]\u001b[A\n",
            " 17%|█▋        | 36/212 [00:09<00:40,  4.37it/s]\u001b[A\n",
            " 17%|█▋        | 37/212 [00:09<00:39,  4.43it/s]\u001b[A\n",
            " 18%|█▊        | 38/212 [00:10<00:44,  3.89it/s]\u001b[A\n",
            " 18%|█▊        | 39/212 [00:10<00:42,  4.08it/s]\u001b[A\n",
            " 19%|█▉        | 40/212 [00:10<00:35,  4.87it/s]\u001b[A\n",
            " 19%|█▉        | 41/212 [00:10<00:41,  4.16it/s]\u001b[A\n",
            " 20%|█▉        | 42/212 [00:11<00:36,  4.66it/s]\u001b[A\n",
            " 20%|██        | 43/212 [00:11<00:43,  3.86it/s]\u001b[A\n",
            " 21%|██        | 45/212 [00:11<00:37,  4.41it/s]\u001b[A\n",
            " 22%|██▏       | 46/212 [00:12<00:44,  3.75it/s]\u001b[A\n",
            " 22%|██▏       | 47/212 [00:12<00:39,  4.13it/s]\u001b[A\n",
            " 23%|██▎       | 48/212 [00:12<00:43,  3.78it/s]\u001b[A\n",
            " 23%|██▎       | 49/212 [00:12<00:38,  4.24it/s]\u001b[A\n",
            " 24%|██▎       | 50/212 [00:13<00:35,  4.53it/s]\u001b[A\n",
            " 25%|██▍       | 52/212 [00:13<00:24,  6.56it/s]\u001b[A\n",
            " 25%|██▌       | 53/212 [00:13<00:25,  6.15it/s]\u001b[A\n",
            " 25%|██▌       | 54/212 [00:13<00:25,  6.31it/s]\u001b[A\n",
            " 26%|██▌       | 55/212 [00:13<00:24,  6.39it/s]\u001b[A\n",
            " 26%|██▋       | 56/212 [00:13<00:22,  7.02it/s]\u001b[A\n",
            " 27%|██▋       | 58/212 [00:13<00:16,  9.13it/s]\u001b[A\n",
            " 28%|██▊       | 60/212 [00:14<00:22,  6.66it/s]\u001b[A\n",
            " 29%|██▉       | 61/212 [00:14<00:26,  5.74it/s]\u001b[A\n",
            " 29%|██▉       | 62/212 [00:14<00:27,  5.55it/s]\u001b[A\n",
            " 30%|██▉       | 63/212 [00:15<00:29,  5.04it/s]\u001b[A\n",
            " 30%|███       | 64/212 [00:15<00:27,  5.38it/s]\u001b[A\n",
            " 31%|███       | 65/212 [00:15<00:25,  5.69it/s]\u001b[A\n",
            " 32%|███▏      | 67/212 [00:15<00:21,  6.61it/s]\u001b[A\n",
            " 32%|███▏      | 68/212 [00:16<00:29,  4.92it/s]\u001b[A\n",
            " 33%|███▎      | 69/212 [00:16<00:28,  5.05it/s]\u001b[A\n",
            " 33%|███▎      | 70/212 [00:16<00:27,  5.21it/s]\u001b[A\n",
            " 33%|███▎      | 71/212 [00:16<00:30,  4.57it/s]\u001b[A\n",
            " 34%|███▍      | 73/212 [00:16<00:25,  5.52it/s]\u001b[A\n",
            " 35%|███▍      | 74/212 [00:17<00:27,  4.99it/s]\u001b[A\n",
            " 35%|███▌      | 75/212 [00:17<00:30,  4.46it/s]\u001b[A\n",
            " 36%|███▌      | 76/212 [00:17<00:29,  4.55it/s]\u001b[A\n",
            " 36%|███▋      | 77/212 [00:17<00:26,  5.03it/s]\u001b[A\n",
            " 37%|███▋      | 78/212 [00:18<00:29,  4.59it/s]\u001b[A\n",
            " 37%|███▋      | 79/212 [00:18<00:31,  4.29it/s]\u001b[A\n",
            " 38%|███▊      | 81/212 [00:18<00:25,  5.22it/s]\u001b[A\n",
            " 39%|███▊      | 82/212 [00:18<00:25,  5.04it/s]\u001b[A\n",
            " 39%|███▉      | 83/212 [00:19<00:33,  3.87it/s]\u001b[A\n",
            " 40%|███▉      | 84/212 [00:19<00:31,  4.07it/s]\u001b[A\n",
            " 40%|████      | 85/212 [00:19<00:29,  4.34it/s]\u001b[A\n",
            " 41%|████      | 87/212 [00:19<00:23,  5.42it/s]\u001b[A\n",
            " 42%|████▏     | 88/212 [00:20<00:22,  5.46it/s]\u001b[A\n",
            " 42%|████▏     | 89/212 [00:20<00:22,  5.55it/s]\u001b[A\n",
            " 42%|████▏     | 90/212 [00:20<00:20,  5.83it/s]\u001b[A\n",
            " 43%|████▎     | 91/212 [00:20<00:21,  5.68it/s]\u001b[A\n",
            " 44%|████▍     | 93/212 [00:20<00:19,  6.10it/s]\u001b[A\n",
            " 44%|████▍     | 94/212 [00:21<00:25,  4.66it/s]\u001b[A\n",
            " 45%|████▍     | 95/212 [00:21<00:30,  3.81it/s]\u001b[A\n",
            " 45%|████▌     | 96/212 [00:21<00:26,  4.35it/s]\u001b[A\n",
            " 46%|████▌     | 97/212 [00:22<00:26,  4.39it/s]\u001b[A\n",
            " 46%|████▌     | 98/212 [00:22<00:23,  4.88it/s]\u001b[A\n",
            " 47%|████▋     | 99/212 [00:22<00:20,  5.58it/s]\u001b[A\n",
            " 47%|████▋     | 100/212 [00:22<00:18,  5.97it/s]\u001b[A\n",
            " 48%|████▊     | 102/212 [00:22<00:17,  6.26it/s]\u001b[A\n",
            " 49%|████▉     | 104/212 [00:23<00:17,  6.17it/s]\u001b[A\n",
            " 50%|████▉     | 105/212 [00:23<00:18,  5.71it/s]\u001b[A\n",
            " 50%|█████     | 106/212 [00:23<00:22,  4.79it/s]\u001b[A\n",
            " 50%|█████     | 107/212 [00:24<00:26,  3.99it/s]\u001b[A\n",
            " 51%|█████▏    | 109/212 [00:24<00:23,  4.46it/s]\u001b[A\n",
            " 52%|█████▏    | 110/212 [00:24<00:27,  3.76it/s]\u001b[A\n",
            " 52%|█████▏    | 111/212 [00:24<00:23,  4.31it/s]\u001b[A\n",
            " 53%|█████▎    | 112/212 [00:25<00:23,  4.26it/s]\u001b[A\n",
            " 53%|█████▎    | 113/212 [00:25<00:26,  3.80it/s]\u001b[A\n",
            " 54%|█████▍    | 114/212 [00:25<00:28,  3.41it/s]\u001b[A\n",
            " 54%|█████▍    | 115/212 [00:26<00:25,  3.80it/s]\u001b[A\n",
            " 55%|█████▍    | 116/212 [00:26<00:20,  4.62it/s]\u001b[A\n",
            " 55%|█████▌    | 117/212 [00:26<00:25,  3.67it/s]\u001b[A\n",
            " 56%|█████▌    | 118/212 [00:26<00:23,  3.98it/s]\u001b[A\n",
            " 56%|█████▌    | 119/212 [00:26<00:21,  4.32it/s]\u001b[A\n",
            " 57%|█████▋    | 120/212 [00:27<00:20,  4.48it/s]\u001b[A\n",
            " 58%|█████▊    | 122/212 [00:27<00:13,  6.70it/s]\u001b[A\n",
            " 58%|█████▊    | 123/212 [00:27<00:14,  6.15it/s]\u001b[A\n",
            " 58%|█████▊    | 124/212 [00:27<00:16,  5.44it/s]\u001b[A\n",
            " 59%|█████▉    | 125/212 [00:27<00:15,  5.58it/s]\u001b[A\n",
            " 60%|█████▉    | 127/212 [00:28<00:13,  6.33it/s]\u001b[A\n",
            " 61%|██████    | 129/212 [00:28<00:10,  7.73it/s]\u001b[A\n",
            " 61%|██████▏   | 130/212 [00:28<00:10,  7.50it/s]\u001b[A\n",
            " 62%|██████▏   | 132/212 [00:28<00:09,  8.38it/s]\u001b[A\n",
            " 63%|██████▎   | 134/212 [00:28<00:10,  7.78it/s]\u001b[A\n",
            " 64%|██████▎   | 135/212 [00:29<00:09,  7.73it/s]\u001b[A\n",
            " 64%|██████▍   | 136/212 [00:29<00:12,  6.12it/s]\u001b[A\n",
            " 66%|██████▌   | 139/212 [00:29<00:09,  7.50it/s]\u001b[A\n",
            " 67%|██████▋   | 141/212 [00:29<00:09,  7.47it/s]\u001b[A\n",
            " 67%|██████▋   | 142/212 [00:30<00:09,  7.06it/s]\u001b[A\n",
            " 68%|██████▊   | 144/212 [00:30<00:10,  6.63it/s]\u001b[A\n",
            " 68%|██████▊   | 145/212 [00:30<00:11,  5.99it/s]\u001b[A\n",
            " 69%|██████▉   | 147/212 [00:31<00:13,  4.80it/s]\u001b[A\n",
            " 70%|███████   | 149/212 [00:31<00:10,  5.92it/s]\u001b[A\n",
            " 71%|███████   | 151/212 [00:31<00:09,  6.54it/s]\u001b[A\n",
            " 72%|███████▏  | 152/212 [00:31<00:10,  5.56it/s]\u001b[A\n",
            " 72%|███████▏  | 153/212 [00:32<00:09,  5.93it/s]\u001b[A\n",
            " 73%|███████▎  | 154/212 [00:32<00:11,  5.10it/s]\u001b[A\n",
            " 73%|███████▎  | 155/212 [00:32<00:10,  5.42it/s]\u001b[A\n",
            " 74%|███████▎  | 156/212 [00:32<00:12,  4.60it/s]\u001b[A\n",
            " 74%|███████▍  | 157/212 [00:33<00:11,  4.81it/s]\u001b[A\n",
            " 75%|███████▍  | 158/212 [00:33<00:11,  4.81it/s]\u001b[A\n",
            " 75%|███████▌  | 159/212 [00:33<00:12,  4.41it/s]\u001b[A\n",
            " 75%|███████▌  | 160/212 [00:33<00:11,  4.35it/s]\u001b[A\n",
            " 76%|███████▌  | 161/212 [00:33<00:11,  4.48it/s]\u001b[A\n",
            " 76%|███████▋  | 162/212 [00:34<00:09,  5.18it/s]\u001b[A\n",
            " 77%|███████▋  | 164/212 [00:34<00:08,  5.45it/s]\u001b[A\n",
            " 78%|███████▊  | 165/212 [00:34<00:08,  5.42it/s]\u001b[A\n",
            " 78%|███████▊  | 166/212 [00:34<00:07,  5.99it/s]\u001b[A\n",
            " 79%|███████▉  | 168/212 [00:34<00:06,  6.87it/s]\u001b[A\n",
            " 80%|███████▉  | 169/212 [00:35<00:06,  6.63it/s]\u001b[A\n",
            " 80%|████████  | 170/212 [00:35<00:08,  5.09it/s]\u001b[A\n",
            " 81%|████████  | 172/212 [00:35<00:05,  7.33it/s]\u001b[A\n",
            " 82%|████████▏ | 173/212 [00:35<00:05,  6.77it/s]\u001b[A\n",
            " 82%|████████▏ | 174/212 [00:35<00:05,  6.99it/s]\u001b[A\n",
            " 83%|████████▎ | 176/212 [00:36<00:04,  7.35it/s]\u001b[A\n",
            " 83%|████████▎ | 177/212 [00:36<00:07,  4.82it/s]\u001b[A\n",
            " 84%|████████▍ | 179/212 [00:36<00:05,  6.57it/s]\u001b[A\n",
            " 85%|████████▍ | 180/212 [00:36<00:04,  6.52it/s]\u001b[A\n",
            " 85%|████████▌ | 181/212 [00:37<00:05,  5.80it/s]\u001b[A\n",
            " 86%|████████▌ | 182/212 [00:37<00:05,  5.22it/s]\u001b[A\n",
            " 86%|████████▋ | 183/212 [00:37<00:06,  4.57it/s]\u001b[A\n",
            " 87%|████████▋ | 185/212 [00:38<00:06,  3.86it/s]\u001b[A\n",
            " 88%|████████▊ | 186/212 [00:38<00:05,  4.50it/s]\u001b[A\n",
            " 88%|████████▊ | 187/212 [00:38<00:05,  4.52it/s]\u001b[A\n",
            " 89%|████████▊ | 188/212 [00:38<00:05,  4.35it/s]\u001b[A\n",
            " 89%|████████▉ | 189/212 [00:39<00:05,  4.59it/s]\u001b[A\n",
            " 90%|████████▉ | 190/212 [00:39<00:05,  4.23it/s]\u001b[A\n",
            " 90%|█████████ | 191/212 [00:39<00:05,  3.80it/s]\u001b[A\n",
            " 91%|█████████ | 192/212 [00:39<00:04,  4.05it/s]\u001b[A\n",
            " 91%|█████████ | 193/212 [00:40<00:04,  4.45it/s]\u001b[A\n",
            " 92%|█████████▏| 194/212 [00:40<00:04,  4.47it/s]\u001b[A\n",
            " 92%|█████████▏| 196/212 [00:40<00:02,  5.85it/s]\u001b[A\n",
            " 93%|█████████▎| 197/212 [00:40<00:02,  6.52it/s]\u001b[A\n",
            " 93%|█████████▎| 198/212 [00:40<00:02,  6.22it/s]\u001b[A\n",
            " 94%|█████████▍| 200/212 [00:41<00:01,  6.29it/s]\u001b[A\n",
            " 95%|█████████▍| 201/212 [00:41<00:01,  6.78it/s]\u001b[A\n",
            " 95%|█████████▌| 202/212 [00:41<00:01,  5.78it/s]\u001b[A\n",
            " 96%|█████████▌| 203/212 [00:41<00:01,  4.94it/s]\u001b[A\n",
            " 96%|█████████▌| 204/212 [00:41<00:01,  4.79it/s]\u001b[A\n",
            " 97%|█████████▋| 205/212 [00:42<00:01,  4.41it/s]\u001b[A\n",
            " 97%|█████████▋| 206/212 [00:42<00:01,  4.74it/s]\u001b[A\n",
            " 98%|█████████▊| 208/212 [00:42<00:00,  6.82it/s]\u001b[A\n",
            " 99%|█████████▊| 209/212 [00:42<00:00,  6.66it/s]\u001b[A\n",
            " 99%|█████████▉| 210/212 [00:42<00:00,  7.27it/s]\u001b[A\n",
            "100%|██████████| 212/212 [00:43<00:00,  4.92it/s]\n",
            "INFO:httpx:HTTP Request: POST https://api.openai.com/v1/embeddings \"HTTP/1.1 200 OK\"\n",
            "INFO:httpx:HTTP Request: POST https://api.openai.com/v1/embeddings \"HTTP/1.1 200 OK\"\n",
            "INFO:httpx:HTTP Request: POST https://api.openai.com/v1/embeddings \"HTTP/1.1 200 OK\"\n",
            "INFO:httpx:HTTP Request: POST https://api.openai.com/v1/embeddings \"HTTP/1.1 200 OK\"\n",
            "INFO:httpx:HTTP Request: POST https://api.openai.com/v1/embeddings \"HTTP/1.1 200 OK\"\n"
          ]
        },
        {
          "output_type": "stream",
          "name": "stdout",
          "text": [
            "Uploading essays took 97.69 seconds. Finished at 05:41:46 UTC.\n"
          ]
        },
        {
          "output_type": "stream",
          "name": "stderr",
          "text": [
            "/usr/local/lib/python3.10/dist-packages/langchain_core/_api/deprecation.py:119: LangChainDeprecationWarning: The class `Cohere` was deprecated in LangChain 0.1.14 and will be removed in 0.2.0. An updated version of the class exists in the langchain-cohere package and should be used instead. To use it run `pip install -U langchain-cohere` and import as `from langchain_cohere import Cohere`.\n",
            "  warn_deprecated(\n"
          ]
        }
      ]
    },
    {
      "cell_type": "markdown",
      "source": [
        "Validate LangChain response"
      ],
      "metadata": {
        "id": "MyV1yTfON6Ro"
      }
    },
    {
      "cell_type": "code",
      "source": [
        "benchmark_item = BenchmarkItem(\n",
        "    question=\"What key components are necessary to create a technology hub according to Paul Graham?\",\n",
        "    answer=\"\"\n",
        ")\n",
        "\n",
        "print(get_langchain_rag_response(benchmark_item))"
      ],
      "metadata": {
        "id": "JOQxlxI9N8ER"
      },
      "execution_count": null,
      "outputs": []
    },
    {
      "cell_type": "markdown",
      "source": [
        "Perform LangChain test and score run"
      ],
      "metadata": {
        "id": "V4MXjbFYOPTB"
      }
    },
    {
      "cell_type": "code",
      "source": [
        "raw_langchain_responses = []\n",
        "for x in tqdm(benchmark.items):\n",
        "    raw_langchain_responses.append(get_langchain_rag_response(x))"
      ],
      "metadata": {
        "id": "CYxCNhFyOE81"
      },
      "execution_count": null,
      "outputs": []
    },
    {
      "cell_type": "code",
      "source": [
        "langchain_responses = [\n",
        "    LLMResponse(\n",
        "        llm_answer=r, llm_context_list=[], benchmark_item=bi\n",
        "    ) for r, bi in zip(raw_langchain_responses, benchmark.items)\n",
        "]"
      ],
      "metadata": {
        "id": "Ge-VbqahOsPL"
      },
      "execution_count": null,
      "outputs": []
    },
    {
      "cell_type": "code",
      "source": [
        "scorer = ValidateScorer(model_evaluator=\"gpt-4-turbo\", metrics=[AnswerSimilarityMetric()])\n",
        "langchain_run = scorer.score_run(langchain_responses, parallelism=5)"
      ],
      "metadata": {
        "id": "DOLEjdrUOuB9",
        "colab": {
          "base_uri": "https://localhost:8080/"
        },
        "outputId": "0f9794ce-9da4-4dd4-ef87-342028252a46"
      },
      "execution_count": 33,
      "outputs": [
        {
          "output_type": "stream",
          "name": "stderr",
          "text": [
            "\n",
            "Scoring responses:   0%|          | 0/55 [00:00<?, ?it/s]\u001b[AINFO:httpx:HTTP Request: POST https://api.openai.com/v1/chat/completions \"HTTP/1.1 200 OK\"\n",
            "\n",
            "Scoring responses:   2%|▏         | 1/55 [00:00<00:27,  1.97it/s]\u001b[AINFO:httpx:HTTP Request: POST https://api.openai.com/v1/chat/completions \"HTTP/1.1 200 OK\"\n",
            "INFO:httpx:HTTP Request: POST https://api.openai.com/v1/chat/completions \"HTTP/1.1 200 OK\"\n",
            "INFO:httpx:HTTP Request: POST https://api.openai.com/v1/chat/completions \"HTTP/1.1 200 OK\"\n",
            "\n",
            "Scoring responses:   7%|▋         | 4/55 [00:00<00:08,  6.13it/s]\u001b[AINFO:httpx:HTTP Request: POST https://api.openai.com/v1/chat/completions \"HTTP/1.1 200 OK\"\n",
            "INFO:httpx:HTTP Request: POST https://api.openai.com/v1/chat/completions \"HTTP/1.1 200 OK\"\n",
            "\n",
            "Scoring responses:  11%|█         | 6/55 [00:01<00:07,  6.85it/s]\u001b[AINFO:httpx:HTTP Request: POST https://api.openai.com/v1/chat/completions \"HTTP/1.1 200 OK\"\n",
            "INFO:httpx:HTTP Request: POST https://api.openai.com/v1/chat/completions \"HTTP/1.1 200 OK\"\n",
            "\n",
            "Scoring responses:  15%|█▍        | 8/55 [00:01<00:06,  6.83it/s]\u001b[AINFO:httpx:HTTP Request: POST https://api.openai.com/v1/chat/completions \"HTTP/1.1 200 OK\"\n",
            "INFO:httpx:HTTP Request: POST https://api.openai.com/v1/chat/completions \"HTTP/1.1 200 OK\"\n",
            "\n",
            "Scoring responses:  18%|█▊        | 10/55 [00:01<00:05,  8.02it/s]\u001b[AINFO:httpx:HTTP Request: POST https://api.openai.com/v1/chat/completions \"HTTP/1.1 200 OK\"\n",
            "INFO:httpx:HTTP Request: POST https://api.openai.com/v1/chat/completions \"HTTP/1.1 200 OK\"\n",
            "INFO:httpx:HTTP Request: POST https://api.openai.com/v1/chat/completions \"HTTP/1.1 200 OK\"\n",
            "\n",
            "Scoring responses:  24%|██▎       | 13/55 [00:01<00:04,  8.81it/s]\u001b[AINFO:httpx:HTTP Request: POST https://api.openai.com/v1/chat/completions \"HTTP/1.1 200 OK\"\n",
            "INFO:httpx:HTTP Request: POST https://api.openai.com/v1/chat/completions \"HTTP/1.1 200 OK\"\n",
            "\n",
            "Scoring responses:  27%|██▋       | 15/55 [00:01<00:04,  9.74it/s]\u001b[AINFO:httpx:HTTP Request: POST https://api.openai.com/v1/chat/completions \"HTTP/1.1 200 OK\"\n",
            "INFO:httpx:HTTP Request: POST https://api.openai.com/v1/chat/completions \"HTTP/1.1 200 OK\"\n",
            "\n",
            "Scoring responses:  31%|███       | 17/55 [00:02<00:04,  8.33it/s]\u001b[AINFO:httpx:HTTP Request: POST https://api.openai.com/v1/chat/completions \"HTTP/1.1 200 OK\"\n",
            "INFO:httpx:HTTP Request: POST https://api.openai.com/v1/chat/completions \"HTTP/1.1 200 OK\"\n",
            "INFO:httpx:HTTP Request: POST https://api.openai.com/v1/chat/completions \"HTTP/1.1 200 OK\"\n",
            "\n",
            "Scoring responses:  36%|███▋      | 20/55 [00:02<00:03,  9.17it/s]\u001b[AINFO:httpx:HTTP Request: POST https://api.openai.com/v1/chat/completions \"HTTP/1.1 200 OK\"\n",
            "INFO:httpx:HTTP Request: POST https://api.openai.com/v1/chat/completions \"HTTP/1.1 200 OK\"\n",
            "\n",
            "Scoring responses:  40%|████      | 22/55 [00:02<00:03,  8.63it/s]\u001b[AINFO:httpx:HTTP Request: POST https://api.openai.com/v1/chat/completions \"HTTP/1.1 200 OK\"\n",
            "INFO:httpx:HTTP Request: POST https://api.openai.com/v1/chat/completions \"HTTP/1.1 200 OK\"\n",
            "\n",
            "Scoring responses:  44%|████▎     | 24/55 [00:02<00:03,  8.92it/s]\u001b[AINFO:httpx:HTTP Request: POST https://api.openai.com/v1/chat/completions \"HTTP/1.1 200 OK\"\n",
            "\n",
            "Scoring responses:  45%|████▌     | 25/55 [00:03<00:04,  7.11it/s]\u001b[AINFO:httpx:HTTP Request: POST https://api.openai.com/v1/chat/completions \"HTTP/1.1 200 OK\"\n",
            "INFO:httpx:HTTP Request: POST https://api.openai.com/v1/chat/completions \"HTTP/1.1 200 OK\"\n",
            "\n",
            "Scoring responses:  49%|████▉     | 27/55 [00:03<00:03,  8.14it/s]\u001b[AINFO:httpx:HTTP Request: POST https://api.openai.com/v1/chat/completions \"HTTP/1.1 200 OK\"\n",
            "INFO:httpx:HTTP Request: POST https://api.openai.com/v1/chat/completions \"HTTP/1.1 200 OK\"\n",
            "INFO:httpx:HTTP Request: POST https://api.openai.com/v1/chat/completions \"HTTP/1.1 200 OK\"\n",
            "\n",
            "Scoring responses:  53%|█████▎    | 29/55 [00:03<00:03,  7.22it/s]\u001b[AINFO:httpx:HTTP Request: POST https://api.openai.com/v1/chat/completions \"HTTP/1.1 200 OK\"\n",
            "INFO:httpx:HTTP Request: POST https://api.openai.com/v1/chat/completions \"HTTP/1.1 200 OK\"\n",
            "\n",
            "Scoring responses:  58%|█████▊    | 32/55 [00:04<00:03,  6.42it/s]\u001b[AINFO:httpx:HTTP Request: POST https://api.openai.com/v1/chat/completions \"HTTP/1.1 200 OK\"\n",
            "INFO:httpx:HTTP Request: POST https://api.openai.com/v1/chat/completions \"HTTP/1.1 200 OK\"\n",
            "INFO:httpx:HTTP Request: POST https://api.openai.com/v1/chat/completions \"HTTP/1.1 200 OK\"\n",
            "\n",
            "Scoring responses:  64%|██████▎   | 35/55 [00:05<00:03,  5.55it/s]\u001b[AINFO:httpx:HTTP Request: POST https://api.openai.com/v1/chat/completions \"HTTP/1.1 200 OK\"\n",
            "\n",
            "Scoring responses:  65%|██████▌   | 36/55 [00:05<00:03,  5.13it/s]\u001b[AINFO:httpx:HTTP Request: POST https://api.openai.com/v1/chat/completions \"HTTP/1.1 200 OK\"\n",
            "INFO:httpx:HTTP Request: POST https://api.openai.com/v1/chat/completions \"HTTP/1.1 200 OK\"\n",
            "\n",
            "Scoring responses:  69%|██████▉   | 38/55 [00:05<00:02,  5.87it/s]\u001b[AINFO:httpx:HTTP Request: POST https://api.openai.com/v1/chat/completions \"HTTP/1.1 200 OK\"\n",
            "\n",
            "Scoring responses:  71%|███████   | 39/55 [00:05<00:03,  5.22it/s]\u001b[AINFO:httpx:HTTP Request: POST https://api.openai.com/v1/chat/completions \"HTTP/1.1 200 OK\"\n",
            "INFO:httpx:HTTP Request: POST https://api.openai.com/v1/chat/completions \"HTTP/1.1 200 OK\"\n",
            "INFO:httpx:HTTP Request: POST https://api.openai.com/v1/chat/completions \"HTTP/1.1 200 OK\"\n",
            "\n",
            "Scoring responses:  75%|███████▍  | 41/55 [00:06<00:02,  4.94it/s]\u001b[AINFO:httpx:HTTP Request: POST https://api.openai.com/v1/chat/completions \"HTTP/1.1 200 OK\"\n",
            "INFO:httpx:HTTP Request: POST https://api.openai.com/v1/chat/completions \"HTTP/1.1 200 OK\"\n",
            "\n",
            "Scoring responses:  80%|████████  | 44/55 [00:06<00:01,  7.09it/s]\u001b[AINFO:httpx:HTTP Request: POST https://api.openai.com/v1/chat/completions \"HTTP/1.1 200 OK\"\n",
            "\n",
            "Scoring responses:  82%|████████▏ | 45/55 [00:06<00:01,  6.23it/s]\u001b[AINFO:httpx:HTTP Request: POST https://api.openai.com/v1/chat/completions \"HTTP/1.1 200 OK\"\n",
            "INFO:httpx:HTTP Request: POST https://api.openai.com/v1/chat/completions \"HTTP/1.1 200 OK\"\n",
            "\n",
            "Scoring responses:  85%|████████▌ | 47/55 [00:06<00:01,  7.15it/s]\u001b[AINFO:httpx:HTTP Request: POST https://api.openai.com/v1/chat/completions \"HTTP/1.1 200 OK\"\n",
            "INFO:httpx:HTTP Request: POST https://api.openai.com/v1/chat/completions \"HTTP/1.1 200 OK\"\n",
            "\n",
            "Scoring responses:  89%|████████▉ | 49/55 [00:06<00:00,  8.76it/s]\u001b[AINFO:httpx:HTTP Request: POST https://api.openai.com/v1/chat/completions \"HTTP/1.1 200 OK\"\n",
            "INFO:httpx:HTTP Request: POST https://api.openai.com/v1/chat/completions \"HTTP/1.1 200 OK\"\n",
            "\n",
            "Scoring responses:  93%|█████████▎| 51/55 [00:07<00:00,  7.52it/s]\u001b[AINFO:httpx:HTTP Request: POST https://api.openai.com/v1/chat/completions \"HTTP/1.1 200 OK\"\n",
            "INFO:httpx:HTTP Request: POST https://api.openai.com/v1/chat/completions \"HTTP/1.1 200 OK\"\n",
            "\n",
            "Scoring responses:  96%|█████████▋| 53/55 [00:07<00:00,  9.29it/s]\u001b[AINFO:httpx:HTTP Request: POST https://api.openai.com/v1/chat/completions \"HTTP/1.1 200 OK\"\n",
            "INFO:httpx:HTTP Request: POST https://api.openai.com/v1/chat/completions \"HTTP/1.1 200 OK\"\n",
            "\n",
            "Scoring responses: 100%|██████████| 55/55 [00:07<00:00,  7.06it/s]\n"
          ]
        }
      ]
    },
    {
      "cell_type": "code",
      "source": [
        "langchain_run_df = run_to_dataframe(langchain_run)\n",
        "langchain_run_df.to_csv(f\"{tonic_validate_directory}/langchain_run.csv\", index=False)"
      ],
      "metadata": {
        "id": "7b6-QkE5Ovr4"
      },
      "execution_count": 34,
      "outputs": []
    },
    {
      "cell_type": "markdown",
      "source": [
        "Visualize LangChain test"
      ],
      "metadata": {
        "id": "RBItdeaCOoAx"
      }
    },
    {
      "cell_type": "code",
      "source": [
        "langchain_answer_similarity_scores = pd.Series([x.scores[\"answer_similarity\"] for x in langchain_run.run_data])\n",
        "category_counts = langchain_answer_similarity_scores.value_counts()\n",
        "plt.bar(category_counts.index, category_counts.values)\n",
        "\n",
        "plt.title('Distribution of scores for LangChain')\n",
        "plt.xlabel('Score')\n",
        "plt.ylabel('Count')\n",
        "\n",
        "plt.bar(category_counts.index, category_counts.values, color='#A679C8')\n",
        "\n",
        "# Remove all scores except whole numbers\n",
        "plt.xticks(range(0, 6, 1))\n",
        "\n",
        "plt.show()"
      ],
      "metadata": {
        "id": "UY3MZC5COq9r",
        "colab": {
          "base_uri": "https://localhost:8080/",
          "height": 472
        },
        "outputId": "b6211baa-e534-4cde-f5e0-a97be76781b2"
      },
      "execution_count": 35,
      "outputs": [
        {
          "output_type": "display_data",
          "data": {
            "text/plain": [
              "<Figure size 640x480 with 1 Axes>"
            ],
            "image/png": "[encoded data removed]"
          },
          "metadata": {}
        }
      ]
    }
  ]
}